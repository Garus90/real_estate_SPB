{
 "cells": [
  {
   "cell_type": "markdown",
   "metadata": {},
   "source": [
    "# Исследование объявлений о продаже квартир"
   ]
  },
  {
   "cell_type": "markdown",
   "metadata": {},
   "source": [
    "## Изучение данных из файла"
   ]
  },
  {
   "cell_type": "code",
   "execution_count": 1,
   "metadata": {},
   "outputs": [],
   "source": [
    "import pandas as pd\n",
    "import matplotlib.pyplot as plt\n",
    "import numpy as np"
   ]
  },
  {
   "cell_type": "code",
   "execution_count": 2,
   "metadata": {},
   "outputs": [],
   "source": [
    "data = pd.read_csv('/Users/ruslangayfullin/DA_New/YP/project_3_spb_flats/real_estate_data.csv', sep='\\t' )"
   ]
  },
  {
   "cell_type": "code",
   "execution_count": 3,
   "metadata": {},
   "outputs": [
    {
     "data": {
      "text/html": [
       "<div>\n",
       "<style scoped>\n",
       "    .dataframe tbody tr th:only-of-type {\n",
       "        vertical-align: middle;\n",
       "    }\n",
       "\n",
       "    .dataframe tbody tr th {\n",
       "        vertical-align: top;\n",
       "    }\n",
       "\n",
       "    .dataframe thead th {\n",
       "        text-align: right;\n",
       "    }\n",
       "</style>\n",
       "<table border=\"1\" class=\"dataframe\">\n",
       "  <thead>\n",
       "    <tr style=\"text-align: right;\">\n",
       "      <th></th>\n",
       "      <th>total_images</th>\n",
       "      <th>last_price</th>\n",
       "      <th>total_area</th>\n",
       "      <th>first_day_exposition</th>\n",
       "      <th>rooms</th>\n",
       "      <th>ceiling_height</th>\n",
       "      <th>floors_total</th>\n",
       "      <th>living_area</th>\n",
       "      <th>floor</th>\n",
       "      <th>is_apartment</th>\n",
       "      <th>...</th>\n",
       "      <th>kitchen_area</th>\n",
       "      <th>balcony</th>\n",
       "      <th>locality_name</th>\n",
       "      <th>airports_nearest</th>\n",
       "      <th>cityCenters_nearest</th>\n",
       "      <th>parks_around3000</th>\n",
       "      <th>parks_nearest</th>\n",
       "      <th>ponds_around3000</th>\n",
       "      <th>ponds_nearest</th>\n",
       "      <th>days_exposition</th>\n",
       "    </tr>\n",
       "  </thead>\n",
       "  <tbody>\n",
       "    <tr>\n",
       "      <th>0</th>\n",
       "      <td>20</td>\n",
       "      <td>13000000.0</td>\n",
       "      <td>108.0</td>\n",
       "      <td>2019-03-07T00:00:00</td>\n",
       "      <td>3</td>\n",
       "      <td>2.7</td>\n",
       "      <td>16.0</td>\n",
       "      <td>51.0</td>\n",
       "      <td>8</td>\n",
       "      <td>NaN</td>\n",
       "      <td>...</td>\n",
       "      <td>25.0</td>\n",
       "      <td>NaN</td>\n",
       "      <td>Санкт-Петербург</td>\n",
       "      <td>18863.0</td>\n",
       "      <td>16028.0</td>\n",
       "      <td>1.0</td>\n",
       "      <td>482.0</td>\n",
       "      <td>2.0</td>\n",
       "      <td>755.0</td>\n",
       "      <td>NaN</td>\n",
       "    </tr>\n",
       "    <tr>\n",
       "      <th>1</th>\n",
       "      <td>7</td>\n",
       "      <td>3350000.0</td>\n",
       "      <td>40.4</td>\n",
       "      <td>2018-12-04T00:00:00</td>\n",
       "      <td>1</td>\n",
       "      <td>NaN</td>\n",
       "      <td>11.0</td>\n",
       "      <td>18.6</td>\n",
       "      <td>1</td>\n",
       "      <td>NaN</td>\n",
       "      <td>...</td>\n",
       "      <td>11.0</td>\n",
       "      <td>2.0</td>\n",
       "      <td>посёлок Шушары</td>\n",
       "      <td>12817.0</td>\n",
       "      <td>18603.0</td>\n",
       "      <td>0.0</td>\n",
       "      <td>NaN</td>\n",
       "      <td>0.0</td>\n",
       "      <td>NaN</td>\n",
       "      <td>81.0</td>\n",
       "    </tr>\n",
       "    <tr>\n",
       "      <th>2</th>\n",
       "      <td>10</td>\n",
       "      <td>5196000.0</td>\n",
       "      <td>56.0</td>\n",
       "      <td>2015-08-20T00:00:00</td>\n",
       "      <td>2</td>\n",
       "      <td>NaN</td>\n",
       "      <td>5.0</td>\n",
       "      <td>34.3</td>\n",
       "      <td>4</td>\n",
       "      <td>NaN</td>\n",
       "      <td>...</td>\n",
       "      <td>8.3</td>\n",
       "      <td>0.0</td>\n",
       "      <td>Санкт-Петербург</td>\n",
       "      <td>21741.0</td>\n",
       "      <td>13933.0</td>\n",
       "      <td>1.0</td>\n",
       "      <td>90.0</td>\n",
       "      <td>2.0</td>\n",
       "      <td>574.0</td>\n",
       "      <td>558.0</td>\n",
       "    </tr>\n",
       "  </tbody>\n",
       "</table>\n",
       "<p>3 rows × 22 columns</p>\n",
       "</div>"
      ],
      "text/plain": [
       "   total_images  last_price  total_area first_day_exposition  rooms  \\\n",
       "0            20  13000000.0       108.0  2019-03-07T00:00:00      3   \n",
       "1             7   3350000.0        40.4  2018-12-04T00:00:00      1   \n",
       "2            10   5196000.0        56.0  2015-08-20T00:00:00      2   \n",
       "\n",
       "   ceiling_height  floors_total  living_area  floor is_apartment  ...  \\\n",
       "0             2.7          16.0         51.0      8          NaN  ...   \n",
       "1             NaN          11.0         18.6      1          NaN  ...   \n",
       "2             NaN           5.0         34.3      4          NaN  ...   \n",
       "\n",
       "   kitchen_area  balcony    locality_name  airports_nearest  \\\n",
       "0          25.0      NaN  Санкт-Петербург           18863.0   \n",
       "1          11.0      2.0   посёлок Шушары           12817.0   \n",
       "2           8.3      0.0  Санкт-Петербург           21741.0   \n",
       "\n",
       "  cityCenters_nearest  parks_around3000  parks_nearest  ponds_around3000  \\\n",
       "0             16028.0               1.0          482.0               2.0   \n",
       "1             18603.0               0.0            NaN               0.0   \n",
       "2             13933.0               1.0           90.0               2.0   \n",
       "\n",
       "   ponds_nearest  days_exposition  \n",
       "0          755.0              NaN  \n",
       "1            NaN             81.0  \n",
       "2          574.0            558.0  \n",
       "\n",
       "[3 rows x 22 columns]"
      ]
     },
     "execution_count": 3,
     "metadata": {},
     "output_type": "execute_result"
    }
   ],
   "source": [
    "data.head(3)"
   ]
  },
  {
   "cell_type": "code",
   "execution_count": 4,
   "metadata": {},
   "outputs": [
    {
     "name": "stdout",
     "output_type": "stream",
     "text": [
      "<class 'pandas.core.frame.DataFrame'>\n",
      "RangeIndex: 23699 entries, 0 to 23698\n",
      "Data columns (total 22 columns):\n",
      " #   Column                Non-Null Count  Dtype  \n",
      "---  ------                --------------  -----  \n",
      " 0   total_images          23699 non-null  int64  \n",
      " 1   last_price            23699 non-null  float64\n",
      " 2   total_area            23699 non-null  float64\n",
      " 3   first_day_exposition  23699 non-null  object \n",
      " 4   rooms                 23699 non-null  int64  \n",
      " 5   ceiling_height        14504 non-null  float64\n",
      " 6   floors_total          23613 non-null  float64\n",
      " 7   living_area           21796 non-null  float64\n",
      " 8   floor                 23699 non-null  int64  \n",
      " 9   is_apartment          2775 non-null   object \n",
      " 10  studio                23699 non-null  bool   \n",
      " 11  open_plan             23699 non-null  bool   \n",
      " 12  kitchen_area          21421 non-null  float64\n",
      " 13  balcony               12180 non-null  float64\n",
      " 14  locality_name         23650 non-null  object \n",
      " 15  airports_nearest      18157 non-null  float64\n",
      " 16  cityCenters_nearest   18180 non-null  float64\n",
      " 17  parks_around3000      18181 non-null  float64\n",
      " 18  parks_nearest         8079 non-null   float64\n",
      " 19  ponds_around3000      18181 non-null  float64\n",
      " 20  ponds_nearest         9110 non-null   float64\n",
      " 21  days_exposition       20518 non-null  float64\n",
      "dtypes: bool(2), float64(14), int64(3), object(3)\n",
      "memory usage: 3.7+ MB\n"
     ]
    }
   ],
   "source": [
    "data.info()"
   ]
  },
  {
   "cell_type": "markdown",
   "metadata": {},
   "source": [
    "<b> По результатам первичного изучения данных из файла можно установить следующие факторы: </b>\n",
    "- в датасете присутствует 23699 записей о квартирах в Санкт-Петербурге\n",
    "- у каждой записи о квартире есть 22 параметра\n",
    "- в датасете присутствуют пропущенные значения в категориях: `ceiling_height` , `floors_total`,`living_area`, `is_apartment`, `kitchen_area`,`balcony`,`locality_name`, `airports_nearest`,`parks_around3000`,`parks_nearest`, `ponds_around3000 `,`days_exposition`\n",
    "- значания столбца` first_day_exposition` записаны имеют тип данных \"object\", не смотря на то, что это показатель времени\n",
    "- значения столбца `\"is_apartement\"` также имеют тип данных 'object', при этом они отражают принадлежность квартиры к категории \"апартаменты\""
   ]
  },
  {
   "cell_type": "markdown",
   "metadata": {},
   "source": [
    "## Предобработка данных"
   ]
  },
  {
   "cell_type": "markdown",
   "metadata": {},
   "source": [
    "- Определение и изучение пропущенных значений\n",
    "- Заполнение пропусков, определение причин, которые могли привести к пропускам в данных\n",
    "- Приведите данные к нужным типам"
   ]
  },
  {
   "cell_type": "code",
   "execution_count": 5,
   "metadata": {},
   "outputs": [],
   "source": [
    "#переименуем некорректное название столбца\n",
    "data = data.rename(columns={'cityCenters_nearest':'city_centers_nearest'})"
   ]
  },
  {
   "cell_type": "markdown",
   "metadata": {},
   "source": [
    "Для начала проверим на дубликаты единственную текстовую инфромацию в датасете - название населенного пункта"
   ]
  },
  {
   "cell_type": "code",
   "execution_count": 6,
   "metadata": {},
   "outputs": [
    {
     "data": {
      "text/plain": [
       "['Санкт-Петербург',\n",
       " 'посёлок Шушары',\n",
       " 'городской посёлок Янино-1',\n",
       " 'посёлок Парголово',\n",
       " 'посёлок Мурино',\n",
       " 'Ломоносов',\n",
       " 'Сертолово',\n",
       " 'Петергоф',\n",
       " 'Пушкин',\n",
       " 'деревня Кудрово',\n",
       " 'Коммунар',\n",
       " 'Колпино',\n",
       " 'поселок городского типа Красный Бор',\n",
       " 'Гатчина',\n",
       " 'поселок Мурино',\n",
       " 'деревня Фёдоровское',\n",
       " 'Выборг',\n",
       " 'Кронштадт',\n",
       " 'Кировск',\n",
       " 'деревня Новое Девяткино',\n",
       " 'посёлок Металлострой',\n",
       " 'посёлок городского типа Лебяжье',\n",
       " 'посёлок городского типа Сиверский',\n",
       " 'поселок Молодцово',\n",
       " 'поселок городского типа Кузьмоловский',\n",
       " 'садовое товарищество Новая Ропша',\n",
       " 'Павловск',\n",
       " 'деревня Пикколово',\n",
       " 'Всеволожск',\n",
       " 'Волхов',\n",
       " 'Кингисепп',\n",
       " 'Приозерск',\n",
       " 'Сестрорецк',\n",
       " 'деревня Куттузи',\n",
       " 'посёлок Аннино',\n",
       " 'поселок городского типа Ефимовский',\n",
       " 'посёлок Плодовое',\n",
       " 'деревня Заклинье',\n",
       " 'поселок Торковичи',\n",
       " 'поселок Первомайское',\n",
       " 'Красное Село',\n",
       " 'посёлок Понтонный',\n",
       " 'Сясьстрой',\n",
       " 'деревня Старая',\n",
       " 'деревня Лесколово',\n",
       " 'посёлок Новый Свет',\n",
       " 'Сланцы',\n",
       " 'село Путилово',\n",
       " 'Ивангород',\n",
       " 'Мурино',\n",
       " 'Шлиссельбург',\n",
       " 'Никольское',\n",
       " 'Зеленогорск',\n",
       " 'Сосновый Бор',\n",
       " 'поселок Новый Свет',\n",
       " 'деревня Оржицы',\n",
       " 'деревня Кальтино',\n",
       " 'Кудрово',\n",
       " 'поселок Романовка',\n",
       " 'посёлок Бугры',\n",
       " 'поселок Бугры',\n",
       " 'поселок городского типа Рощино',\n",
       " 'Кириши',\n",
       " 'Луга',\n",
       " 'Волосово',\n",
       " 'Отрадное',\n",
       " 'село Павлово',\n",
       " 'поселок Оредеж',\n",
       " 'село Копорье',\n",
       " 'посёлок городского типа Красный Бор',\n",
       " 'посёлок Молодёжное',\n",
       " 'Тихвин',\n",
       " 'посёлок Победа',\n",
       " 'деревня Нурма',\n",
       " 'поселок городского типа Синявино',\n",
       " 'Тосно',\n",
       " 'посёлок городского типа Кузьмоловский',\n",
       " 'посёлок Стрельна',\n",
       " 'Бокситогорск',\n",
       " 'посёлок Александровская',\n",
       " 'деревня Лопухинка',\n",
       " 'Пикалёво',\n",
       " 'поселок Терволово',\n",
       " 'поселок городского типа Советский',\n",
       " 'Подпорожье',\n",
       " 'посёлок Петровское',\n",
       " 'посёлок городского типа Токсово',\n",
       " 'поселок Сельцо',\n",
       " 'посёлок городского типа Вырица',\n",
       " 'деревня Кипень',\n",
       " 'деревня Келози',\n",
       " 'деревня Вартемяги',\n",
       " 'посёлок Тельмана',\n",
       " 'поселок Севастьяново',\n",
       " 'городской поселок Большая Ижора',\n",
       " nan,\n",
       " 'городской посёлок Павлово',\n",
       " 'деревня Агалатово',\n",
       " 'посёлок Новогорелово',\n",
       " 'городской посёлок Лесогорский',\n",
       " 'деревня Лаголово',\n",
       " 'поселок Цвелодубово',\n",
       " 'поселок городского типа Рахья',\n",
       " 'поселок городского типа Вырица',\n",
       " 'деревня Белогорка',\n",
       " 'поселок Заводской',\n",
       " 'городской посёлок Новоселье',\n",
       " 'деревня Большие Колпаны',\n",
       " 'деревня Горбунки',\n",
       " 'деревня Батово',\n",
       " 'деревня Заневка',\n",
       " 'деревня Иссад',\n",
       " 'Приморск',\n",
       " 'городской посёлок Фёдоровское',\n",
       " 'деревня Мистолово',\n",
       " 'Новая Ладога',\n",
       " 'поселок Зимитицы',\n",
       " 'поселок Барышево',\n",
       " 'деревня Разметелево',\n",
       " 'поселок городского типа имени Свердлова',\n",
       " 'деревня Пеники',\n",
       " 'поселок Рябово',\n",
       " 'деревня Пудомяги',\n",
       " 'поселок станции Корнево',\n",
       " 'деревня Низино',\n",
       " 'деревня Бегуницы',\n",
       " 'посёлок Поляны',\n",
       " 'городской посёлок Мга',\n",
       " 'поселок Елизаветино',\n",
       " 'посёлок городского типа Кузнечное',\n",
       " 'деревня Колтуши',\n",
       " 'поселок Запорожское',\n",
       " 'посёлок городского типа Рощино',\n",
       " 'деревня Гостилицы',\n",
       " 'деревня Малое Карлино',\n",
       " 'посёлок Мичуринское',\n",
       " 'посёлок городского типа имени Морозова',\n",
       " 'посёлок Песочный',\n",
       " 'посёлок Сосново',\n",
       " 'деревня Аро',\n",
       " 'поселок Ильичёво',\n",
       " 'посёлок городского типа Тайцы',\n",
       " 'деревня Малое Верево',\n",
       " 'деревня Извара',\n",
       " 'поселок станции Вещево',\n",
       " 'село Паша',\n",
       " 'деревня Калитино',\n",
       " 'посёлок городского типа Ульяновка',\n",
       " 'деревня Чудской Бор',\n",
       " 'поселок городского типа Дубровка',\n",
       " 'деревня Мины',\n",
       " 'поселок Войсковицы',\n",
       " 'посёлок городского типа имени Свердлова',\n",
       " 'деревня Коркино',\n",
       " 'посёлок Ропша',\n",
       " 'поселок городского типа Приладожский',\n",
       " 'посёлок Щеглово',\n",
       " 'посёлок Гаврилово',\n",
       " 'Лодейное Поле',\n",
       " 'деревня Рабитицы',\n",
       " 'поселок городского типа Никольский',\n",
       " 'деревня Кузьмолово',\n",
       " 'деревня Малые Колпаны',\n",
       " 'поселок Тельмана',\n",
       " 'посёлок Петро-Славянка',\n",
       " 'городской посёлок Назия',\n",
       " 'посёлок Репино',\n",
       " 'посёлок Ильичёво',\n",
       " 'поселок Углово',\n",
       " 'поселок Старая Малукса',\n",
       " 'садовое товарищество Рахья',\n",
       " 'поселок Аннино',\n",
       " 'поселок Победа',\n",
       " 'деревня Меньково',\n",
       " 'деревня Старые Бегуницы',\n",
       " 'посёлок Сапёрный',\n",
       " 'поселок Семрино',\n",
       " 'поселок Гаврилово',\n",
       " 'поселок Глажево',\n",
       " 'поселок Кобринское',\n",
       " 'деревня Гарболово',\n",
       " 'деревня Юкки',\n",
       " 'поселок станции Приветнинское',\n",
       " 'деревня Мануйлово',\n",
       " 'деревня Пчева',\n",
       " 'поселок Поляны',\n",
       " 'поселок Цвылёво',\n",
       " 'поселок Мельниково',\n",
       " 'посёлок Пудость',\n",
       " 'посёлок Усть-Луга',\n",
       " 'Светогорск',\n",
       " 'Любань',\n",
       " 'поселок Селезнёво',\n",
       " 'поселок городского типа Рябово',\n",
       " 'Каменногорск',\n",
       " 'деревня Кривко',\n",
       " 'поселок Глебычево',\n",
       " 'деревня Парицы',\n",
       " 'поселок Жилпосёлок',\n",
       " 'посёлок городского типа Мга',\n",
       " 'городской поселок Янино-1',\n",
       " 'посёлок Войскорово',\n",
       " 'село Никольское',\n",
       " 'посёлок Терволово',\n",
       " 'поселок Стеклянный',\n",
       " 'посёлок городского типа Важины',\n",
       " 'посёлок Мыза-Ивановка',\n",
       " 'село Русско-Высоцкое',\n",
       " 'поселок городского типа Лебяжье',\n",
       " 'поселок городского типа Форносово',\n",
       " 'село Старая Ладога',\n",
       " 'поселок Житково',\n",
       " 'городской посёлок Виллози',\n",
       " 'деревня Лампово',\n",
       " 'деревня Шпаньково',\n",
       " 'деревня Лаврики',\n",
       " 'посёлок Сумино',\n",
       " 'посёлок Возрождение',\n",
       " 'деревня Старосиверская',\n",
       " 'посёлок Кикерино',\n",
       " 'поселок Возрождение',\n",
       " 'деревня Старое Хинколово',\n",
       " 'посёлок Пригородный',\n",
       " 'посёлок Торфяное',\n",
       " 'городской посёлок Будогощь',\n",
       " 'поселок Суходолье',\n",
       " 'поселок Красная Долина',\n",
       " 'деревня Хапо-Ое',\n",
       " 'поселок городского типа Дружная Горка',\n",
       " 'поселок Лисий Нос',\n",
       " 'деревня Яльгелево',\n",
       " 'посёлок Стеклянный',\n",
       " 'село Рождествено',\n",
       " 'деревня Старополье',\n",
       " 'посёлок Левашово',\n",
       " 'деревня Сяськелево',\n",
       " 'деревня Камышовка',\n",
       " 'садоводческое некоммерческое товарищество Лесная Поляна',\n",
       " 'деревня Хязельки',\n",
       " 'поселок Жилгородок',\n",
       " 'посёлок городского типа Павлово',\n",
       " 'деревня Ялгино',\n",
       " 'поселок Новый Учхоз',\n",
       " 'городской посёлок Рощино',\n",
       " 'поселок Гончарово',\n",
       " 'поселок Почап',\n",
       " 'посёлок Сапёрное',\n",
       " 'посёлок Платформа 69-й километр',\n",
       " 'поселок Каложицы',\n",
       " 'деревня Фалилеево',\n",
       " 'деревня Пельгора',\n",
       " 'поселок городского типа Лесогорский',\n",
       " 'деревня Торошковичи',\n",
       " 'посёлок Белоостров',\n",
       " 'посёлок Алексеевка',\n",
       " 'поселок Серебрянский',\n",
       " 'поселок Лукаши',\n",
       " 'поселок Петровское',\n",
       " 'деревня Щеглово',\n",
       " 'поселок Мичуринское',\n",
       " 'деревня Тарасово',\n",
       " 'поселок Кингисеппский',\n",
       " 'посёлок при железнодорожной станции Вещево',\n",
       " 'поселок Ушаки',\n",
       " 'деревня Котлы',\n",
       " 'деревня Сижно',\n",
       " 'деревня Торосово',\n",
       " 'посёлок Форт Красная Горка',\n",
       " 'поселок городского типа Токсово',\n",
       " 'деревня Новолисино',\n",
       " 'посёлок станции Громово',\n",
       " 'деревня Глинка',\n",
       " 'посёлок Мельниково',\n",
       " 'поселок городского типа Назия',\n",
       " 'деревня Старая Пустошь',\n",
       " 'поселок Коммунары',\n",
       " 'поселок Починок',\n",
       " 'посёлок городского типа Вознесенье',\n",
       " 'деревня Разбегаево',\n",
       " 'посёлок городского типа Рябово',\n",
       " 'поселок Гладкое',\n",
       " 'посёлок при железнодорожной станции Приветнинское',\n",
       " 'поселок Тёсово-4',\n",
       " 'посёлок Жилгородок',\n",
       " 'деревня Бор',\n",
       " 'посёлок Коробицыно',\n",
       " 'деревня Большая Вруда',\n",
       " 'деревня Курковицы',\n",
       " 'посёлок Лисий Нос',\n",
       " 'городской посёлок Советский',\n",
       " 'посёлок Кобралово',\n",
       " 'деревня Суоранда',\n",
       " 'поселок Кобралово',\n",
       " 'поселок городского типа Кондратьево',\n",
       " 'коттеджный поселок Счастье',\n",
       " 'поселок Любань',\n",
       " 'деревня Реброво',\n",
       " 'деревня Зимитицы',\n",
       " 'деревня Тойворово',\n",
       " 'поселок Семиозерье',\n",
       " 'поселок Лесное',\n",
       " 'поселок Совхозный',\n",
       " 'поселок Усть-Луга',\n",
       " 'посёлок Ленинское',\n",
       " 'посёлок Суйда',\n",
       " 'посёлок городского типа Форносово',\n",
       " 'деревня Нижние Осельки',\n",
       " 'посёлок станции Свирь',\n",
       " 'поселок Перово',\n",
       " 'Высоцк',\n",
       " 'поселок Гарболово',\n",
       " 'село Шум',\n",
       " 'поселок Котельский',\n",
       " 'поселок станции Лужайка',\n",
       " 'деревня Большая Пустомержа',\n",
       " 'поселок Красносельское',\n",
       " 'деревня Вахнова Кара',\n",
       " 'деревня Пижма',\n",
       " 'коттеджный поселок Кивеннапа Север',\n",
       " 'поселок Коробицыно',\n",
       " 'поселок Ромашки',\n",
       " 'посёлок Перово',\n",
       " 'деревня Каськово',\n",
       " 'деревня Куровицы',\n",
       " 'посёлок Плоское',\n",
       " 'поселок Сумино',\n",
       " 'поселок городского типа Большая Ижора',\n",
       " 'поселок Кирпичное',\n",
       " 'деревня Ям-Тесово',\n",
       " 'деревня Раздолье',\n",
       " 'деревня Терпилицы',\n",
       " 'посёлок Шугозеро',\n",
       " 'деревня Ваганово',\n",
       " 'поселок Пушное',\n",
       " 'садовое товарищество Садко',\n",
       " 'посёлок Усть-Ижора',\n",
       " 'деревня Выскатка',\n",
       " 'городской посёлок Свирьстрой',\n",
       " 'поселок Громово',\n",
       " 'деревня Кисельня',\n",
       " 'посёлок Старая Малукса',\n",
       " 'деревня Трубников Бор',\n",
       " 'поселок Калитино',\n",
       " 'посёлок Высокоключевой',\n",
       " 'садовое товарищество Приладожский',\n",
       " 'посёлок Пансионат Зелёный Бор',\n",
       " 'деревня Ненимяки',\n",
       " 'поселок Пансионат Зелёный Бор',\n",
       " 'деревня Снегирёвка',\n",
       " 'деревня Рапполово',\n",
       " 'деревня Пустынка',\n",
       " 'поселок Рабитицы',\n",
       " 'деревня Большой Сабск',\n",
       " 'деревня Русско',\n",
       " 'деревня Лупполово',\n",
       " 'деревня Большое Рейзино',\n",
       " 'деревня Малая Романовка',\n",
       " 'поселок Дружноселье',\n",
       " 'поселок Пчевжа',\n",
       " 'поселок Володарское',\n",
       " 'деревня Нижняя',\n",
       " 'коттеджный посёлок Лесное',\n",
       " 'деревня Тихковицы',\n",
       " 'деревня Борисова Грива',\n",
       " 'посёлок Дзержинского']"
      ]
     },
     "execution_count": 6,
     "metadata": {},
     "output_type": "execute_result"
    }
   ],
   "source": [
    "list(data['locality_name'].unique())\n"
   ]
  },
  {
   "cell_type": "markdown",
   "metadata": {},
   "source": [
    " В данных с названиями населенных пунктов присутствуют неявные дубликаты,из-за использования буквы \"ё\" и \"е\" в слове \"поселок\". Заменим букву \"ё\""
   ]
  },
  {
   "cell_type": "code",
   "execution_count": 7,
   "metadata": {},
   "outputs": [
    {
     "data": {
      "text/plain": [
       "364"
      ]
     },
     "execution_count": 7,
     "metadata": {},
     "output_type": "execute_result"
    }
   ],
   "source": [
    "data['locality_name'].value_counts().count()"
   ]
  },
  {
   "cell_type": "code",
   "execution_count": 8,
   "metadata": {},
   "outputs": [],
   "source": [
    "data['locality_name']= data['locality_name'].replace('ё','е', regex=True)"
   ]
  },
  {
   "cell_type": "code",
   "execution_count": 9,
   "metadata": {},
   "outputs": [
    {
     "data": {
      "text/plain": [
       "330"
      ]
     },
     "execution_count": 9,
     "metadata": {},
     "output_type": "execute_result"
    }
   ],
   "source": [
    "data['locality_name'].value_counts().count()"
   ]
  },
  {
   "cell_type": "markdown",
   "metadata": {},
   "source": [
    "В результате операции над данными - удалено 34 дубликата в названиях"
   ]
  },
  {
   "cell_type": "markdown",
   "metadata": {},
   "source": [
    "Далее - заполение пропусков и исправление некорректных значений в столбце с высотой потолков"
   ]
  },
  {
   "cell_type": "code",
   "execution_count": 10,
   "metadata": {},
   "outputs": [
    {
     "name": "stdout",
     "output_type": "stream",
     "text": [
      "Количество пропусков значений высоты потолков: 9195\n",
      "Максимальное значение высоты потолков: 100.0\n",
      "Минимальное значение высоты потолков: 1.0\n"
     ]
    }
   ],
   "source": [
    "print('Количество пропусков значений высоты потолков:',data['ceiling_height'].isna().sum())\n",
    "print('Максимальное значение высоты потолков:',data['ceiling_height'].max() )\n",
    "print('Минимальное значение высоты потолков:',data['ceiling_height'].min())\n"
   ]
  },
  {
   "cell_type": "markdown",
   "metadata": {},
   "source": [
    "Из данных видно что в показателях выосты потолков есть как слишком высокие так и слишком низкие значения."
   ]
  },
  {
   "cell_type": "code",
   "execution_count": 11,
   "metadata": {},
   "outputs": [
    {
     "data": {
      "image/png": "[encoded data removed]",
      "text/plain": [
       "<Figure size 432x288 with 1 Axes>"
      ]
     },
     "metadata": {
      "needs_background": "light"
     },
     "output_type": "display_data"
    },
    {
     "data": {
      "image/png": "[encoded data removed]",
      "text/plain": [
       "<Figure size 432x288 with 1 Axes>"
      ]
     },
     "metadata": {
      "needs_background": "light"
     },
     "output_type": "display_data"
    }
   ],
   "source": [
    "data['ceiling_height'].hist(bins=100)\n",
    "plt.show()\n",
    "data['ceiling_height'].hist(bins=30, range = (2.3,4.7))\n",
    "plt.show()"
   ]
  },
  {
   "cell_type": "markdown",
   "metadata": {},
   "source": [
    "На гистограммах видно что большинство данных о высоте потолков являются корректными - от 2,4 до 4,5 метров"
   ]
  },
  {
   "cell_type": "code",
   "execution_count": 12,
   "metadata": {},
   "outputs": [
    {
     "data": {
      "image/png": "[encoded data removed]",
      "text/plain": [
       "<Figure size 432x288 with 1 Axes>"
      ]
     },
     "metadata": {
      "needs_background": "light"
     },
     "output_type": "display_data"
    }
   ],
   "source": [
    "data.boxplot('ceiling_height')\n",
    "plt.show()\n"
   ]
  },
  {
   "cell_type": "code",
   "execution_count": 13,
   "metadata": {},
   "outputs": [
    {
     "data": {
      "text/plain": [
       "count    14504.000000\n",
       "mean         2.771499\n",
       "std          1.261056\n",
       "min          1.000000\n",
       "25%          2.520000\n",
       "50%          2.650000\n",
       "75%          2.800000\n",
       "max        100.000000\n",
       "Name: ceiling_height, dtype: float64"
      ]
     },
     "execution_count": 13,
     "metadata": {},
     "output_type": "execute_result"
    }
   ],
   "source": [
    "data['ceiling_height'].describe()"
   ]
  },
  {
   "cell_type": "code",
   "execution_count": 14,
   "metadata": {},
   "outputs": [
    {
     "data": {
      "text/plain": [
       "63"
      ]
     },
     "execution_count": 14,
     "metadata": {},
     "output_type": "execute_result"
    }
   ],
   "source": [
    "len(data.query('ceiling_height < 2.4 or ceiling_height > 4.5'))"
   ]
  },
  {
   "cell_type": "markdown",
   "metadata": {},
   "source": [
    "Графики показывают, что большинство значений высоты потолков являются реалистичными и входят в диапозон от 2.5 до 2.8 метров, при этом  в датасете есть 63 квартиры в которых неадекватнто высокие или низкие значения."
   ]
  },
  {
   "cell_type": "markdown",
   "metadata": {},
   "source": [
    "Заменим значения высоты потолков на медианные значения по городам. Это справедливо, так как малые города и села вблизи Санкт-Петербурга застраивались по типовым проектам серийными зданиями и высота потолков стремится к медианному значению. Первый шаг - проверка пропусков в названиях населенных пунктов"
   ]
  },
  {
   "cell_type": "code",
   "execution_count": 15,
   "metadata": {},
   "outputs": [
    {
     "name": "stdout",
     "output_type": "stream",
     "text": [
      "49\n"
     ]
    }
   ],
   "source": [
    "print(data['locality_name'].isna().sum())"
   ]
  },
  {
   "cell_type": "code",
   "execution_count": 16,
   "metadata": {},
   "outputs": [],
   "source": [
    "#учитывая наличие пропусков в данных по названием 49 городов, заменим пропуски на наименование unknown\n",
    "data['locality_name'] = data['locality_name'].fillna('unknown')"
   ]
  },
  {
   "cell_type": "code",
   "execution_count": 17,
   "metadata": {},
   "outputs": [
    {
     "data": {
      "text/html": [
       "<div>\n",
       "<style scoped>\n",
       "    .dataframe tbody tr th:only-of-type {\n",
       "        vertical-align: middle;\n",
       "    }\n",
       "\n",
       "    .dataframe tbody tr th {\n",
       "        vertical-align: top;\n",
       "    }\n",
       "\n",
       "    .dataframe thead th {\n",
       "        text-align: right;\n",
       "    }\n",
       "</style>\n",
       "<table border=\"1\" class=\"dataframe\">\n",
       "  <thead>\n",
       "    <tr style=\"text-align: right;\">\n",
       "      <th></th>\n",
       "      <th>locality_name</th>\n",
       "      <th>ceiling_height</th>\n",
       "    </tr>\n",
       "  </thead>\n",
       "  <tbody>\n",
       "    <tr>\n",
       "      <th>0</th>\n",
       "      <td>unknown</td>\n",
       "      <td>2.875</td>\n",
       "    </tr>\n",
       "    <tr>\n",
       "      <th>1</th>\n",
       "      <td>Бокситогорск</td>\n",
       "      <td>3.900</td>\n",
       "    </tr>\n",
       "    <tr>\n",
       "      <th>2</th>\n",
       "      <td>Волосово</td>\n",
       "      <td>2.500</td>\n",
       "    </tr>\n",
       "    <tr>\n",
       "      <th>3</th>\n",
       "      <td>Волхов</td>\n",
       "      <td>2.580</td>\n",
       "    </tr>\n",
       "    <tr>\n",
       "      <th>4</th>\n",
       "      <td>Всеволожск</td>\n",
       "      <td>2.700</td>\n",
       "    </tr>\n",
       "    <tr>\n",
       "      <th>...</th>\n",
       "      <td>...</td>\n",
       "      <td>...</td>\n",
       "    </tr>\n",
       "    <tr>\n",
       "      <th>326</th>\n",
       "      <td>село Путилово</td>\n",
       "      <td>2.550</td>\n",
       "    </tr>\n",
       "    <tr>\n",
       "      <th>327</th>\n",
       "      <td>село Рождествено</td>\n",
       "      <td>NaN</td>\n",
       "    </tr>\n",
       "    <tr>\n",
       "      <th>328</th>\n",
       "      <td>село Русско-Высоцкое</td>\n",
       "      <td>2.600</td>\n",
       "    </tr>\n",
       "    <tr>\n",
       "      <th>329</th>\n",
       "      <td>село Старая Ладога</td>\n",
       "      <td>NaN</td>\n",
       "    </tr>\n",
       "    <tr>\n",
       "      <th>330</th>\n",
       "      <td>село Шум</td>\n",
       "      <td>NaN</td>\n",
       "    </tr>\n",
       "  </tbody>\n",
       "</table>\n",
       "<p>331 rows × 2 columns</p>\n",
       "</div>"
      ],
      "text/plain": [
       "            locality_name  ceiling_height\n",
       "0                 unknown           2.875\n",
       "1            Бокситогорск           3.900\n",
       "2                Волосово           2.500\n",
       "3                  Волхов           2.580\n",
       "4              Всеволожск           2.700\n",
       "..                    ...             ...\n",
       "326         село Путилово           2.550\n",
       "327      село Рождествено             NaN\n",
       "328  село Русско-Высоцкое           2.600\n",
       "329    село Старая Ладога             NaN\n",
       "330              село Шум             NaN\n",
       "\n",
       "[331 rows x 2 columns]"
      ]
     },
     "execution_count": 17,
     "metadata": {},
     "output_type": "execute_result"
    }
   ],
   "source": [
    "#создаем сводную таблицу по медианной высоты потолков для каждого города\n",
    "ceiling_locality_median = data.groupby('locality_name')['ceiling_height'].median().reset_index()\n",
    "ceiling_locality_median"
   ]
  },
  {
   "cell_type": "code",
   "execution_count": 18,
   "metadata": {},
   "outputs": [],
   "source": [
    "# функция, меняющая пропущенное значение на медианное из подготовленной таблицы\n",
    "def ceiling_median (row):\n",
    "    if np.isnan(row['ceiling_height']):\n",
    "        return float(ceiling_locality_median.loc[ceiling_locality_median['locality_name'] == row['locality_name']]['ceiling_height'])\n",
    "    return  row['ceiling_height'] "
   ]
  },
  {
   "cell_type": "code",
   "execution_count": 19,
   "metadata": {},
   "outputs": [],
   "source": [
    "#применение функции\n",
    "data['ceiling_height'] = data.apply(ceiling_median, axis = 1)"
   ]
  },
  {
   "cell_type": "code",
   "execution_count": 20,
   "metadata": {},
   "outputs": [
    {
     "name": "stdout",
     "output_type": "stream",
     "text": [
      "106\n"
     ]
    }
   ],
   "source": [
    "#рассчет количества оставшихся пропусков после применения функции\n",
    "print(data['ceiling_height'].isna().sum())"
   ]
  },
  {
   "cell_type": "code",
   "execution_count": 21,
   "metadata": {},
   "outputs": [],
   "source": [
    "#замена пропусков медианными значениями в целом по датасету\n",
    "data['ceiling_height'] = data['ceiling_height'].fillna(data['ceiling_height'].median())"
   ]
  },
  {
   "cell_type": "code",
   "execution_count": 22,
   "metadata": {},
   "outputs": [
    {
     "data": {
      "text/plain": [
       "count    23699.000000\n",
       "mean         2.732567\n",
       "std          1.001641\n",
       "min          1.000000\n",
       "25%          2.550000\n",
       "50%          2.700000\n",
       "75%          2.700000\n",
       "max        100.000000\n",
       "Name: ceiling_height, dtype: float64"
      ]
     },
     "execution_count": 22,
     "metadata": {},
     "output_type": "execute_result"
    }
   ],
   "source": [
    "data['ceiling_height'].describe()"
   ]
  },
  {
   "cell_type": "code",
   "execution_count": 23,
   "metadata": {},
   "outputs": [],
   "source": [
    "#замена некорректных значений высоты потолков - на медиану\n",
    "data['ceiling_height'] = data['ceiling_height'].where(data['ceiling_height'] > 2.4, 2.7) \n",
    "data['ceiling_height'] = data['ceiling_height'].where(data['ceiling_height'] < 4.5, 2.7)                                                   "
   ]
  },
  {
   "cell_type": "code",
   "execution_count": 24,
   "metadata": {},
   "outputs": [
    {
     "data": {
      "text/plain": [
       "0"
      ]
     },
     "execution_count": 24,
     "metadata": {},
     "output_type": "execute_result"
    }
   ],
   "source": [
    "len(data.query('ceiling_height < 2.4 or ceiling_height > 4.5'))"
   ]
  },
  {
   "cell_type": "code",
   "execution_count": 25,
   "metadata": {},
   "outputs": [
    {
     "data": {
      "image/png": "[encoded data removed]",
      "text/plain": [
       "<Figure size 432x288 with 1 Axes>"
      ]
     },
     "metadata": {
      "needs_background": "light"
     },
     "output_type": "display_data"
    },
    {
     "data": {
      "text/plain": [
       "<AxesSubplot:>"
      ]
     },
     "execution_count": 25,
     "metadata": {},
     "output_type": "execute_result"
    },
    {
     "data": {
      "image/png": "[encoded data removed]",
      "text/plain": [
       "<Figure size 432x288 with 1 Axes>"
      ]
     },
     "metadata": {
      "needs_background": "light"
     },
     "output_type": "display_data"
    }
   ],
   "source": [
    "data['ceiling_height'].hist(bins=30)\n",
    "plt.show()\n",
    "data.boxplot('ceiling_height')"
   ]
  },
  {
   "cell_type": "markdown",
   "metadata": {},
   "source": [
    "Предобработав столбец с высотой квартир методом .where(), большинство выбросов заменены на медианное значение. Пропуски заменены на медианные значения по населенному пункту. Учитывая специфику застройки Санкт-Петербурга и пригородов, можно предположить что в датасете преимущественно дома типовой застройки, и средние значения высоты потолков будут справедливы для пропусков каждого отдельного населенного пункта. В реальных условиях - необходимо направить запрос разработчикам, для установления информации о пропусках, так как в датасете могут все-таки встречаться высоты потолков в домах нетиповых проектов (историческая застройка Санкт-Петербурга) и правильно получить эти данные корректным образом"
   ]
  },
  {
   "cell_type": "code",
   "execution_count": 26,
   "metadata": {},
   "outputs": [
    {
     "name": "stdout",
     "output_type": "stream",
     "text": [
      "Количество пропусков в значениях количества этажей в здании: 86\n"
     ]
    },
    {
     "data": {
      "text/plain": [
       "locality_name\n",
       "Санкт-Петербург                    70\n",
       "поселок Мурино                      4\n",
       "Красное Село                        2\n",
       "Кудрово                             2\n",
       "unknown                             1\n",
       "городской поселок Новоселье         1\n",
       "деревня Новое Девяткино             1\n",
       "поселок Бугры                       1\n",
       "поселок Стрельна                    1\n",
       "поселок Шушары                      1\n",
       "поселок Щеглово                     1\n",
       "поселок городского типа Токсово     1\n",
       "dtype: int64"
      ]
     },
     "execution_count": 26,
     "metadata": {},
     "output_type": "execute_result"
    }
   ],
   "source": [
    "#проверим пропуски количества этажей в домах\n",
    "print('Количество пропусков в значениях количества этажей в здании:',len(data[data['floors_total'].isna()]['floors_total']))\n",
    "data[data['floors_total'].isna()].value_counts('locality_name')\n"
   ]
  },
  {
   "cell_type": "markdown",
   "metadata": {},
   "source": [
    "Заполнять значения этажности медианными или средними значениями будет некорректным, так как может сложиться ситуация, при которой медианное значение будет больше, чем занчение этажа квартиры. На данном этапе пропуски не будут отброшены, так как в данных хранится иная полезная информация для аггрегирования и анализа"
   ]
  },
  {
   "cell_type": "code",
   "execution_count": 27,
   "metadata": {},
   "outputs": [
    {
     "data": {
      "text/plain": [
       "array([nan, False, True], dtype=object)"
      ]
     },
     "execution_count": 27,
     "metadata": {},
     "output_type": "execute_result"
    }
   ],
   "source": [
    "data['is_apartment'].unique()"
   ]
  },
  {
   "cell_type": "markdown",
   "metadata": {},
   "source": [
    "пропуски в столбце is_apartment вероятно свидетельствуют о том, в данном столбце переменная принимает значение True в случае, если квартира является апартаметрами, в противном случае - переменная должна принимать значение False"
   ]
  },
  {
   "cell_type": "code",
   "execution_count": 28,
   "metadata": {},
   "outputs": [
    {
     "data": {
      "text/plain": [
       "array([False,  True])"
      ]
     },
     "execution_count": 28,
     "metadata": {},
     "output_type": "execute_result"
    }
   ],
   "source": [
    "#заполним пропуски значением False\n",
    "data['is_apartment'] = data['is_apartment'].fillna(False)\n",
    "data['is_apartment'].unique()"
   ]
  },
  {
   "cell_type": "code",
   "execution_count": 29,
   "metadata": {},
   "outputs": [
    {
     "data": {
      "text/plain": [
       "array([0., 2., 1., 5., 4., 3.])"
      ]
     },
     "execution_count": 29,
     "metadata": {},
     "output_type": "execute_result"
    }
   ],
   "source": [
    "#заполнение пропусков количества балконов значением  0\n",
    "data['balcony'] = data['balcony'].fillna(0)\n",
    "data['balcony'].unique()"
   ]
  },
  {
   "cell_type": "code",
   "execution_count": 30,
   "metadata": {},
   "outputs": [],
   "source": [
    "#аналогичным образом заполним пропуски в данных о парках и прудах, расположеных вблизи 3000 метров\n",
    "data['ponds_around3000'] = data['ponds_around3000'].fillna(0)\n",
    "data['parks_around3000'] = data['parks_around3000'].fillna(0)"
   ]
  },
  {
   "cell_type": "markdown",
   "metadata": {},
   "source": [
    "Пропуски в значениях столбца days_exposition вероятно свидетельствуют о том, что квартира на момент выгрузки архива не была снята с продажи. Иными словами, <b><u> факт сделки не состоялся </u></b> и анализ по параметров и их влияния на рыночную стоимость проводить по таким данным - некорректно. Следовательно такие данные <b> можно удалить </b>"
   ]
  },
  {
   "cell_type": "code",
   "execution_count": 31,
   "metadata": {},
   "outputs": [],
   "source": [
    "data = data.dropna(subset=['days_exposition'])"
   ]
  },
  {
   "cell_type": "code",
   "execution_count": 32,
   "metadata": {},
   "outputs": [
    {
     "name": "stdout",
     "output_type": "stream",
     "text": [
      "<class 'pandas.core.frame.DataFrame'>\n",
      "Int64Index: 20518 entries, 1 to 23697\n",
      "Data columns (total 22 columns):\n",
      " #   Column                Non-Null Count  Dtype  \n",
      "---  ------                --------------  -----  \n",
      " 0   total_images          20518 non-null  int64  \n",
      " 1   last_price            20518 non-null  float64\n",
      " 2   total_area            20518 non-null  float64\n",
      " 3   first_day_exposition  20518 non-null  object \n",
      " 4   rooms                 20518 non-null  int64  \n",
      " 5   ceiling_height        20518 non-null  float64\n",
      " 6   floors_total          20441 non-null  float64\n",
      " 7   living_area           18813 non-null  float64\n",
      " 8   floor                 20518 non-null  int64  \n",
      " 9   is_apartment          20518 non-null  bool   \n",
      " 10  studio                20518 non-null  bool   \n",
      " 11  open_plan             20518 non-null  bool   \n",
      " 12  kitchen_area          18443 non-null  float64\n",
      " 13  balcony               20518 non-null  float64\n",
      " 14  locality_name         20518 non-null  object \n",
      " 15  airports_nearest      15843 non-null  float64\n",
      " 16  city_centers_nearest  15865 non-null  float64\n",
      " 17  parks_around3000      20518 non-null  float64\n",
      " 18  parks_nearest         6934 non-null   float64\n",
      " 19  ponds_around3000      20518 non-null  float64\n",
      " 20  ponds_nearest         7894 non-null   float64\n",
      " 21  days_exposition       20518 non-null  float64\n",
      "dtypes: bool(3), float64(14), int64(3), object(2)\n",
      "memory usage: 3.2+ MB\n"
     ]
    }
   ],
   "source": [
    "data.info()"
   ]
  },
  {
   "cell_type": "markdown",
   "metadata": {},
   "source": [
    "После заполения пропусков остались пропущенные значения в 6 столбцах Это living_area, kitchen_area, airports_nearest, city_centers_nearest, parks_nearest, ponds_nearest. Значения данных пропусков являются случайными и не зависят от иной доступной информации в датасете. Заполнение их медианными значениями так же не является корректным, так как наиболее распространенные значения не обязательно свидетельствуют о корректности данных для каждой конкретной квартиры, а большое количество пропусков может исказить дальнейшие результаты анализа"
   ]
  },
  {
   "cell_type": "code",
   "execution_count": 33,
   "metadata": {},
   "outputs": [],
   "source": [
    "data['first_day_exposition'] = pd.to_datetime(data['first_day_exposition'], format='%Y-%m-%dT%H:%M:%S')"
   ]
  },
  {
   "cell_type": "markdown",
   "metadata": {},
   "source": [
    "## Расчёты и добавление результатов в таблицу"
   ]
  },
  {
   "cell_type": "markdown",
   "metadata": {},
   "source": [
    "3. Посчитаем и добавим в таблицу\n",
    "- цену квадратного метра;\n",
    "- день недели, месяц и год публикации объявления;\n",
    "- этаж квартиры; варианты — первый, последний, другой;\n",
    "- соотношение жилой и общей площади, а также отношение площади кухни к общей."
   ]
  },
  {
   "cell_type": "code",
   "execution_count": 34,
   "metadata": {},
   "outputs": [],
   "source": [
    "#создание столбца с ценой 1 кв.м\n",
    "data['one_meter_price'] = data['last_price'] / data['total_area']\n",
    "# создание столбцов с днем недели, месяцем и годом публикации \n",
    "data['week_day_exposition'] = data['first_day_exposition'].dt.dayofweek\n",
    "data['month_exposition'] = pd.DatetimeIndex(data['first_day_exposition']).month\n",
    "data['year_exposition'] = pd.DatetimeIndex(data['first_day_exposition']).year"
   ]
  },
  {
   "cell_type": "code",
   "execution_count": 35,
   "metadata": {},
   "outputs": [],
   "source": [
    "#создадим функцию, которая проверяет этаж и добавляет в столбец значения \"первый\", \"последний\", \"другой\"\n",
    "def floor_chek(row):\n",
    "    if row['floor'] == 1:\n",
    "        return \"Первый\"\n",
    "    if row['floor'] == row['floors_total']:\n",
    "        return 'Последний'\n",
    "    return 'Другой'"
   ]
  },
  {
   "cell_type": "code",
   "execution_count": 36,
   "metadata": {},
   "outputs": [],
   "source": [
    "data['floor_type'] = data.apply(floor_chek, axis=1)"
   ]
  },
  {
   "cell_type": "code",
   "execution_count": 37,
   "metadata": {},
   "outputs": [],
   "source": [
    "#создадим столбцы с соотношением жилой и общей площади, площади кухни к общей\n",
    "data['living_total_ratio'] = data['living_area']  / data['total_area']\n",
    "data['kitchen_total_ratio'] = data['kitchen_area'] / data['total_area']"
   ]
  },
  {
   "cell_type": "code",
   "execution_count": 38,
   "metadata": {},
   "outputs": [
    {
     "data": {
      "text/html": [
       "<div>\n",
       "<style scoped>\n",
       "    .dataframe tbody tr th:only-of-type {\n",
       "        vertical-align: middle;\n",
       "    }\n",
       "\n",
       "    .dataframe tbody tr th {\n",
       "        vertical-align: top;\n",
       "    }\n",
       "\n",
       "    .dataframe thead th {\n",
       "        text-align: right;\n",
       "    }\n",
       "</style>\n",
       "<table border=\"1\" class=\"dataframe\">\n",
       "  <thead>\n",
       "    <tr style=\"text-align: right;\">\n",
       "      <th></th>\n",
       "      <th>total_images</th>\n",
       "      <th>last_price</th>\n",
       "      <th>total_area</th>\n",
       "      <th>first_day_exposition</th>\n",
       "      <th>rooms</th>\n",
       "      <th>ceiling_height</th>\n",
       "      <th>floors_total</th>\n",
       "      <th>living_area</th>\n",
       "      <th>floor</th>\n",
       "      <th>is_apartment</th>\n",
       "      <th>studio</th>\n",
       "      <th>open_plan</th>\n",
       "      <th>kitchen_area</th>\n",
       "      <th>balcony</th>\n",
       "      <th>locality_name</th>\n",
       "      <th>airports_nearest</th>\n",
       "      <th>city_centers_nearest</th>\n",
       "      <th>parks_around3000</th>\n",
       "      <th>parks_nearest</th>\n",
       "      <th>ponds_around3000</th>\n",
       "      <th>ponds_nearest</th>\n",
       "      <th>days_exposition</th>\n",
       "      <th>one_meter_price</th>\n",
       "      <th>week_day_exposition</th>\n",
       "      <th>month_exposition</th>\n",
       "      <th>year_exposition</th>\n",
       "      <th>floor_type</th>\n",
       "      <th>living_total_ratio</th>\n",
       "      <th>kitchen_total_ratio</th>\n",
       "    </tr>\n",
       "  </thead>\n",
       "  <tbody>\n",
       "    <tr>\n",
       "      <th>1</th>\n",
       "      <td>7</td>\n",
       "      <td>3350000.0</td>\n",
       "      <td>40.4</td>\n",
       "      <td>2018-12-04</td>\n",
       "      <td>1</td>\n",
       "      <td>2.63</td>\n",
       "      <td>11.0</td>\n",
       "      <td>18.6</td>\n",
       "      <td>1</td>\n",
       "      <td>False</td>\n",
       "      <td>False</td>\n",
       "      <td>False</td>\n",
       "      <td>11.0</td>\n",
       "      <td>2.0</td>\n",
       "      <td>поселок Шушары</td>\n",
       "      <td>12817.0</td>\n",
       "      <td>18603.0</td>\n",
       "      <td>0.0</td>\n",
       "      <td>NaN</td>\n",
       "      <td>0.0</td>\n",
       "      <td>NaN</td>\n",
       "      <td>81.0</td>\n",
       "      <td>82920.792079</td>\n",
       "      <td>1</td>\n",
       "      <td>12</td>\n",
       "      <td>2018</td>\n",
       "      <td>Первый</td>\n",
       "      <td>0.460396</td>\n",
       "      <td>0.272277</td>\n",
       "    </tr>\n",
       "    <tr>\n",
       "      <th>2</th>\n",
       "      <td>10</td>\n",
       "      <td>5196000.0</td>\n",
       "      <td>56.0</td>\n",
       "      <td>2015-08-20</td>\n",
       "      <td>2</td>\n",
       "      <td>2.70</td>\n",
       "      <td>5.0</td>\n",
       "      <td>34.3</td>\n",
       "      <td>4</td>\n",
       "      <td>False</td>\n",
       "      <td>False</td>\n",
       "      <td>False</td>\n",
       "      <td>8.3</td>\n",
       "      <td>0.0</td>\n",
       "      <td>Санкт-Петербург</td>\n",
       "      <td>21741.0</td>\n",
       "      <td>13933.0</td>\n",
       "      <td>1.0</td>\n",
       "      <td>90.0</td>\n",
       "      <td>2.0</td>\n",
       "      <td>574.0</td>\n",
       "      <td>558.0</td>\n",
       "      <td>92785.714286</td>\n",
       "      <td>3</td>\n",
       "      <td>8</td>\n",
       "      <td>2015</td>\n",
       "      <td>Другой</td>\n",
       "      <td>0.612500</td>\n",
       "      <td>0.148214</td>\n",
       "    </tr>\n",
       "    <tr>\n",
       "      <th>3</th>\n",
       "      <td>0</td>\n",
       "      <td>64900000.0</td>\n",
       "      <td>159.0</td>\n",
       "      <td>2015-07-24</td>\n",
       "      <td>3</td>\n",
       "      <td>2.70</td>\n",
       "      <td>14.0</td>\n",
       "      <td>NaN</td>\n",
       "      <td>9</td>\n",
       "      <td>False</td>\n",
       "      <td>False</td>\n",
       "      <td>False</td>\n",
       "      <td>NaN</td>\n",
       "      <td>0.0</td>\n",
       "      <td>Санкт-Петербург</td>\n",
       "      <td>28098.0</td>\n",
       "      <td>6800.0</td>\n",
       "      <td>2.0</td>\n",
       "      <td>84.0</td>\n",
       "      <td>3.0</td>\n",
       "      <td>234.0</td>\n",
       "      <td>424.0</td>\n",
       "      <td>408176.100629</td>\n",
       "      <td>4</td>\n",
       "      <td>7</td>\n",
       "      <td>2015</td>\n",
       "      <td>Другой</td>\n",
       "      <td>NaN</td>\n",
       "      <td>NaN</td>\n",
       "    </tr>\n",
       "    <tr>\n",
       "      <th>4</th>\n",
       "      <td>2</td>\n",
       "      <td>10000000.0</td>\n",
       "      <td>100.0</td>\n",
       "      <td>2018-06-19</td>\n",
       "      <td>2</td>\n",
       "      <td>3.03</td>\n",
       "      <td>14.0</td>\n",
       "      <td>32.0</td>\n",
       "      <td>13</td>\n",
       "      <td>False</td>\n",
       "      <td>False</td>\n",
       "      <td>False</td>\n",
       "      <td>41.0</td>\n",
       "      <td>0.0</td>\n",
       "      <td>Санкт-Петербург</td>\n",
       "      <td>31856.0</td>\n",
       "      <td>8098.0</td>\n",
       "      <td>2.0</td>\n",
       "      <td>112.0</td>\n",
       "      <td>1.0</td>\n",
       "      <td>48.0</td>\n",
       "      <td>121.0</td>\n",
       "      <td>100000.000000</td>\n",
       "      <td>1</td>\n",
       "      <td>6</td>\n",
       "      <td>2018</td>\n",
       "      <td>Другой</td>\n",
       "      <td>0.320000</td>\n",
       "      <td>0.410000</td>\n",
       "    </tr>\n",
       "    <tr>\n",
       "      <th>5</th>\n",
       "      <td>10</td>\n",
       "      <td>2890000.0</td>\n",
       "      <td>30.4</td>\n",
       "      <td>2018-09-10</td>\n",
       "      <td>1</td>\n",
       "      <td>2.65</td>\n",
       "      <td>12.0</td>\n",
       "      <td>14.4</td>\n",
       "      <td>5</td>\n",
       "      <td>False</td>\n",
       "      <td>False</td>\n",
       "      <td>False</td>\n",
       "      <td>9.1</td>\n",
       "      <td>0.0</td>\n",
       "      <td>городской поселок Янино-1</td>\n",
       "      <td>NaN</td>\n",
       "      <td>NaN</td>\n",
       "      <td>0.0</td>\n",
       "      <td>NaN</td>\n",
       "      <td>0.0</td>\n",
       "      <td>NaN</td>\n",
       "      <td>55.0</td>\n",
       "      <td>95065.789474</td>\n",
       "      <td>0</td>\n",
       "      <td>9</td>\n",
       "      <td>2018</td>\n",
       "      <td>Другой</td>\n",
       "      <td>0.473684</td>\n",
       "      <td>0.299342</td>\n",
       "    </tr>\n",
       "  </tbody>\n",
       "</table>\n",
       "</div>"
      ],
      "text/plain": [
       "   total_images  last_price  total_area first_day_exposition  rooms  \\\n",
       "1             7   3350000.0        40.4           2018-12-04      1   \n",
       "2            10   5196000.0        56.0           2015-08-20      2   \n",
       "3             0  64900000.0       159.0           2015-07-24      3   \n",
       "4             2  10000000.0       100.0           2018-06-19      2   \n",
       "5            10   2890000.0        30.4           2018-09-10      1   \n",
       "\n",
       "   ceiling_height  floors_total  living_area  floor  is_apartment  studio  \\\n",
       "1            2.63          11.0         18.6      1         False   False   \n",
       "2            2.70           5.0         34.3      4         False   False   \n",
       "3            2.70          14.0          NaN      9         False   False   \n",
       "4            3.03          14.0         32.0     13         False   False   \n",
       "5            2.65          12.0         14.4      5         False   False   \n",
       "\n",
       "   open_plan  kitchen_area  balcony              locality_name  \\\n",
       "1      False          11.0      2.0             поселок Шушары   \n",
       "2      False           8.3      0.0            Санкт-Петербург   \n",
       "3      False           NaN      0.0            Санкт-Петербург   \n",
       "4      False          41.0      0.0            Санкт-Петербург   \n",
       "5      False           9.1      0.0  городской поселок Янино-1   \n",
       "\n",
       "   airports_nearest  city_centers_nearest  parks_around3000  parks_nearest  \\\n",
       "1           12817.0               18603.0               0.0            NaN   \n",
       "2           21741.0               13933.0               1.0           90.0   \n",
       "3           28098.0                6800.0               2.0           84.0   \n",
       "4           31856.0                8098.0               2.0          112.0   \n",
       "5               NaN                   NaN               0.0            NaN   \n",
       "\n",
       "   ponds_around3000  ponds_nearest  days_exposition  one_meter_price  \\\n",
       "1               0.0            NaN             81.0     82920.792079   \n",
       "2               2.0          574.0            558.0     92785.714286   \n",
       "3               3.0          234.0            424.0    408176.100629   \n",
       "4               1.0           48.0            121.0    100000.000000   \n",
       "5               0.0            NaN             55.0     95065.789474   \n",
       "\n",
       "   week_day_exposition  month_exposition  year_exposition floor_type  \\\n",
       "1                    1                12             2018     Первый   \n",
       "2                    3                 8             2015     Другой   \n",
       "3                    4                 7             2015     Другой   \n",
       "4                    1                 6             2018     Другой   \n",
       "5                    0                 9             2018     Другой   \n",
       "\n",
       "   living_total_ratio  kitchen_total_ratio  \n",
       "1            0.460396             0.272277  \n",
       "2            0.612500             0.148214  \n",
       "3                 NaN                  NaN  \n",
       "4            0.320000             0.410000  \n",
       "5            0.473684             0.299342  "
      ]
     },
     "execution_count": 38,
     "metadata": {},
     "output_type": "execute_result"
    }
   ],
   "source": [
    "pd.set_option('display.max_columns', None)\n",
    "data.head()"
   ]
  },
  {
   "cell_type": "markdown",
   "metadata": {},
   "source": [
    "## Исследовательский анализ данных"
   ]
  },
  {
   "cell_type": "markdown",
   "metadata": {},
   "source": [
    "* Изучение следующих параметров: площадь, цена, число комнат, высота потолков."
   ]
  },
  {
   "cell_type": "code",
   "execution_count": 39,
   "metadata": {},
   "outputs": [
    {
     "name": "stdout",
     "output_type": "stream",
     "text": [
      "total_area\n"
     ]
    },
    {
     "data": {
      "image/png": "[encoded data removed]",
      "text/plain": [
       "<Figure size 432x288 with 1 Axes>"
      ]
     },
     "metadata": {
      "needs_background": "light"
     },
     "output_type": "display_data"
    },
    {
     "data": {
      "image/png": "[encoded data removed]",
      "text/plain": [
       "<Figure size 432x288 with 1 Axes>"
      ]
     },
     "metadata": {
      "needs_background": "light"
     },
     "output_type": "display_data"
    },
    {
     "name": "stdout",
     "output_type": "stream",
     "text": [
      "last_price\n"
     ]
    },
    {
     "data": {
      "image/png": "[encoded data removed]",
      "text/plain": [
       "<Figure size 432x288 with 1 Axes>"
      ]
     },
     "metadata": {
      "needs_background": "light"
     },
     "output_type": "display_data"
    },
    {
     "data": {
      "image/png": "[encoded data removed]",
      "text/plain": [
       "<Figure size 432x288 with 1 Axes>"
      ]
     },
     "metadata": {
      "needs_background": "light"
     },
     "output_type": "display_data"
    },
    {
     "name": "stdout",
     "output_type": "stream",
     "text": [
      "one_meter_price\n"
     ]
    },
    {
     "data": {
      "image/png": "[encoded data removed]",
      "text/plain": [
       "<Figure size 432x288 with 1 Axes>"
      ]
     },
     "metadata": {
      "needs_background": "light"
     },
     "output_type": "display_data"
    },
    {
     "data": {
      "image/png": "[encoded data removed]",
      "text/plain": [
       "<Figure size 432x288 with 1 Axes>"
      ]
     },
     "metadata": {
      "needs_background": "light"
     },
     "output_type": "display_data"
    },
    {
     "name": "stdout",
     "output_type": "stream",
     "text": [
      "rooms\n"
     ]
    },
    {
     "data": {
      "image/png": "[encoded data removed]",
      "text/plain": [
       "<Figure size 432x288 with 1 Axes>"
      ]
     },
     "metadata": {
      "needs_background": "light"
     },
     "output_type": "display_data"
    },
    {
     "data": {
      "image/png": "[encoded data removed]",
      "text/plain": [
       "<Figure size 432x288 with 1 Axes>"
      ]
     },
     "metadata": {
      "needs_background": "light"
     },
     "output_type": "display_data"
    },
    {
     "name": "stdout",
     "output_type": "stream",
     "text": [
      "ceiling_height\n"
     ]
    },
    {
     "data": {
      "image/png": "[encoded data removed]",
      "text/plain": [
       "<Figure size 432x288 with 1 Axes>"
      ]
     },
     "metadata": {
      "needs_background": "light"
     },
     "output_type": "display_data"
    },
    {
     "data": {
      "image/png": "[encoded data removed]",
      "text/plain": [
       "<Figure size 432x288 with 1 Axes>"
      ]
     },
     "metadata": {
      "needs_background": "light"
     },
     "output_type": "display_data"
    }
   ],
   "source": [
    "#создание цикла построения гистограмм для всего набора данных и с ограничением ОХ до значений Q3+ 1.5 межквартильных размаха\n",
    "hist_list=['total_area','last_price', 'one_meter_price', 'rooms', 'ceiling_height']\n",
    "for i in hist_list:\n",
    "    print(i)\n",
    "    data[i].hist(bins=30)\n",
    "    plt.show()\n",
    "    data[i].hist(bins=30, range=(0,data[i].median()*(1.25+1.5)))\n",
    "    plt.show()\n"
   ]
  },
  {
   "cell_type": "markdown",
   "metadata": {},
   "source": [
    "В результате построения гистограмм по данным столбцов площадь, цена, число комнат и высота потолков можно сделать следующие выводы:\n",
    "- По всему датасету наиболее распространенными являются сделки с квартирами до 100 квадратных метров. При этом в наборе сущесвтуют отдельные единичные случаи с квартирами площадью выше 200 квадратных метров\n",
    "- Абсолютные значения цены квартиры чаще всего входят в диапозон от 2 до 7 млн рублей. Свыше 10 млн рублей сделки по квартирам предельно малочисленны\n",
    "- Стоимость квадратного метра квартиры стремится к нормальному распределению. Наиболее частая цена входит в диапозон от  5 до 15 тыс. рублей за кв.м.\n",
    "- Больше всего сделок совершено с квартирами, в которых количество комнат от 1 до 3. При этом в датасете есть единичные квартиры с чрезмерно высокими параметрами количества комнат. Учитывая иторическую застройку Ленобласти и Санкт-Петербурга, комнат может быть и нетипично много, однако такие данные требуют дополнительной проверки\n",
    "- Высота потолков чаще всего принимает значение от 2,4 до 2,75 метра. При этом наблюдается еще один пик на значении 3 метра. Выше этого значения квартиры практически не встречаются \n"
   ]
  },
  {
   "cell_type": "markdown",
   "metadata": {},
   "source": [
    "Изучение времени продажи квартиры, определение того, сколько обычно занимает продажа"
   ]
  },
  {
   "cell_type": "code",
   "execution_count": 40,
   "metadata": {},
   "outputs": [
    {
     "data": {
      "image/png": "[encoded data removed]",
      "text/plain": [
       "<Figure size 432x288 with 1 Axes>"
      ]
     },
     "metadata": {
      "needs_background": "light"
     },
     "output_type": "display_data"
    }
   ],
   "source": [
    "data['days_exposition'].hist(bins=100);\n"
   ]
  },
  {
   "cell_type": "code",
   "execution_count": 41,
   "metadata": {
    "scrolled": false
   },
   "outputs": [
    {
     "data": {
      "image/png": "[encoded data removed]",
      "text/plain": [
       "<Figure size 432x288 with 1 Axes>"
      ]
     },
     "metadata": {
      "needs_background": "light"
     },
     "output_type": "display_data"
    }
   ],
   "source": [
    "data.boxplot('days_exposition')\n",
    "plt.show()\n"
   ]
  },
  {
   "cell_type": "code",
   "execution_count": 42,
   "metadata": {},
   "outputs": [
    {
     "data": {
      "text/plain": [
       "count    20518.000000\n",
       "mean       180.888634\n",
       "std        219.727988\n",
       "min          1.000000\n",
       "25%         45.000000\n",
       "50%         95.000000\n",
       "75%        232.000000\n",
       "max       1580.000000\n",
       "Name: days_exposition, dtype: float64"
      ]
     },
     "execution_count": 42,
     "metadata": {},
     "output_type": "execute_result"
    }
   ],
   "source": [
    "data['days_exposition'].describe()"
   ]
  },
  {
   "cell_type": "markdown",
   "metadata": {},
   "source": [
    "По результатам анализа времени продажи квартир можно сделать следующие выводы:\n",
    "- С увеличением времени экспонирования квартиры - снижается количество завершенных сделок по продаже\n",
    "- Медианное значение времени продажи составляет 95 дней, самые быстрые продажи занимают не более одного дня, самая долгое время продажи - 1589 дней.\n",
    "- Судя по набору данных, все сделки, которые были совершены менее чем за 45 дней (Q1) можно считать быстрыми, а в случае, если объявление находилось на сайте дольше 232 дней (Q3) - долгими\n",
    "\n"
   ]
  },
  {
   "cell_type": "code",
   "execution_count": 43,
   "metadata": {},
   "outputs": [
    {
     "data": {
      "text/plain": [
       "count    18769.000000\n",
       "mean       127.145080\n",
       "std        119.259737\n",
       "min          1.000000\n",
       "25%         41.000000\n",
       "50%         84.000000\n",
       "75%        181.000000\n",
       "max        500.000000\n",
       "Name: days_exposition, dtype: float64"
      ]
     },
     "execution_count": 43,
     "metadata": {},
     "output_type": "execute_result"
    },
    {
     "data": {
      "image/png": "[encoded data removed]",
      "text/plain": [
       "<Figure size 432x288 with 1 Axes>"
      ]
     },
     "metadata": {
      "needs_background": "light"
     },
     "output_type": "display_data"
    }
   ],
   "source": [
    "days_exposition_good = data.query('days_exposition <= 500')['days_exposition']\n",
    "days_exposition_good.hist(bins=50)\n",
    "plt.xticks(np.arange(0,500, 50))\n",
    "days_exposition_good.describe()"
   ]
  },
  {
   "cell_type": "markdown",
   "metadata": {},
   "source": [
    "По результатам анализа, можно сделать вывод о том, что все значения времени более 500 дней являются выбросами. Исключив выбросы, можно отметить что наибольшая частотность времени продажи квартир составляет 50 дней. Медианное время продажи составляет 84 дня, а среднее время 127 дней. Разница в значениях может быть объяснена высоким стандартным отклонением. В числовом наборе данных явно видно преобладание количества сделок, которые заняли менее 150 дней."
   ]
  },
  {
   "cell_type": "markdown",
   "metadata": {},
   "source": [
    "* Определим какие факторы больше всего влияют на стоимость квартиры. Изучим, зависит ли цена от площади, числа комнат, удалённости от центра. Изучим зависимость цены от того, на каком этаже расположена квартира: первом, последнем или другом. Изучим зависимость от даты размещения: дня недели, месяца и года."
   ]
  },
  {
   "cell_type": "code",
   "execution_count": 44,
   "metadata": {},
   "outputs": [
    {
     "data": {
      "text/html": [
       "<div>\n",
       "<style scoped>\n",
       "    .dataframe tbody tr th:only-of-type {\n",
       "        vertical-align: middle;\n",
       "    }\n",
       "\n",
       "    .dataframe tbody tr th {\n",
       "        vertical-align: top;\n",
       "    }\n",
       "\n",
       "    .dataframe thead th {\n",
       "        text-align: right;\n",
       "    }\n",
       "</style>\n",
       "<table border=\"1\" class=\"dataframe\">\n",
       "  <thead>\n",
       "    <tr style=\"text-align: right;\">\n",
       "      <th></th>\n",
       "      <th>last_price</th>\n",
       "      <th>total_area</th>\n",
       "      <th>one_meter_price</th>\n",
       "      <th>rooms</th>\n",
       "      <th>city_centers_nearest</th>\n",
       "    </tr>\n",
       "  </thead>\n",
       "  <tbody>\n",
       "    <tr>\n",
       "      <th>last_price</th>\n",
       "      <td>1.000000</td>\n",
       "      <td>0.643127</td>\n",
       "      <td>0.736485</td>\n",
       "      <td>0.353990</td>\n",
       "      <td>-0.193437</td>\n",
       "    </tr>\n",
       "    <tr>\n",
       "      <th>total_area</th>\n",
       "      <td>0.643127</td>\n",
       "      <td>1.000000</td>\n",
       "      <td>0.304522</td>\n",
       "      <td>0.759554</td>\n",
       "      <td>-0.225614</td>\n",
       "    </tr>\n",
       "    <tr>\n",
       "      <th>one_meter_price</th>\n",
       "      <td>0.736485</td>\n",
       "      <td>0.304522</td>\n",
       "      <td>1.000000</td>\n",
       "      <td>0.052605</td>\n",
       "      <td>-0.317436</td>\n",
       "    </tr>\n",
       "    <tr>\n",
       "      <th>rooms</th>\n",
       "      <td>0.353990</td>\n",
       "      <td>0.759554</td>\n",
       "      <td>0.052605</td>\n",
       "      <td>1.000000</td>\n",
       "      <td>-0.181681</td>\n",
       "    </tr>\n",
       "    <tr>\n",
       "      <th>city_centers_nearest</th>\n",
       "      <td>-0.193437</td>\n",
       "      <td>-0.225614</td>\n",
       "      <td>-0.317436</td>\n",
       "      <td>-0.181681</td>\n",
       "      <td>1.000000</td>\n",
       "    </tr>\n",
       "  </tbody>\n",
       "</table>\n",
       "</div>"
      ],
      "text/plain": [
       "                      last_price  total_area  one_meter_price     rooms  \\\n",
       "last_price              1.000000    0.643127         0.736485  0.353990   \n",
       "total_area              0.643127    1.000000         0.304522  0.759554   \n",
       "one_meter_price         0.736485    0.304522         1.000000  0.052605   \n",
       "rooms                   0.353990    0.759554         0.052605  1.000000   \n",
       "city_centers_nearest   -0.193437   -0.225614        -0.317436 -0.181681   \n",
       "\n",
       "                      city_centers_nearest  \n",
       "last_price                       -0.193437  \n",
       "total_area                       -0.225614  \n",
       "one_meter_price                  -0.317436  \n",
       "rooms                            -0.181681  \n",
       "city_centers_nearest              1.000000  "
      ]
     },
     "execution_count": 44,
     "metadata": {},
     "output_type": "execute_result"
    }
   ],
   "source": [
    "price_param_corr = data[['last_price', 'total_area','one_meter_price','rooms', 'city_centers_nearest']]\n",
    "price_param_corr.corr()\n"
   ]
  },
  {
   "cell_type": "code",
   "execution_count": 45,
   "metadata": {},
   "outputs": [
    {
     "data": {
      "image/png": "[encoded data removed]",
      "text/plain": [
       "<Figure size 720x720 with 25 Axes>"
      ]
     },
     "metadata": {
      "needs_background": "light"
     },
     "output_type": "display_data"
    }
   ],
   "source": [
    "pd.plotting.scatter_matrix(price_param_corr,figsize=(10,10));"
   ]
  },
  {
   "cell_type": "markdown",
   "metadata": {},
   "source": [
    "По итогам анализа коэффицента корреляции и графика рассеивания можно сделать следующие выводы:\n",
    "- очевидно что на конечную цену квартиры влияет ее площадь. Коэфф. корелляции принимает значение 0.6 что является довольно высоким значением. При этом сверхдорогие квартиры, выше 40 млн рублей, находятся в сегменте квартир площадью более 500 метров\n",
    "- количество комнтат в меньшей степени чем общая площадь, но все же влияет на конечную стоимость квартиры. Коэфф. корреляции тут составляет 0.3\n",
    "- Расстояние от центра влияет как на конечную стоимость квартиры, так и на стоимость квадратного метра жилья. При этом корреляция отрицатиельная и принимает значение -0.19 и -0.3 соответственно. Следовательно, чем меньше значение расстояния от центра, тем больше стоимость лота"
   ]
  },
  {
   "cell_type": "code",
   "execution_count": 46,
   "metadata": {},
   "outputs": [
    {
     "data": {
      "text/html": [
       "<div>\n",
       "<style scoped>\n",
       "    .dataframe tbody tr th:only-of-type {\n",
       "        vertical-align: middle;\n",
       "    }\n",
       "\n",
       "    .dataframe tbody tr th {\n",
       "        vertical-align: top;\n",
       "    }\n",
       "\n",
       "    .dataframe thead th {\n",
       "        text-align: right;\n",
       "    }\n",
       "</style>\n",
       "<table border=\"1\" class=\"dataframe\">\n",
       "  <thead>\n",
       "    <tr style=\"text-align: right;\">\n",
       "      <th></th>\n",
       "      <th>one_meter_price</th>\n",
       "      <th>last_price</th>\n",
       "      <th>week_day_exposition</th>\n",
       "      <th>month_exposition</th>\n",
       "      <th>year_exposition</th>\n",
       "    </tr>\n",
       "  </thead>\n",
       "  <tbody>\n",
       "    <tr>\n",
       "      <th>one_meter_price</th>\n",
       "      <td>1.000000</td>\n",
       "      <td>0.736485</td>\n",
       "      <td>0.000555</td>\n",
       "      <td>0.007033</td>\n",
       "      <td>-0.010628</td>\n",
       "    </tr>\n",
       "    <tr>\n",
       "      <th>last_price</th>\n",
       "      <td>0.736485</td>\n",
       "      <td>1.000000</td>\n",
       "      <td>0.004637</td>\n",
       "      <td>0.005631</td>\n",
       "      <td>-0.061122</td>\n",
       "    </tr>\n",
       "    <tr>\n",
       "      <th>week_day_exposition</th>\n",
       "      <td>0.000555</td>\n",
       "      <td>0.004637</td>\n",
       "      <td>1.000000</td>\n",
       "      <td>0.009927</td>\n",
       "      <td>0.006024</td>\n",
       "    </tr>\n",
       "    <tr>\n",
       "      <th>month_exposition</th>\n",
       "      <td>0.007033</td>\n",
       "      <td>0.005631</td>\n",
       "      <td>0.009927</td>\n",
       "      <td>1.000000</td>\n",
       "      <td>-0.196851</td>\n",
       "    </tr>\n",
       "    <tr>\n",
       "      <th>year_exposition</th>\n",
       "      <td>-0.010628</td>\n",
       "      <td>-0.061122</td>\n",
       "      <td>0.006024</td>\n",
       "      <td>-0.196851</td>\n",
       "      <td>1.000000</td>\n",
       "    </tr>\n",
       "  </tbody>\n",
       "</table>\n",
       "</div>"
      ],
      "text/plain": [
       "                     one_meter_price  last_price  week_day_exposition  \\\n",
       "one_meter_price             1.000000    0.736485             0.000555   \n",
       "last_price                  0.736485    1.000000             0.004637   \n",
       "week_day_exposition         0.000555    0.004637             1.000000   \n",
       "month_exposition            0.007033    0.005631             0.009927   \n",
       "year_exposition            -0.010628   -0.061122             0.006024   \n",
       "\n",
       "                     month_exposition  year_exposition  \n",
       "one_meter_price              0.007033        -0.010628  \n",
       "last_price                   0.005631        -0.061122  \n",
       "week_day_exposition          0.009927         0.006024  \n",
       "month_exposition             1.000000        -0.196851  \n",
       "year_exposition             -0.196851         1.000000  "
      ]
     },
     "execution_count": 46,
     "metadata": {},
     "output_type": "execute_result"
    }
   ],
   "source": [
    "price_year_corr = data[['one_meter_price','last_price','week_day_exposition', 'month_exposition', 'year_exposition']]\n",
    "price_year_corr.corr()"
   ]
  },
  {
   "cell_type": "code",
   "execution_count": 47,
   "metadata": {},
   "outputs": [
    {
     "data": {
      "image/png": "[encoded data removed]",
      "text/plain": [
       "<Figure size 720x720 with 25 Axes>"
      ]
     },
     "metadata": {
      "needs_background": "light"
     },
     "output_type": "display_data"
    }
   ],
   "source": [
    "pd.plotting.scatter_matrix(price_year_corr, figsize=(10,10));"
   ]
  },
  {
   "cell_type": "markdown",
   "metadata": {},
   "source": [
    "корреляция между стоимостью квартиры и датой публикации объявления является несущественной и можно говорить о ее отсутствии. При этом график рассеивания говорит о том, что самые дорогие квартиры были выставлены на продажу начиная с 2016 года и чаще всего в первые и последние месяцы в году\n"
   ]
  },
  {
   "cell_type": "code",
   "execution_count": 48,
   "metadata": {},
   "outputs": [
    {
     "data": {
      "image/png": "[encoded data removed]",
      "text/plain": [
       "<Figure size 864x288 with 1 Axes>"
      ]
     },
     "metadata": {
      "needs_background": "light"
     },
     "output_type": "display_data"
    }
   ],
   "source": [
    "data[['one_meter_price','floor_type']].plot(x='one_meter_price', y='floor_type',kind='scatter',figsize=(12,4));"
   ]
  },
  {
   "cell_type": "markdown",
   "metadata": {},
   "source": [
    "График рассеивания стоимости квартир в зависимости от этажности, показывает что стоимость квадратного метра для квартир не на первом или последнем этаже чаще принимает более высокие значения. При этом квартир на первом этаже не встречется выше 50 000 рублей за кв.метр в принципе"
   ]
  },
  {
   "cell_type": "markdown",
   "metadata": {},
   "source": [
    "* Определим 10 населённых пунктов с наибольшим числом объявлений. Посчитаем среднюю цену квадратного метра в этих населённых пунктах. Выделим населённые пункты с самой высокой и низкой стоимостью жилья."
   ]
  },
  {
   "cell_type": "code",
   "execution_count": 49,
   "metadata": {},
   "outputs": [
    {
     "data": {
      "text/html": [
       "<div>\n",
       "<style scoped>\n",
       "    .dataframe tbody tr th:only-of-type {\n",
       "        vertical-align: middle;\n",
       "    }\n",
       "\n",
       "    .dataframe tbody tr th {\n",
       "        vertical-align: top;\n",
       "    }\n",
       "\n",
       "    .dataframe thead th {\n",
       "        text-align: right;\n",
       "    }\n",
       "</style>\n",
       "<table border=\"1\" class=\"dataframe\">\n",
       "  <thead>\n",
       "    <tr style=\"text-align: right;\">\n",
       "      <th></th>\n",
       "      <th>locality_name</th>\n",
       "      <th>total_offers</th>\n",
       "      <th>one_meter_median</th>\n",
       "    </tr>\n",
       "  </thead>\n",
       "  <tbody>\n",
       "    <tr>\n",
       "      <th>0</th>\n",
       "      <td>Санкт-Петербург</td>\n",
       "      <td>13638</td>\n",
       "      <td>103057.329802</td>\n",
       "    </tr>\n",
       "    <tr>\n",
       "      <th>1</th>\n",
       "      <td>поселок Мурино</td>\n",
       "      <td>551</td>\n",
       "      <td>86075.949367</td>\n",
       "    </tr>\n",
       "    <tr>\n",
       "      <th>2</th>\n",
       "      <td>поселок Шушары</td>\n",
       "      <td>408</td>\n",
       "      <td>76220.394737</td>\n",
       "    </tr>\n",
       "    <tr>\n",
       "      <th>3</th>\n",
       "      <td>Всеволожск</td>\n",
       "      <td>339</td>\n",
       "      <td>65789.473684</td>\n",
       "    </tr>\n",
       "    <tr>\n",
       "      <th>4</th>\n",
       "      <td>Колпино</td>\n",
       "      <td>308</td>\n",
       "      <td>74005.089610</td>\n",
       "    </tr>\n",
       "    <tr>\n",
       "      <th>5</th>\n",
       "      <td>Пушкин</td>\n",
       "      <td>307</td>\n",
       "      <td>97938.144330</td>\n",
       "    </tr>\n",
       "    <tr>\n",
       "      <th>6</th>\n",
       "      <td>поселок Парголово</td>\n",
       "      <td>302</td>\n",
       "      <td>91387.362637</td>\n",
       "    </tr>\n",
       "    <tr>\n",
       "      <th>7</th>\n",
       "      <td>деревня Кудрово</td>\n",
       "      <td>299</td>\n",
       "      <td>91860.465116</td>\n",
       "    </tr>\n",
       "    <tr>\n",
       "      <th>8</th>\n",
       "      <td>Гатчина</td>\n",
       "      <td>268</td>\n",
       "      <td>67180.706522</td>\n",
       "    </tr>\n",
       "    <tr>\n",
       "      <th>9</th>\n",
       "      <td>Выборг</td>\n",
       "      <td>208</td>\n",
       "      <td>56960.594315</td>\n",
       "    </tr>\n",
       "  </tbody>\n",
       "</table>\n",
       "</div>"
      ],
      "text/plain": [
       "       locality_name  total_offers  one_meter_median\n",
       "0    Санкт-Петербург         13638     103057.329802\n",
       "1     поселок Мурино           551      86075.949367\n",
       "2     поселок Шушары           408      76220.394737\n",
       "3         Всеволожск           339      65789.473684\n",
       "4            Колпино           308      74005.089610\n",
       "5             Пушкин           307      97938.144330\n",
       "6  поселок Парголово           302      91387.362637\n",
       "7    деревня Кудрово           299      91860.465116\n",
       "8            Гатчина           268      67180.706522\n",
       "9             Выборг           208      56960.594315"
      ]
     },
     "execution_count": 49,
     "metadata": {},
     "output_type": "execute_result"
    }
   ],
   "source": [
    "data_new = data.pivot_table(index='locality_name', values='one_meter_price', \n",
    "                 aggfunc= ['count','median'])\n",
    "data_new.columns = ['total_offers','one_meter_median']\n",
    "data_new = data_new.sort_values(by='total_offers',ascending=False).head(10).reset_index()\n",
    "data_new\n"
   ]
  },
  {
   "cell_type": "code",
   "execution_count": 50,
   "metadata": {},
   "outputs": [
    {
     "name": "stdout",
     "output_type": "stream",
     "text": [
      "населенные пункты с самой высокой и самой низкой средней стоимостью квадратного метра жилья\n"
     ]
    },
    {
     "data": {
      "text/html": [
       "<div>\n",
       "<style scoped>\n",
       "    .dataframe tbody tr th:only-of-type {\n",
       "        vertical-align: middle;\n",
       "    }\n",
       "\n",
       "    .dataframe tbody tr th {\n",
       "        vertical-align: top;\n",
       "    }\n",
       "\n",
       "    .dataframe thead th {\n",
       "        text-align: right;\n",
       "    }\n",
       "</style>\n",
       "<table border=\"1\" class=\"dataframe\">\n",
       "  <thead>\n",
       "    <tr style=\"text-align: right;\">\n",
       "      <th></th>\n",
       "      <th>locality_name</th>\n",
       "      <th>total_offers</th>\n",
       "      <th>one_meter_median</th>\n",
       "    </tr>\n",
       "  </thead>\n",
       "  <tbody>\n",
       "    <tr>\n",
       "      <th>0</th>\n",
       "      <td>Санкт-Петербург</td>\n",
       "      <td>13638</td>\n",
       "      <td>103057.329802</td>\n",
       "    </tr>\n",
       "  </tbody>\n",
       "</table>\n",
       "</div>"
      ],
      "text/plain": [
       "     locality_name  total_offers  one_meter_median\n",
       "0  Санкт-Петербург         13638     103057.329802"
      ]
     },
     "metadata": {},
     "output_type": "display_data"
    },
    {
     "data": {
      "text/html": [
       "<div>\n",
       "<style scoped>\n",
       "    .dataframe tbody tr th:only-of-type {\n",
       "        vertical-align: middle;\n",
       "    }\n",
       "\n",
       "    .dataframe tbody tr th {\n",
       "        vertical-align: top;\n",
       "    }\n",
       "\n",
       "    .dataframe thead th {\n",
       "        text-align: right;\n",
       "    }\n",
       "</style>\n",
       "<table border=\"1\" class=\"dataframe\">\n",
       "  <thead>\n",
       "    <tr style=\"text-align: right;\">\n",
       "      <th></th>\n",
       "      <th>locality_name</th>\n",
       "      <th>total_offers</th>\n",
       "      <th>one_meter_median</th>\n",
       "    </tr>\n",
       "  </thead>\n",
       "  <tbody>\n",
       "    <tr>\n",
       "      <th>9</th>\n",
       "      <td>Выборг</td>\n",
       "      <td>208</td>\n",
       "      <td>56960.594315</td>\n",
       "    </tr>\n",
       "  </tbody>\n",
       "</table>\n",
       "</div>"
      ],
      "text/plain": [
       "  locality_name  total_offers  one_meter_median\n",
       "9        Выборг           208      56960.594315"
      ]
     },
     "metadata": {},
     "output_type": "display_data"
    }
   ],
   "source": [
    "print('населенные пункты с самой высокой и самой низкой средней стоимостью квадратного метра жилья')\n",
    "display(data_new[data_new['one_meter_median'] == data_new['one_meter_median'].max()])\n",
    "display(data_new[data_new['one_meter_median'] == data_new['one_meter_median'].min()])\n"
   ]
  },
  {
   "cell_type": "markdown",
   "metadata": {},
   "source": [
    "* Изучим предложения квартир: для каждой квартиры есть информация о расстоянии до центра. Выделим квартиры в Санкт-Петербурге. Задача — выяснить, какая область входит в центр."
   ]
  },
  {
   "cell_type": "code",
   "execution_count": 51,
   "metadata": {},
   "outputs": [
    {
     "name": "stdout",
     "output_type": "stream",
     "text": [
      "Изменение стоимости квартир в целом\n"
     ]
    },
    {
     "data": {
      "image/png": "[encoded data removed]",
      "text/plain": [
       "<Figure size 432x288 with 1 Axes>"
      ]
     },
     "metadata": {
      "needs_background": "light"
     },
     "output_type": "display_data"
    },
    {
     "name": "stdout",
     "output_type": "stream",
     "text": [
      "Изменение стоимости одного квадратного метра жилья\n"
     ]
    },
    {
     "data": {
      "image/png": "[encoded data removed]",
      "text/plain": [
       "<Figure size 432x288 with 1 Axes>"
      ]
     },
     "metadata": {
      "needs_background": "light"
     },
     "output_type": "display_data"
    }
   ],
   "source": [
    "data_spb = data.query('locality_name == \"Санкт-Петербург\"').dropna(subset=['city_centers_nearest'])\n",
    "data_spb['city_centers_nearest'] = (data_spb ['city_centers_nearest'] / 1000).astype('int')\n",
    "\n",
    "print('Изменение стоимости квартир в целом')\n",
    "data_spb.groupby('city_centers_nearest')['last_price'].agg(['mean','median']).plot(grid=True);\n",
    "plt.xticks(np.arange(0,30, 3))\n",
    "plt.show()\n",
    "\n",
    "print('Изменение стоимости одного квадратного метра жилья')\n",
    "data_spb.groupby('city_centers_nearest')['one_meter_price'].agg(['mean','median']).plot(grid=True);\n",
    "plt.show()\n"
   ]
  },
  {
   "cell_type": "markdown",
   "metadata": {},
   "source": [
    "График стоимости квартиры и квадратного метра квартиры имеет несколько очевидных точек на оси Х где значения стоимости начинают существенно изменяться.\n",
    "- Видно что начиная с 7 километров от центра идет резкое падение и последующая стабилизация графика стоимости как квартиры в целом, так и квадратного метра жилья, следовательно будем считать 7 км - границей центра города.\n",
    "- На отрезке между 25 и 28 км от центра присутствует выброс на графике - непропорционально высокая стоимость жилья."
   ]
  },
  {
   "cell_type": "code",
   "execution_count": 52,
   "metadata": {},
   "outputs": [
    {
     "data": {
      "text/html": [
       "<div>\n",
       "<style scoped>\n",
       "    .dataframe tbody tr th:only-of-type {\n",
       "        vertical-align: middle;\n",
       "    }\n",
       "\n",
       "    .dataframe tbody tr th {\n",
       "        vertical-align: top;\n",
       "    }\n",
       "\n",
       "    .dataframe thead th {\n",
       "        text-align: right;\n",
       "    }\n",
       "</style>\n",
       "<table border=\"1\" class=\"dataframe\">\n",
       "  <thead>\n",
       "    <tr style=\"text-align: right;\">\n",
       "      <th></th>\n",
       "      <th>total_images</th>\n",
       "      <th>last_price</th>\n",
       "      <th>total_area</th>\n",
       "      <th>first_day_exposition</th>\n",
       "      <th>rooms</th>\n",
       "      <th>ceiling_height</th>\n",
       "      <th>floors_total</th>\n",
       "      <th>living_area</th>\n",
       "      <th>floor</th>\n",
       "      <th>is_apartment</th>\n",
       "      <th>studio</th>\n",
       "      <th>open_plan</th>\n",
       "      <th>kitchen_area</th>\n",
       "      <th>balcony</th>\n",
       "      <th>locality_name</th>\n",
       "      <th>airports_nearest</th>\n",
       "      <th>city_centers_nearest</th>\n",
       "      <th>parks_around3000</th>\n",
       "      <th>parks_nearest</th>\n",
       "      <th>ponds_around3000</th>\n",
       "      <th>ponds_nearest</th>\n",
       "      <th>days_exposition</th>\n",
       "      <th>one_meter_price</th>\n",
       "      <th>week_day_exposition</th>\n",
       "      <th>month_exposition</th>\n",
       "      <th>year_exposition</th>\n",
       "      <th>floor_type</th>\n",
       "      <th>living_total_ratio</th>\n",
       "      <th>kitchen_total_ratio</th>\n",
       "    </tr>\n",
       "  </thead>\n",
       "  <tbody>\n",
       "    <tr>\n",
       "      <th>748</th>\n",
       "      <td>13</td>\n",
       "      <td>14350000.0</td>\n",
       "      <td>74.0</td>\n",
       "      <td>2017-11-28</td>\n",
       "      <td>2</td>\n",
       "      <td>3.13</td>\n",
       "      <td>5.0</td>\n",
       "      <td>30.0</td>\n",
       "      <td>3</td>\n",
       "      <td>False</td>\n",
       "      <td>False</td>\n",
       "      <td>False</td>\n",
       "      <td>25.0</td>\n",
       "      <td>0.0</td>\n",
       "      <td>Санкт-Петербург</td>\n",
       "      <td>23888.0</td>\n",
       "      <td>27</td>\n",
       "      <td>1.0</td>\n",
       "      <td>1496.0</td>\n",
       "      <td>0.0</td>\n",
       "      <td>NaN</td>\n",
       "      <td>128.0</td>\n",
       "      <td>193918.918919</td>\n",
       "      <td>1</td>\n",
       "      <td>11</td>\n",
       "      <td>2017</td>\n",
       "      <td>Другой</td>\n",
       "      <td>0.405405</td>\n",
       "      <td>0.337838</td>\n",
       "    </tr>\n",
       "    <tr>\n",
       "      <th>5961</th>\n",
       "      <td>6</td>\n",
       "      <td>2250000.0</td>\n",
       "      <td>32.0</td>\n",
       "      <td>2018-02-27</td>\n",
       "      <td>1</td>\n",
       "      <td>2.70</td>\n",
       "      <td>2.0</td>\n",
       "      <td>16.5</td>\n",
       "      <td>2</td>\n",
       "      <td>False</td>\n",
       "      <td>False</td>\n",
       "      <td>False</td>\n",
       "      <td>7.0</td>\n",
       "      <td>0.0</td>\n",
       "      <td>Санкт-Петербург</td>\n",
       "      <td>24006.0</td>\n",
       "      <td>27</td>\n",
       "      <td>0.0</td>\n",
       "      <td>NaN</td>\n",
       "      <td>0.0</td>\n",
       "      <td>NaN</td>\n",
       "      <td>178.0</td>\n",
       "      <td>70312.500000</td>\n",
       "      <td>1</td>\n",
       "      <td>2</td>\n",
       "      <td>2018</td>\n",
       "      <td>Последний</td>\n",
       "      <td>0.515625</td>\n",
       "      <td>0.218750</td>\n",
       "    </tr>\n",
       "    <tr>\n",
       "      <th>7732</th>\n",
       "      <td>20</td>\n",
       "      <td>3975000.0</td>\n",
       "      <td>74.0</td>\n",
       "      <td>2018-08-20</td>\n",
       "      <td>3</td>\n",
       "      <td>3.20</td>\n",
       "      <td>3.0</td>\n",
       "      <td>43.8</td>\n",
       "      <td>2</td>\n",
       "      <td>False</td>\n",
       "      <td>False</td>\n",
       "      <td>False</td>\n",
       "      <td>14.0</td>\n",
       "      <td>0.0</td>\n",
       "      <td>Санкт-Петербург</td>\n",
       "      <td>22679.0</td>\n",
       "      <td>26</td>\n",
       "      <td>0.0</td>\n",
       "      <td>NaN</td>\n",
       "      <td>1.0</td>\n",
       "      <td>498.0</td>\n",
       "      <td>112.0</td>\n",
       "      <td>53716.216216</td>\n",
       "      <td>0</td>\n",
       "      <td>8</td>\n",
       "      <td>2018</td>\n",
       "      <td>Другой</td>\n",
       "      <td>0.591892</td>\n",
       "      <td>0.189189</td>\n",
       "    </tr>\n",
       "    <tr>\n",
       "      <th>14146</th>\n",
       "      <td>18</td>\n",
       "      <td>4150000.0</td>\n",
       "      <td>36.0</td>\n",
       "      <td>2018-09-05</td>\n",
       "      <td>1</td>\n",
       "      <td>2.50</td>\n",
       "      <td>10.0</td>\n",
       "      <td>20.0</td>\n",
       "      <td>7</td>\n",
       "      <td>False</td>\n",
       "      <td>False</td>\n",
       "      <td>False</td>\n",
       "      <td>7.0</td>\n",
       "      <td>1.0</td>\n",
       "      <td>Санкт-Петербург</td>\n",
       "      <td>22603.0</td>\n",
       "      <td>26</td>\n",
       "      <td>0.0</td>\n",
       "      <td>NaN</td>\n",
       "      <td>0.0</td>\n",
       "      <td>NaN</td>\n",
       "      <td>45.0</td>\n",
       "      <td>115277.777778</td>\n",
       "      <td>2</td>\n",
       "      <td>9</td>\n",
       "      <td>2018</td>\n",
       "      <td>Другой</td>\n",
       "      <td>0.555556</td>\n",
       "      <td>0.194444</td>\n",
       "    </tr>\n",
       "    <tr>\n",
       "      <th>18378</th>\n",
       "      <td>9</td>\n",
       "      <td>2600000.0</td>\n",
       "      <td>46.0</td>\n",
       "      <td>2017-11-10</td>\n",
       "      <td>1</td>\n",
       "      <td>2.70</td>\n",
       "      <td>2.0</td>\n",
       "      <td>20.0</td>\n",
       "      <td>1</td>\n",
       "      <td>False</td>\n",
       "      <td>False</td>\n",
       "      <td>False</td>\n",
       "      <td>15.0</td>\n",
       "      <td>0.0</td>\n",
       "      <td>Санкт-Петербург</td>\n",
       "      <td>22861.0</td>\n",
       "      <td>26</td>\n",
       "      <td>0.0</td>\n",
       "      <td>NaN</td>\n",
       "      <td>0.0</td>\n",
       "      <td>NaN</td>\n",
       "      <td>29.0</td>\n",
       "      <td>56521.739130</td>\n",
       "      <td>4</td>\n",
       "      <td>11</td>\n",
       "      <td>2017</td>\n",
       "      <td>Первый</td>\n",
       "      <td>0.434783</td>\n",
       "      <td>0.326087</td>\n",
       "    </tr>\n",
       "  </tbody>\n",
       "</table>\n",
       "</div>"
      ],
      "text/plain": [
       "       total_images  last_price  total_area first_day_exposition  rooms  \\\n",
       "748              13  14350000.0        74.0           2017-11-28      2   \n",
       "5961              6   2250000.0        32.0           2018-02-27      1   \n",
       "7732             20   3975000.0        74.0           2018-08-20      3   \n",
       "14146            18   4150000.0        36.0           2018-09-05      1   \n",
       "18378             9   2600000.0        46.0           2017-11-10      1   \n",
       "\n",
       "       ceiling_height  floors_total  living_area  floor  is_apartment  studio  \\\n",
       "748              3.13           5.0         30.0      3         False   False   \n",
       "5961             2.70           2.0         16.5      2         False   False   \n",
       "7732             3.20           3.0         43.8      2         False   False   \n",
       "14146            2.50          10.0         20.0      7         False   False   \n",
       "18378            2.70           2.0         20.0      1         False   False   \n",
       "\n",
       "       open_plan  kitchen_area  balcony    locality_name  airports_nearest  \\\n",
       "748        False          25.0      0.0  Санкт-Петербург           23888.0   \n",
       "5961       False           7.0      0.0  Санкт-Петербург           24006.0   \n",
       "7732       False          14.0      0.0  Санкт-Петербург           22679.0   \n",
       "14146      False           7.0      1.0  Санкт-Петербург           22603.0   \n",
       "18378      False          15.0      0.0  Санкт-Петербург           22861.0   \n",
       "\n",
       "       city_centers_nearest  parks_around3000  parks_nearest  \\\n",
       "748                      27               1.0         1496.0   \n",
       "5961                     27               0.0            NaN   \n",
       "7732                     26               0.0            NaN   \n",
       "14146                    26               0.0            NaN   \n",
       "18378                    26               0.0            NaN   \n",
       "\n",
       "       ponds_around3000  ponds_nearest  days_exposition  one_meter_price  \\\n",
       "748                 0.0            NaN            128.0    193918.918919   \n",
       "5961                0.0            NaN            178.0     70312.500000   \n",
       "7732                1.0          498.0            112.0     53716.216216   \n",
       "14146               0.0            NaN             45.0    115277.777778   \n",
       "18378               0.0            NaN             29.0     56521.739130   \n",
       "\n",
       "       week_day_exposition  month_exposition  year_exposition floor_type  \\\n",
       "748                      1                11             2017     Другой   \n",
       "5961                     1                 2             2018  Последний   \n",
       "7732                     0                 8             2018     Другой   \n",
       "14146                    2                 9             2018     Другой   \n",
       "18378                    4                11             2017     Первый   \n",
       "\n",
       "       living_total_ratio  kitchen_total_ratio  \n",
       "748              0.405405             0.337838  \n",
       "5961             0.515625             0.218750  \n",
       "7732             0.591892             0.189189  \n",
       "14146            0.555556             0.194444  \n",
       "18378            0.434783             0.326087  "
      ]
     },
     "execution_count": 52,
     "metadata": {},
     "output_type": "execute_result"
    }
   ],
   "source": [
    "#найдем странные выбросы в диапозоне от 25 до 28 метров\n",
    "data_spb.query('25<city_centers_nearest<28').head()"
   ]
  },
  {
   "cell_type": "markdown",
   "metadata": {},
   "source": [
    "На уровне значения 27 км от центра есть всего 2 предложения, одно из которых сильно смещает медиану и среднее - это двухкомнатная квартира стоимостью 14,3 млн рублей. Необходимо обратить дополнительное внимание на этот лот. Возможно это было какое-то уникальное предложение или ошибка данных"
   ]
  },
  {
   "cell_type": "markdown",
   "metadata": {},
   "source": [
    "* Выделим сегмент квартир в центре. Проанализируем эту территорию и изучим следующие параметры: площадь, цена, число комнат, высота потолков. Также выделим факторы, которые влияют на стоимость квартиры (число комнат, этаж, удалённость от центра, дата размещения объявления)."
   ]
  },
  {
   "cell_type": "code",
   "execution_count": 53,
   "metadata": {},
   "outputs": [],
   "source": [
    "#исходя из полученных результатов анализа на предыдущем эатпе, выделим квартиры центра города\n",
    "data_spb_center = data_spb.query('city_centers_nearest < 7')\n"
   ]
  },
  {
   "cell_type": "code",
   "execution_count": 54,
   "metadata": {},
   "outputs": [
    {
     "name": "stdout",
     "output_type": "stream",
     "text": [
      "total_area центр Петербурга\n"
     ]
    },
    {
     "data": {
      "image/png": "[encoded data removed]",
      "text/plain": [
       "<Figure size 432x288 with 1 Axes>"
      ]
     },
     "metadata": {
      "needs_background": "light"
     },
     "output_type": "display_data"
    },
    {
     "name": "stdout",
     "output_type": "stream",
     "text": [
      "total_area знчения всего датасета\n"
     ]
    },
    {
     "data": {
      "image/png": "[encoded data removed]",
      "text/plain": [
       "<Figure size 432x288 with 1 Axes>"
      ]
     },
     "metadata": {
      "needs_background": "light"
     },
     "output_type": "display_data"
    },
    {
     "name": "stdout",
     "output_type": "stream",
     "text": [
      "last_price центр Петербурга\n"
     ]
    },
    {
     "data": {
      "image/png": "[encoded data removed]",
      "text/plain": [
       "<Figure size 432x288 with 1 Axes>"
      ]
     },
     "metadata": {
      "needs_background": "light"
     },
     "output_type": "display_data"
    },
    {
     "name": "stdout",
     "output_type": "stream",
     "text": [
      "last_price знчения всего датасета\n"
     ]
    },
    {
     "data": {
      "image/png": "[encoded data removed]",
      "text/plain": [
       "<Figure size 432x288 with 1 Axes>"
      ]
     },
     "metadata": {
      "needs_background": "light"
     },
     "output_type": "display_data"
    },
    {
     "name": "stdout",
     "output_type": "stream",
     "text": [
      "one_meter_price центр Петербурга\n"
     ]
    },
    {
     "data": {
      "image/png": "[encoded data removed]",
      "text/plain": [
       "<Figure size 432x288 with 1 Axes>"
      ]
     },
     "metadata": {
      "needs_background": "light"
     },
     "output_type": "display_data"
    },
    {
     "name": "stdout",
     "output_type": "stream",
     "text": [
      "one_meter_price знчения всего датасета\n"
     ]
    },
    {
     "data": {
      "image/png": "[encoded data removed]",
      "text/plain": [
       "<Figure size 432x288 with 1 Axes>"
      ]
     },
     "metadata": {
      "needs_background": "light"
     },
     "output_type": "display_data"
    },
    {
     "name": "stdout",
     "output_type": "stream",
     "text": [
      "rooms центр Петербурга\n"
     ]
    },
    {
     "data": {
      "image/png": "[encoded data removed]",
      "text/plain": [
       "<Figure size 432x288 with 1 Axes>"
      ]
     },
     "metadata": {
      "needs_background": "light"
     },
     "output_type": "display_data"
    },
    {
     "name": "stdout",
     "output_type": "stream",
     "text": [
      "rooms знчения всего датасета\n"
     ]
    },
    {
     "data": {
      "image/png": "[encoded data removed]",
      "text/plain": [
       "<Figure size 432x288 with 1 Axes>"
      ]
     },
     "metadata": {
      "needs_background": "light"
     },
     "output_type": "display_data"
    },
    {
     "name": "stdout",
     "output_type": "stream",
     "text": [
      "ceiling_height центр Петербурга\n"
     ]
    },
    {
     "data": {
      "image/png": "[encoded data removed]",
      "text/plain": [
       "<Figure size 432x288 with 1 Axes>"
      ]
     },
     "metadata": {
      "needs_background": "light"
     },
     "output_type": "display_data"
    },
    {
     "name": "stdout",
     "output_type": "stream",
     "text": [
      "ceiling_height знчения всего датасета\n"
     ]
    },
    {
     "data": {
      "image/png": "[encoded data removed]",
      "text/plain": [
       "<Figure size 432x288 with 1 Axes>"
      ]
     },
     "metadata": {
      "needs_background": "light"
     },
     "output_type": "display_data"
    }
   ],
   "source": [
    "# создание графиков по центру Санкт-Петербурга и по всему датасету вцелом, для дальнейшего сравнения\n",
    "city_center_list = ['total_area','last_price','one_meter_price','rooms','ceiling_height']\n",
    "for i in city_center_list:\n",
    "    print(i, 'центр Петербурга')\n",
    "    data_spb_center[i].hist(bins=30,range=(0,data[i].median()*(1.25+1.5)))\n",
    "    plt.show()\n",
    "    print(i, 'знчения всего датасета')\n",
    "    data[i].hist(bins=30,range=(0,data[i].median()*(1.25+1.5)))\n",
    "    plt.show()"
   ]
  },
  {
   "cell_type": "markdown",
   "metadata": {},
   "source": [
    "Сравнение данных по всему датасету с данными по центру Санкт-Петербурга показывает следующие результаты:\n",
    "1. В центре города обычно продаются квартиры от 40 до 90 метров. При этом количество квартир в этом диапазоне в целом сопоставимо. В целом по датасету больше всего продано квартир от 30 до 50 метров, после 60 метров гистограмма показыввает существенное снижение количества предложений\n",
    "2. Стоимость квартир центра города принимает значения от 5 до 10 млн рублей за лот. Больше всего квартир продается в диапозоне между 6-8 миллонами рублей. При этом квартир стоимостью менее 4 млн. значительно меньше. По данным всего датасета стоимости квартир распределены нормально, больше всего предложений между 3-5 млн рублей.\n",
    "3. Стоимость квадратного метра центра показвает наибольшую частотность в диапозоне от 90 до 150 тысяч рублей за квадрат. Стоимостей меньше 60 тысяч рублей практически не встречается. По всему датасету распределение смещено влево и стремится к нормальному. Больше всего предложений от 70 до 100 тыс за кварат, при этом занчительно чаще встречаются квартиры, стоимостью от 30 до 50 тысяч\n",
    "4. Значения количества комнат в центре города в большей степени принимают значения 2 и 3 комнаты, при этом имеется порядка 400 четырехкомнтаных квартир и около 200 пятикомнатных квартир. По всему датасету преобладают однокомнатные и двухкомнатные квартиры, тогда как квартиры с большим количеством комнат встречаются значительно реже\n",
    "5. Высота потолков в квартирах центра города чаще всего принимает значение 2,5-2,7 метров. При этом сущесвтует пик на зачениях 3-3,5 метра. По всему датасету видно значинтельное преобладание квартир с более низкими потолками 2,5 метра"
   ]
  },
  {
   "cell_type": "code",
   "execution_count": 55,
   "metadata": {},
   "outputs": [
    {
     "data": {
      "text/html": [
       "<div>\n",
       "<style scoped>\n",
       "    .dataframe tbody tr th:only-of-type {\n",
       "        vertical-align: middle;\n",
       "    }\n",
       "\n",
       "    .dataframe tbody tr th {\n",
       "        vertical-align: top;\n",
       "    }\n",
       "\n",
       "    .dataframe thead th {\n",
       "        text-align: right;\n",
       "    }\n",
       "</style>\n",
       "<table border=\"1\" class=\"dataframe\">\n",
       "  <thead>\n",
       "    <tr style=\"text-align: right;\">\n",
       "      <th></th>\n",
       "      <th>last_price</th>\n",
       "      <th>one_meter_price</th>\n",
       "      <th>total_area</th>\n",
       "      <th>rooms</th>\n",
       "      <th>ceiling_height</th>\n",
       "      <th>city_centers_nearest</th>\n",
       "    </tr>\n",
       "  </thead>\n",
       "  <tbody>\n",
       "    <tr>\n",
       "      <th>last_price</th>\n",
       "      <td>1.000000</td>\n",
       "      <td>0.817458</td>\n",
       "      <td>0.604715</td>\n",
       "      <td>0.314603</td>\n",
       "      <td>0.107610</td>\n",
       "      <td>-0.044059</td>\n",
       "    </tr>\n",
       "    <tr>\n",
       "      <th>one_meter_price</th>\n",
       "      <td>0.817458</td>\n",
       "      <td>1.000000</td>\n",
       "      <td>0.270580</td>\n",
       "      <td>0.020740</td>\n",
       "      <td>0.040618</td>\n",
       "      <td>-0.020363</td>\n",
       "    </tr>\n",
       "    <tr>\n",
       "      <th>total_area</th>\n",
       "      <td>0.604715</td>\n",
       "      <td>0.270580</td>\n",
       "      <td>1.000000</td>\n",
       "      <td>0.734059</td>\n",
       "      <td>0.253175</td>\n",
       "      <td>-0.082848</td>\n",
       "    </tr>\n",
       "    <tr>\n",
       "      <th>rooms</th>\n",
       "      <td>0.314603</td>\n",
       "      <td>0.020740</td>\n",
       "      <td>0.734059</td>\n",
       "      <td>1.000000</td>\n",
       "      <td>0.225751</td>\n",
       "      <td>-0.169108</td>\n",
       "    </tr>\n",
       "    <tr>\n",
       "      <th>ceiling_height</th>\n",
       "      <td>0.107610</td>\n",
       "      <td>0.040618</td>\n",
       "      <td>0.253175</td>\n",
       "      <td>0.225751</td>\n",
       "      <td>1.000000</td>\n",
       "      <td>-0.191833</td>\n",
       "    </tr>\n",
       "    <tr>\n",
       "      <th>city_centers_nearest</th>\n",
       "      <td>-0.044059</td>\n",
       "      <td>-0.020363</td>\n",
       "      <td>-0.082848</td>\n",
       "      <td>-0.169108</td>\n",
       "      <td>-0.191833</td>\n",
       "      <td>1.000000</td>\n",
       "    </tr>\n",
       "  </tbody>\n",
       "</table>\n",
       "</div>"
      ],
      "text/plain": [
       "                      last_price  one_meter_price  total_area     rooms  \\\n",
       "last_price              1.000000         0.817458    0.604715  0.314603   \n",
       "one_meter_price         0.817458         1.000000    0.270580  0.020740   \n",
       "total_area              0.604715         0.270580    1.000000  0.734059   \n",
       "rooms                   0.314603         0.020740    0.734059  1.000000   \n",
       "ceiling_height          0.107610         0.040618    0.253175  0.225751   \n",
       "city_centers_nearest   -0.044059        -0.020363   -0.082848 -0.169108   \n",
       "\n",
       "                      ceiling_height  city_centers_nearest  \n",
       "last_price                  0.107610             -0.044059  \n",
       "one_meter_price             0.040618             -0.020363  \n",
       "total_area                  0.253175             -0.082848  \n",
       "rooms                       0.225751             -0.169108  \n",
       "ceiling_height              1.000000             -0.191833  \n",
       "city_centers_nearest       -0.191833              1.000000  "
      ]
     },
     "execution_count": 55,
     "metadata": {},
     "output_type": "execute_result"
    }
   ],
   "source": [
    "data_spb_center[['last_price','one_meter_price', 'total_area','rooms','ceiling_height','city_centers_nearest']].corr()"
   ]
  },
  {
   "cell_type": "markdown",
   "metadata": {},
   "source": [
    "Стоимость квартир центра Санкт-Петербурга в большей степени коррелирует с общей площадью (коэфф. корреляции = 0.6) и в меньшей степени с количестовом комнат (коэфф. корреляции = 0.3). Незанчительная корреляция с высотой потолков (коэфф. корреляции = 0.1). При этом близость к географической точке центра в границах 7 км совершенно не существенный фактор для стоимости."
   ]
  },
  {
   "cell_type": "code",
   "execution_count": 56,
   "metadata": {},
   "outputs": [
    {
     "data": {
      "image/png": "[encoded data removed]",
      "text/plain": [
       "<Figure size 432x288 with 1 Axes>"
      ]
     },
     "metadata": {
      "needs_background": "light"
     },
     "output_type": "display_data"
    }
   ],
   "source": [
    "data_spb_center.plot(x='one_meter_price', y='floor_type', kind='scatter')\n",
    "plt.title('зависимость цены от этажа');"
   ]
  },
  {
   "cell_type": "markdown",
   "metadata": {},
   "source": [
    "зависимость от этажа для центра города аналогична показателям для всего датасета. Среди квартир на первом этаже нет квартир дороже 50 тыс. рублей за кв.метр. Наиболее распространены дорогие квартиры на этаже, не являющимся ни первым ни последним."
   ]
  },
  {
   "cell_type": "code",
   "execution_count": 57,
   "metadata": {},
   "outputs": [
    {
     "data": {
      "text/html": [
       "<div>\n",
       "<style scoped>\n",
       "    .dataframe tbody tr th:only-of-type {\n",
       "        vertical-align: middle;\n",
       "    }\n",
       "\n",
       "    .dataframe tbody tr th {\n",
       "        vertical-align: top;\n",
       "    }\n",
       "\n",
       "    .dataframe thead th {\n",
       "        text-align: right;\n",
       "    }\n",
       "</style>\n",
       "<table border=\"1\" class=\"dataframe\">\n",
       "  <thead>\n",
       "    <tr style=\"text-align: right;\">\n",
       "      <th></th>\n",
       "      <th>last_price</th>\n",
       "      <th>one_meter_price</th>\n",
       "      <th>week_day_exposition</th>\n",
       "      <th>month_exposition</th>\n",
       "      <th>year_exposition</th>\n",
       "    </tr>\n",
       "  </thead>\n",
       "  <tbody>\n",
       "    <tr>\n",
       "      <th>last_price</th>\n",
       "      <td>1.000000</td>\n",
       "      <td>0.817458</td>\n",
       "      <td>0.028310</td>\n",
       "      <td>-0.004634</td>\n",
       "      <td>-0.065493</td>\n",
       "    </tr>\n",
       "    <tr>\n",
       "      <th>one_meter_price</th>\n",
       "      <td>0.817458</td>\n",
       "      <td>1.000000</td>\n",
       "      <td>0.031395</td>\n",
       "      <td>0.001580</td>\n",
       "      <td>-0.015292</td>\n",
       "    </tr>\n",
       "    <tr>\n",
       "      <th>week_day_exposition</th>\n",
       "      <td>0.028310</td>\n",
       "      <td>0.031395</td>\n",
       "      <td>1.000000</td>\n",
       "      <td>0.029542</td>\n",
       "      <td>0.017685</td>\n",
       "    </tr>\n",
       "    <tr>\n",
       "      <th>month_exposition</th>\n",
       "      <td>-0.004634</td>\n",
       "      <td>0.001580</td>\n",
       "      <td>0.029542</td>\n",
       "      <td>1.000000</td>\n",
       "      <td>-0.174102</td>\n",
       "    </tr>\n",
       "    <tr>\n",
       "      <th>year_exposition</th>\n",
       "      <td>-0.065493</td>\n",
       "      <td>-0.015292</td>\n",
       "      <td>0.017685</td>\n",
       "      <td>-0.174102</td>\n",
       "      <td>1.000000</td>\n",
       "    </tr>\n",
       "  </tbody>\n",
       "</table>\n",
       "</div>"
      ],
      "text/plain": [
       "                     last_price  one_meter_price  week_day_exposition  \\\n",
       "last_price             1.000000         0.817458             0.028310   \n",
       "one_meter_price        0.817458         1.000000             0.031395   \n",
       "week_day_exposition    0.028310         0.031395             1.000000   \n",
       "month_exposition      -0.004634         0.001580             0.029542   \n",
       "year_exposition       -0.065493        -0.015292             0.017685   \n",
       "\n",
       "                     month_exposition  year_exposition  \n",
       "last_price                  -0.004634        -0.065493  \n",
       "one_meter_price              0.001580        -0.015292  \n",
       "week_day_exposition          0.029542         0.017685  \n",
       "month_exposition             1.000000        -0.174102  \n",
       "year_exposition             -0.174102         1.000000  "
      ]
     },
     "execution_count": 57,
     "metadata": {},
     "output_type": "execute_result"
    }
   ],
   "source": [
    "data_spb_center[['last_price','one_meter_price','week_day_exposition','month_exposition','year_exposition']].corr()\n"
   ]
  },
  {
   "cell_type": "markdown",
   "metadata": {},
   "source": [
    "Зависимость стоимость кваритры в центре города от даты размещения объявления не прослеживается"
   ]
  },
  {
   "cell_type": "markdown",
   "metadata": {},
   "source": [
    "## Общий вывод"
   ]
  },
  {
   "cell_type": "markdown",
   "metadata": {},
   "source": [
    "В рамках работы над выгрузкой архива о продаже квартир в Санкт-Петербурге и населенных пунктах Ленинградской области проведена предобработка датасета, удалены данные, неподходящие для анализа - квартиры, по которым нет информации о свершившемся факте продажи. Медианными значениями заполнены пропуски в отдельных категориях данных. \n",
    "\n",
    "Для предобработанных данных посчитана стоимость квадратногом метра каждой квартиры, сформированы категории этажности квартир, посчитано соотношение общей площади к жилой площади и площади кухни\n",
    "\n",
    "В рамках исследовательского анализа данных сделаны следующие выводы:\n",
    "\n",
    "- По всему датасету наиболее распространенными являются сделки с квартирами до 100 квадратных метров.\n",
    "- Абсолютные значения цены квартиры чаще всего входят в диапозон от 2 до 7 млн рублей. \n",
    "- Стоимость квадратного метра квартиры стремится к нормальному распределению. Наиболее частая цена входит в диапозон от  5 до 15 тыс. рублей за кв.м.\n",
    "- Больше всего сделок совершено с квартирами, в которых количество комнат от 1 до 3. \n",
    "- Высота потолков чаще всего принимает значение от 2,4 до 2,75 метра.\n",
    "- С увеличением времени экспонирования квартиры - снижается количество завершенных сделок по продаже\n",
    "- Медианное значение времени продажи составляет 95 дней\n",
    "- Все сделки, которые были совершены менее чем за 45 дней можно считать быстрыми, а в случае, если объявление находилось на сайте дольше 232 дней - долгими\n",
    "- на конечную цену квартиры значительным образом влияет ее площадь. Коэфф. корелляции принимает значение 0.6. \n",
    "- количество комнтат незначительно влияет на конечную стоимость квартиры. Коэфф. корреляции составляет 0.3\n",
    "- Расстояние от центра влияет как на конечную стоимость квартиры, так и на стоимость квадратного метра жилья. При этом корреляция отрицатиельная и принимает значение -0.19 и -0.3 соответственно.\n",
    "- Из данных о квартирах в центре Санкт-Петербурга были выделены квартиры центра города - это квартиры в радиусе 7 км от географического центра. По данным квартирам проведен анализ корреляции стоимости и характеристик.\n",
    "- Для квартир в радиусе 7 км близость к центру не имеет определяющего влияния на стоимость\n",
    "- Важным фактором для цены является общая площадь и количество комнат. Коэффициент корреляции принимает значения 06. и 0.3, что сопоставимо с данными по всему датасету в целом.\n",
    "-  В центре города обычно продаются квартиры от 40 до 90 метров.\n",
    "- Больше всего квартир продается в диапозоне между 6-8 миллонами рублей. \n",
    "- Стоимость квадратного метра квартиры в центре центра показвает наибольшую частотность в диапозоне от 90 до 150 тысяч рублей за квадрат. \n",
    "- Значения количества комнат в центре города в большей степени принимают значения 2 и 3 комнаты, при этом имеется порядка 400 четырехкомнтаных квартир и около 200 пятикомнатных квартир.\n",
    "- Высота потолков в квартирах центра города чаще всего принимает значение 2,5-2,7 метров.\n"
   ]
  }
 ],
 "metadata": {
  "ExecuteTimeLog": [
   {
    "duration": 73,
    "start_time": "2022-04-18T07:58:33.596Z"
   },
   {
    "duration": 506,
    "start_time": "2022-04-18T07:58:35.740Z"
   },
   {
    "duration": 89,
    "start_time": "2022-04-18T07:58:36.536Z"
   },
   {
    "duration": 19,
    "start_time": "2022-04-18T07:58:37.308Z"
   },
   {
    "duration": 215,
    "start_time": "2022-04-18T07:58:50.769Z"
   },
   {
    "duration": 101,
    "start_time": "2022-04-18T07:59:12.925Z"
   },
   {
    "duration": 37,
    "start_time": "2022-04-18T07:59:14.321Z"
   },
   {
    "duration": 20,
    "start_time": "2022-04-18T07:59:56.629Z"
   },
   {
    "duration": 47,
    "start_time": "2022-04-18T09:46:31.183Z"
   },
   {
    "duration": 6,
    "start_time": "2022-04-18T09:46:42.900Z"
   },
   {
    "duration": 6,
    "start_time": "2022-04-18T09:46:48.222Z"
   },
   {
    "duration": 6,
    "start_time": "2022-04-18T09:46:55.967Z"
   },
   {
    "duration": 6,
    "start_time": "2022-04-18T09:47:11.783Z"
   },
   {
    "duration": 6,
    "start_time": "2022-04-18T09:47:21.148Z"
   },
   {
    "duration": 423,
    "start_time": "2022-04-18T09:47:28.086Z"
   },
   {
    "duration": 73,
    "start_time": "2022-04-18T09:47:28.511Z"
   },
   {
    "duration": 33,
    "start_time": "2022-04-18T09:47:28.585Z"
   },
   {
    "duration": 14,
    "start_time": "2022-04-18T09:47:28.620Z"
   },
   {
    "duration": 5,
    "start_time": "2022-04-18T09:47:28.636Z"
   },
   {
    "duration": 6,
    "start_time": "2022-04-18T09:48:56.866Z"
   },
   {
    "duration": 8,
    "start_time": "2022-04-18T09:49:15.537Z"
   },
   {
    "duration": 69,
    "start_time": "2022-04-18T09:49:48.238Z"
   },
   {
    "duration": 9,
    "start_time": "2022-04-18T09:49:53.750Z"
   },
   {
    "duration": 9,
    "start_time": "2022-04-18T09:50:32.297Z"
   },
   {
    "duration": 67,
    "start_time": "2022-04-18T09:51:31.170Z"
   },
   {
    "duration": 6,
    "start_time": "2022-04-18T09:51:43.346Z"
   },
   {
    "duration": 65,
    "start_time": "2022-04-18T09:51:53.858Z"
   },
   {
    "duration": 10,
    "start_time": "2022-04-18T09:51:58.889Z"
   },
   {
    "duration": 7,
    "start_time": "2022-04-18T09:52:04.163Z"
   },
   {
    "duration": 10,
    "start_time": "2022-04-18T09:52:24.865Z"
   },
   {
    "duration": 80,
    "start_time": "2022-04-18T09:52:28.530Z"
   },
   {
    "duration": 10,
    "start_time": "2022-04-18T09:52:32.202Z"
   },
   {
    "duration": 83,
    "start_time": "2022-04-18T09:52:42.377Z"
   },
   {
    "duration": 9,
    "start_time": "2022-04-18T09:52:45.965Z"
   },
   {
    "duration": 6,
    "start_time": "2022-04-18T09:54:54.481Z"
   },
   {
    "duration": 7,
    "start_time": "2022-04-18T09:54:59.069Z"
   },
   {
    "duration": 7,
    "start_time": "2022-04-18T09:55:32.269Z"
   },
   {
    "duration": 521,
    "start_time": "2022-04-18T09:55:56.558Z"
   },
   {
    "duration": 242,
    "start_time": "2022-04-18T09:56:50.771Z"
   },
   {
    "duration": 6,
    "start_time": "2022-04-18T09:57:21.336Z"
   },
   {
    "duration": 7,
    "start_time": "2022-04-18T09:57:30.157Z"
   },
   {
    "duration": 9,
    "start_time": "2022-04-18T09:57:41.861Z"
   },
   {
    "duration": 235,
    "start_time": "2022-04-18T09:58:11.793Z"
   },
   {
    "duration": 236,
    "start_time": "2022-04-18T09:58:21.550Z"
   },
   {
    "duration": 296,
    "start_time": "2022-04-18T09:59:01.546Z"
   },
   {
    "duration": 13,
    "start_time": "2022-04-18T09:59:16.601Z"
   },
   {
    "duration": 9,
    "start_time": "2022-04-18T09:59:51.106Z"
   },
   {
    "duration": 10,
    "start_time": "2022-04-18T09:59:55.682Z"
   },
   {
    "duration": 179,
    "start_time": "2022-04-18T10:00:18.034Z"
   },
   {
    "duration": 18,
    "start_time": "2022-04-18T10:00:30.949Z"
   },
   {
    "duration": 71,
    "start_time": "2022-04-18T10:00:38.967Z"
   },
   {
    "duration": 81,
    "start_time": "2022-04-18T10:00:46.210Z"
   },
   {
    "duration": 17,
    "start_time": "2022-04-18T10:00:51.636Z"
   },
   {
    "duration": 11,
    "start_time": "2022-04-18T10:00:58.269Z"
   },
   {
    "duration": 7,
    "start_time": "2022-04-18T10:01:03.361Z"
   },
   {
    "duration": 138,
    "start_time": "2022-04-18T10:01:17.418Z"
   },
   {
    "duration": 233,
    "start_time": "2022-04-18T10:01:24.561Z"
   },
   {
    "duration": 235,
    "start_time": "2022-04-18T10:01:43.856Z"
   },
   {
    "duration": 168,
    "start_time": "2022-04-18T10:01:53.421Z"
   },
   {
    "duration": 168,
    "start_time": "2022-04-18T10:02:01.050Z"
   },
   {
    "duration": 10,
    "start_time": "2022-04-18T10:03:12.999Z"
   },
   {
    "duration": 173,
    "start_time": "2022-04-18T10:04:17.118Z"
   },
   {
    "duration": 251,
    "start_time": "2022-04-18T10:04:22.679Z"
   },
   {
    "duration": 226,
    "start_time": "2022-04-18T10:04:56.354Z"
   },
   {
    "duration": 149,
    "start_time": "2022-04-18T10:05:01.619Z"
   },
   {
    "duration": 152,
    "start_time": "2022-04-18T10:05:27.566Z"
   },
   {
    "duration": 174,
    "start_time": "2022-04-18T10:05:53.531Z"
   },
   {
    "duration": 174,
    "start_time": "2022-04-18T10:06:02.843Z"
   },
   {
    "duration": 2,
    "start_time": "2022-04-18T10:06:32.927Z"
   },
   {
    "duration": 285,
    "start_time": "2022-04-18T10:06:36.443Z"
   },
   {
    "duration": 379,
    "start_time": "2022-04-18T10:06:44.140Z"
   },
   {
    "duration": 299,
    "start_time": "2022-04-18T10:06:49.296Z"
   },
   {
    "duration": 386,
    "start_time": "2022-04-18T10:07:44.503Z"
   },
   {
    "duration": 8,
    "start_time": "2022-04-18T10:09:26.130Z"
   },
   {
    "duration": 109,
    "start_time": "2022-04-18T10:09:50.438Z"
   },
   {
    "duration": 105,
    "start_time": "2022-04-18T10:09:52.864Z"
   },
   {
    "duration": 122,
    "start_time": "2022-04-18T10:09:58.078Z"
   },
   {
    "duration": 112,
    "start_time": "2022-04-18T10:10:12.547Z"
   },
   {
    "duration": 202,
    "start_time": "2022-04-18T10:11:43.182Z"
   },
   {
    "duration": 190,
    "start_time": "2022-04-18T10:11:51.270Z"
   },
   {
    "duration": 319,
    "start_time": "2022-04-18T10:12:02.242Z"
   },
   {
    "duration": 220,
    "start_time": "2022-04-18T10:12:14.003Z"
   },
   {
    "duration": 192,
    "start_time": "2022-04-18T10:12:26.366Z"
   },
   {
    "duration": 11,
    "start_time": "2022-04-18T10:17:23.142Z"
   },
   {
    "duration": 13,
    "start_time": "2022-04-18T10:17:55.632Z"
   },
   {
    "duration": 649,
    "start_time": "2022-04-18T10:22:48.861Z"
   },
   {
    "duration": 534,
    "start_time": "2022-04-18T10:23:11.894Z"
   },
   {
    "duration": 41,
    "start_time": "2022-04-18T10:23:19.667Z"
   },
   {
    "duration": 523,
    "start_time": "2022-04-18T10:23:36.210Z"
   },
   {
    "duration": 15,
    "start_time": "2022-04-18T10:23:40.808Z"
   },
   {
    "duration": 16,
    "start_time": "2022-04-18T10:24:18.967Z"
   },
   {
    "duration": 67,
    "start_time": "2022-04-18T10:24:29.902Z"
   },
   {
    "duration": 41,
    "start_time": "2022-04-18T10:24:42.679Z"
   },
   {
    "duration": 60,
    "start_time": "2022-04-18T10:24:56.099Z"
   },
   {
    "duration": 8,
    "start_time": "2022-04-18T10:25:02.922Z"
   },
   {
    "duration": 11,
    "start_time": "2022-04-18T10:25:24.422Z"
   },
   {
    "duration": 203,
    "start_time": "2022-04-18T10:26:28.395Z"
   },
   {
    "duration": 187,
    "start_time": "2022-04-18T10:26:39.291Z"
   },
   {
    "duration": 7,
    "start_time": "2022-04-18T10:27:19.311Z"
   },
   {
    "duration": 9,
    "start_time": "2022-04-18T10:27:28.030Z"
   },
   {
    "duration": 8,
    "start_time": "2022-04-18T12:03:40.145Z"
   },
   {
    "duration": 9,
    "start_time": "2022-04-18T12:03:43.640Z"
   },
   {
    "duration": 7,
    "start_time": "2022-04-18T12:03:47.427Z"
   },
   {
    "duration": 8,
    "start_time": "2022-04-18T12:03:52.964Z"
   },
   {
    "duration": 10,
    "start_time": "2022-04-18T12:03:56.267Z"
   },
   {
    "duration": 8,
    "start_time": "2022-04-18T12:04:08.839Z"
   },
   {
    "duration": 6,
    "start_time": "2022-04-18T12:10:49.708Z"
   },
   {
    "duration": 9,
    "start_time": "2022-04-18T12:11:00.008Z"
   },
   {
    "duration": 168,
    "start_time": "2022-04-18T12:11:26.396Z"
   },
   {
    "duration": 139,
    "start_time": "2022-04-18T12:11:42.329Z"
   },
   {
    "duration": 9,
    "start_time": "2022-04-18T12:12:21.272Z"
   },
   {
    "duration": 55,
    "start_time": "2022-04-18T12:12:39.456Z"
   },
   {
    "duration": 647,
    "start_time": "2022-04-18T12:12:59.445Z"
   },
   {
    "duration": 83,
    "start_time": "2022-04-18T12:13:00.094Z"
   },
   {
    "duration": 30,
    "start_time": "2022-04-18T12:13:00.179Z"
   },
   {
    "duration": 16,
    "start_time": "2022-04-18T12:13:00.211Z"
   },
   {
    "duration": 9,
    "start_time": "2022-04-18T12:13:00.229Z"
   },
   {
    "duration": 433,
    "start_time": "2022-04-18T12:13:00.240Z"
   },
   {
    "duration": 276,
    "start_time": "2022-04-18T12:13:00.675Z"
   },
   {
    "duration": 10,
    "start_time": "2022-04-18T12:13:00.953Z"
   },
   {
    "duration": 24,
    "start_time": "2022-04-18T12:13:00.965Z"
   },
   {
    "duration": 22,
    "start_time": "2022-04-18T12:13:00.991Z"
   },
   {
    "duration": 145,
    "start_time": "2022-04-18T12:13:01.015Z"
   },
   {
    "duration": 52,
    "start_time": "2022-04-18T12:13:01.161Z"
   },
   {
    "duration": 10,
    "start_time": "2022-04-18T12:13:21.668Z"
   },
   {
    "duration": 74,
    "start_time": "2022-04-18T12:13:31.620Z"
   },
   {
    "duration": 10,
    "start_time": "2022-04-18T12:13:34.117Z"
   },
   {
    "duration": 8,
    "start_time": "2022-04-18T12:13:50.824Z"
   },
   {
    "duration": 8,
    "start_time": "2022-04-18T12:14:00.601Z"
   },
   {
    "duration": 9,
    "start_time": "2022-04-18T12:14:01.215Z"
   },
   {
    "duration": 37,
    "start_time": "2022-04-18T12:14:01.584Z"
   },
   {
    "duration": 590,
    "start_time": "2022-04-18T12:14:06.252Z"
   },
   {
    "duration": 75,
    "start_time": "2022-04-18T12:14:06.844Z"
   },
   {
    "duration": 30,
    "start_time": "2022-04-18T12:14:06.921Z"
   },
   {
    "duration": 23,
    "start_time": "2022-04-18T12:14:06.953Z"
   },
   {
    "duration": 21,
    "start_time": "2022-04-18T12:14:06.978Z"
   },
   {
    "duration": 412,
    "start_time": "2022-04-18T12:14:07.000Z"
   },
   {
    "duration": 254,
    "start_time": "2022-04-18T12:14:07.414Z"
   },
   {
    "duration": 9,
    "start_time": "2022-04-18T12:14:07.670Z"
   },
   {
    "duration": 28,
    "start_time": "2022-04-18T12:14:07.681Z"
   },
   {
    "duration": 29,
    "start_time": "2022-04-18T12:14:07.711Z"
   },
   {
    "duration": 17,
    "start_time": "2022-04-18T12:14:07.741Z"
   },
   {
    "duration": 69,
    "start_time": "2022-04-18T12:14:07.760Z"
   },
   {
    "duration": 38,
    "start_time": "2022-04-18T12:14:40.554Z"
   },
   {
    "duration": 76,
    "start_time": "2022-04-18T12:19:04.400Z"
   },
   {
    "duration": 5,
    "start_time": "2022-04-18T12:20:42.246Z"
   },
   {
    "duration": 577,
    "start_time": "2022-04-18T12:20:55.657Z"
   },
   {
    "duration": 78,
    "start_time": "2022-04-18T12:20:56.236Z"
   },
   {
    "duration": 29,
    "start_time": "2022-04-18T12:20:56.315Z"
   },
   {
    "duration": 14,
    "start_time": "2022-04-18T12:20:56.346Z"
   },
   {
    "duration": 8,
    "start_time": "2022-04-18T12:20:56.363Z"
   },
   {
    "duration": 428,
    "start_time": "2022-04-18T12:20:56.372Z"
   },
   {
    "duration": 264,
    "start_time": "2022-04-18T12:20:56.802Z"
   },
   {
    "duration": 10,
    "start_time": "2022-04-18T12:20:57.069Z"
   },
   {
    "duration": 27,
    "start_time": "2022-04-18T12:20:57.081Z"
   },
   {
    "duration": 5,
    "start_time": "2022-04-18T12:20:57.110Z"
   },
   {
    "duration": 10,
    "start_time": "2022-04-18T12:20:57.117Z"
   },
   {
    "duration": 7,
    "start_time": "2022-04-18T12:20:57.128Z"
   },
   {
    "duration": 671,
    "start_time": "2022-04-18T12:21:23.199Z"
   },
   {
    "duration": 85,
    "start_time": "2022-04-18T12:21:23.873Z"
   },
   {
    "duration": 30,
    "start_time": "2022-04-18T12:21:23.960Z"
   },
   {
    "duration": 28,
    "start_time": "2022-04-18T12:21:23.992Z"
   },
   {
    "duration": 10,
    "start_time": "2022-04-18T12:21:24.022Z"
   },
   {
    "duration": 448,
    "start_time": "2022-04-18T12:21:24.034Z"
   },
   {
    "duration": 268,
    "start_time": "2022-04-18T12:21:24.484Z"
   },
   {
    "duration": 9,
    "start_time": "2022-04-18T12:21:24.754Z"
   },
   {
    "duration": 8,
    "start_time": "2022-04-18T12:21:24.764Z"
   },
   {
    "duration": 6,
    "start_time": "2022-04-18T12:21:24.773Z"
   },
   {
    "duration": 30,
    "start_time": "2022-04-18T12:21:24.780Z"
   },
   {
    "duration": 7,
    "start_time": "2022-04-18T12:21:24.812Z"
   },
   {
    "duration": 13,
    "start_time": "2022-04-18T12:22:34.242Z"
   },
   {
    "duration": 14,
    "start_time": "2022-04-18T12:22:51.843Z"
   },
   {
    "duration": 239,
    "start_time": "2022-04-18T12:23:19.947Z"
   },
   {
    "duration": 166,
    "start_time": "2022-04-18T12:23:24.983Z"
   },
   {
    "duration": 169,
    "start_time": "2022-04-18T12:23:37.634Z"
   },
   {
    "duration": 143,
    "start_time": "2022-04-18T12:23:41.931Z"
   },
   {
    "duration": 148,
    "start_time": "2022-04-18T12:24:36.080Z"
   },
   {
    "duration": 69,
    "start_time": "2022-04-18T12:28:57.440Z"
   },
   {
    "duration": 7,
    "start_time": "2022-04-18T12:29:01.492Z"
   },
   {
    "duration": 21,
    "start_time": "2022-04-18T12:30:00.981Z"
   },
   {
    "duration": 18,
    "start_time": "2022-04-18T12:30:17.771Z"
   },
   {
    "duration": 20,
    "start_time": "2022-04-18T12:30:20.828Z"
   },
   {
    "duration": 19,
    "start_time": "2022-04-18T12:30:24.627Z"
   },
   {
    "duration": 652,
    "start_time": "2022-04-18T12:30:30.623Z"
   },
   {
    "duration": 82,
    "start_time": "2022-04-18T12:30:31.277Z"
   },
   {
    "duration": 28,
    "start_time": "2022-04-18T12:30:31.360Z"
   },
   {
    "duration": 92,
    "start_time": "2022-04-18T12:30:31.390Z"
   },
   {
    "duration": 0,
    "start_time": "2022-04-18T12:30:31.484Z"
   },
   {
    "duration": 0,
    "start_time": "2022-04-18T12:30:31.486Z"
   },
   {
    "duration": 0,
    "start_time": "2022-04-18T12:30:31.487Z"
   },
   {
    "duration": 0,
    "start_time": "2022-04-18T12:30:31.488Z"
   },
   {
    "duration": 0,
    "start_time": "2022-04-18T12:30:31.489Z"
   },
   {
    "duration": 0,
    "start_time": "2022-04-18T12:30:31.507Z"
   },
   {
    "duration": 0,
    "start_time": "2022-04-18T12:30:31.508Z"
   },
   {
    "duration": 0,
    "start_time": "2022-04-18T12:30:31.509Z"
   },
   {
    "duration": 0,
    "start_time": "2022-04-18T12:30:31.511Z"
   },
   {
    "duration": 50,
    "start_time": "2022-04-18T12:30:56.751Z"
   },
   {
    "duration": 31,
    "start_time": "2022-04-18T12:31:07.935Z"
   },
   {
    "duration": 16,
    "start_time": "2022-04-18T12:31:19.513Z"
   },
   {
    "duration": 9,
    "start_time": "2022-04-18T12:31:39.335Z"
   },
   {
    "duration": 14,
    "start_time": "2022-04-18T12:31:52.825Z"
   },
   {
    "duration": 8,
    "start_time": "2022-04-18T12:31:56.139Z"
   },
   {
    "duration": 14,
    "start_time": "2022-04-18T12:33:05.539Z"
   },
   {
    "duration": 15,
    "start_time": "2022-04-18T12:33:20.067Z"
   },
   {
    "duration": 10,
    "start_time": "2022-04-18T12:33:29.422Z"
   },
   {
    "duration": 11,
    "start_time": "2022-04-18T12:33:48.973Z"
   },
   {
    "duration": 389,
    "start_time": "2022-04-18T12:34:10.833Z"
   },
   {
    "duration": 264,
    "start_time": "2022-04-18T12:34:14.197Z"
   },
   {
    "duration": 9,
    "start_time": "2022-04-18T12:34:17.579Z"
   },
   {
    "duration": 7,
    "start_time": "2022-04-18T12:34:18.057Z"
   },
   {
    "duration": 6,
    "start_time": "2022-04-18T12:34:20.772Z"
   },
   {
    "duration": 8,
    "start_time": "2022-04-18T12:34:21.692Z"
   },
   {
    "duration": 153,
    "start_time": "2022-04-18T12:34:22.667Z"
   },
   {
    "duration": 366,
    "start_time": "2022-04-18T12:36:39.905Z"
   },
   {
    "duration": 358,
    "start_time": "2022-04-18T12:36:50.875Z"
   },
   {
    "duration": 629,
    "start_time": "2022-04-18T12:37:01.504Z"
   },
   {
    "duration": 83,
    "start_time": "2022-04-18T12:37:02.135Z"
   },
   {
    "duration": 28,
    "start_time": "2022-04-18T12:37:02.220Z"
   },
   {
    "duration": 14,
    "start_time": "2022-04-18T12:37:02.250Z"
   },
   {
    "duration": 12,
    "start_time": "2022-04-18T12:37:02.266Z"
   },
   {
    "duration": 405,
    "start_time": "2022-04-18T12:37:02.279Z"
   },
   {
    "duration": 270,
    "start_time": "2022-04-18T12:37:02.686Z"
   },
   {
    "duration": 10,
    "start_time": "2022-04-18T12:37:02.958Z"
   },
   {
    "duration": 7,
    "start_time": "2022-04-18T12:37:02.969Z"
   },
   {
    "duration": 8,
    "start_time": "2022-04-18T12:37:02.977Z"
   },
   {
    "duration": 26,
    "start_time": "2022-04-18T12:37:02.986Z"
   },
   {
    "duration": 172,
    "start_time": "2022-04-18T12:37:03.014Z"
   },
   {
    "duration": 5,
    "start_time": "2022-04-18T12:39:47.028Z"
   },
   {
    "duration": 6,
    "start_time": "2022-04-18T12:40:16.533Z"
   },
   {
    "duration": 6,
    "start_time": "2022-04-18T12:40:42.949Z"
   },
   {
    "duration": 652,
    "start_time": "2022-04-18T12:41:07.792Z"
   },
   {
    "duration": 82,
    "start_time": "2022-04-18T12:41:08.446Z"
   },
   {
    "duration": 28,
    "start_time": "2022-04-18T12:41:08.529Z"
   },
   {
    "duration": 14,
    "start_time": "2022-04-18T12:41:08.559Z"
   },
   {
    "duration": 14,
    "start_time": "2022-04-18T12:41:08.576Z"
   },
   {
    "duration": 406,
    "start_time": "2022-04-18T12:41:08.592Z"
   },
   {
    "duration": 257,
    "start_time": "2022-04-18T12:41:09.000Z"
   },
   {
    "duration": 9,
    "start_time": "2022-04-18T12:41:09.259Z"
   },
   {
    "duration": 17,
    "start_time": "2022-04-18T12:41:09.270Z"
   },
   {
    "duration": 18,
    "start_time": "2022-04-18T12:41:09.289Z"
   },
   {
    "duration": 8,
    "start_time": "2022-04-18T12:41:09.309Z"
   },
   {
    "duration": 153,
    "start_time": "2022-04-18T12:41:09.318Z"
   },
   {
    "duration": 73,
    "start_time": "2022-04-18T12:46:33.647Z"
   },
   {
    "duration": 17,
    "start_time": "2022-04-18T12:46:45.003Z"
   },
   {
    "duration": 11,
    "start_time": "2022-04-18T12:50:14.842Z"
   },
   {
    "duration": 7,
    "start_time": "2022-04-18T12:50:38.821Z"
   },
   {
    "duration": 15,
    "start_time": "2022-04-18T12:51:04.930Z"
   },
   {
    "duration": 10,
    "start_time": "2022-04-18T12:51:24.249Z"
   },
   {
    "duration": 9,
    "start_time": "2022-04-18T12:51:33.714Z"
   },
   {
    "duration": 6,
    "start_time": "2022-04-18T12:51:38.195Z"
   },
   {
    "duration": 8,
    "start_time": "2022-04-18T12:52:05.210Z"
   },
   {
    "duration": 9,
    "start_time": "2022-04-18T12:52:10.275Z"
   },
   {
    "duration": 6,
    "start_time": "2022-04-18T12:52:43.711Z"
   },
   {
    "duration": 16,
    "start_time": "2022-04-18T12:53:01.650Z"
   },
   {
    "duration": 25,
    "start_time": "2022-04-18T12:57:52.374Z"
   },
   {
    "duration": 5,
    "start_time": "2022-04-18T12:59:36.336Z"
   },
   {
    "duration": 19,
    "start_time": "2022-04-18T12:59:41.363Z"
   },
   {
    "duration": 9,
    "start_time": "2022-04-18T13:00:07.576Z"
   },
   {
    "duration": 7,
    "start_time": "2022-04-18T13:00:15.142Z"
   },
   {
    "duration": 668,
    "start_time": "2022-04-18T13:00:29.021Z"
   },
   {
    "duration": 99,
    "start_time": "2022-04-18T13:00:29.691Z"
   },
   {
    "duration": 36,
    "start_time": "2022-04-18T13:00:29.793Z"
   },
   {
    "duration": 16,
    "start_time": "2022-04-18T13:00:29.831Z"
   },
   {
    "duration": 7,
    "start_time": "2022-04-18T13:00:29.850Z"
   },
   {
    "duration": 452,
    "start_time": "2022-04-18T13:00:29.859Z"
   },
   {
    "duration": 296,
    "start_time": "2022-04-18T13:00:30.313Z"
   },
   {
    "duration": 11,
    "start_time": "2022-04-18T13:00:30.612Z"
   },
   {
    "duration": 24,
    "start_time": "2022-04-18T13:00:30.624Z"
   },
   {
    "duration": 13,
    "start_time": "2022-04-18T13:00:30.650Z"
   },
   {
    "duration": 16,
    "start_time": "2022-04-18T13:00:30.665Z"
   },
   {
    "duration": 35,
    "start_time": "2022-04-18T13:00:30.684Z"
   },
   {
    "duration": 5,
    "start_time": "2022-04-18T13:00:30.721Z"
   },
   {
    "duration": 11,
    "start_time": "2022-04-18T13:00:30.729Z"
   },
   {
    "duration": 171,
    "start_time": "2022-04-18T13:00:30.742Z"
   },
   {
    "duration": 3,
    "start_time": "2022-04-18T13:07:27.304Z"
   },
   {
    "duration": 3,
    "start_time": "2022-04-18T13:08:57.789Z"
   },
   {
    "duration": 4868,
    "start_time": "2022-04-18T13:12:48.920Z"
   },
   {
    "duration": 180,
    "start_time": "2022-04-18T13:12:58.837Z"
   },
   {
    "duration": 621,
    "start_time": "2022-04-18T13:13:22.135Z"
   },
   {
    "duration": 98,
    "start_time": "2022-04-18T13:13:22.758Z"
   },
   {
    "duration": 54,
    "start_time": "2022-04-18T13:13:22.859Z"
   },
   {
    "duration": 20,
    "start_time": "2022-04-18T13:13:22.916Z"
   },
   {
    "duration": 6,
    "start_time": "2022-04-18T13:13:22.938Z"
   },
   {
    "duration": 407,
    "start_time": "2022-04-18T13:13:22.946Z"
   },
   {
    "duration": 280,
    "start_time": "2022-04-18T13:13:23.355Z"
   },
   {
    "duration": 9,
    "start_time": "2022-04-18T13:13:23.637Z"
   },
   {
    "duration": 8,
    "start_time": "2022-04-18T13:13:23.648Z"
   },
   {
    "duration": 5,
    "start_time": "2022-04-18T13:13:23.657Z"
   },
   {
    "duration": 7,
    "start_time": "2022-04-18T13:13:23.663Z"
   },
   {
    "duration": 45,
    "start_time": "2022-04-18T13:13:23.671Z"
   },
   {
    "duration": 2,
    "start_time": "2022-04-18T13:13:23.718Z"
   },
   {
    "duration": 4747,
    "start_time": "2022-04-18T13:13:23.723Z"
   },
   {
    "duration": 2,
    "start_time": "2022-04-18T13:13:28.472Z"
   },
   {
    "duration": 359,
    "start_time": "2022-04-18T13:13:28.476Z"
   },
   {
    "duration": 0,
    "start_time": "2022-04-18T13:13:28.837Z"
   },
   {
    "duration": 7,
    "start_time": "2022-04-18T13:13:53.947Z"
   },
   {
    "duration": 26,
    "start_time": "2022-04-18T13:14:09.266Z"
   },
   {
    "duration": 670,
    "start_time": "2022-04-18T14:00:30.484Z"
   },
   {
    "duration": 94,
    "start_time": "2022-04-18T14:00:31.156Z"
   },
   {
    "duration": 31,
    "start_time": "2022-04-18T14:00:31.251Z"
   },
   {
    "duration": 27,
    "start_time": "2022-04-18T14:00:31.284Z"
   },
   {
    "duration": 8,
    "start_time": "2022-04-18T14:00:31.315Z"
   },
   {
    "duration": 467,
    "start_time": "2022-04-18T14:00:31.326Z"
   },
   {
    "duration": 300,
    "start_time": "2022-04-18T14:00:31.795Z"
   },
   {
    "duration": 25,
    "start_time": "2022-04-18T14:00:32.097Z"
   },
   {
    "duration": 10,
    "start_time": "2022-04-18T14:00:32.124Z"
   },
   {
    "duration": 5,
    "start_time": "2022-04-18T14:00:32.136Z"
   },
   {
    "duration": 7,
    "start_time": "2022-04-18T14:00:32.142Z"
   },
   {
    "duration": 24,
    "start_time": "2022-04-18T14:00:32.150Z"
   },
   {
    "duration": 4,
    "start_time": "2022-04-18T14:00:32.175Z"
   },
   {
    "duration": 5955,
    "start_time": "2022-04-18T14:00:32.208Z"
   },
   {
    "duration": 29,
    "start_time": "2022-04-18T14:00:38.165Z"
   },
   {
    "duration": 14,
    "start_time": "2022-04-18T14:00:38.195Z"
   },
   {
    "duration": 369,
    "start_time": "2022-04-18T14:00:38.212Z"
   },
   {
    "duration": 0,
    "start_time": "2022-04-18T14:00:38.583Z"
   },
   {
    "duration": 3,
    "start_time": "2022-04-18T14:00:53.844Z"
   },
   {
    "duration": 36,
    "start_time": "2022-04-18T14:00:54.556Z"
   },
   {
    "duration": 5,
    "start_time": "2022-04-18T14:01:34.516Z"
   },
   {
    "duration": 5,
    "start_time": "2022-04-18T14:01:44.444Z"
   },
   {
    "duration": 5,
    "start_time": "2022-04-18T14:01:48.957Z"
   },
   {
    "duration": 20,
    "start_time": "2022-04-18T14:02:05.880Z"
   },
   {
    "duration": 672,
    "start_time": "2022-04-18T14:02:33.102Z"
   },
   {
    "duration": 94,
    "start_time": "2022-04-18T14:02:33.776Z"
   },
   {
    "duration": 29,
    "start_time": "2022-04-18T14:02:33.872Z"
   },
   {
    "duration": 22,
    "start_time": "2022-04-18T14:02:33.903Z"
   },
   {
    "duration": 5,
    "start_time": "2022-04-18T14:02:33.927Z"
   },
   {
    "duration": 439,
    "start_time": "2022-04-18T14:02:33.933Z"
   },
   {
    "duration": 296,
    "start_time": "2022-04-18T14:02:34.373Z"
   },
   {
    "duration": 11,
    "start_time": "2022-04-18T14:02:34.670Z"
   },
   {
    "duration": 33,
    "start_time": "2022-04-18T14:02:34.682Z"
   },
   {
    "duration": 8,
    "start_time": "2022-04-18T14:02:34.717Z"
   },
   {
    "duration": 7,
    "start_time": "2022-04-18T14:02:34.727Z"
   },
   {
    "duration": 95,
    "start_time": "2022-04-18T14:02:34.736Z"
   },
   {
    "duration": 0,
    "start_time": "2022-04-18T14:02:34.833Z"
   },
   {
    "duration": 0,
    "start_time": "2022-04-18T14:02:34.835Z"
   },
   {
    "duration": 0,
    "start_time": "2022-04-18T14:02:34.836Z"
   },
   {
    "duration": 0,
    "start_time": "2022-04-18T14:02:34.837Z"
   },
   {
    "duration": 0,
    "start_time": "2022-04-18T14:02:34.838Z"
   },
   {
    "duration": 0,
    "start_time": "2022-04-18T14:02:34.839Z"
   },
   {
    "duration": 0,
    "start_time": "2022-04-18T14:02:34.839Z"
   },
   {
    "duration": 1,
    "start_time": "2022-04-18T14:02:34.840Z"
   },
   {
    "duration": 19,
    "start_time": "2022-04-18T14:02:40.014Z"
   },
   {
    "duration": 1535,
    "start_time": "2022-04-18T14:02:45.054Z"
   },
   {
    "duration": 1223,
    "start_time": "2022-04-18T14:03:01.892Z"
   },
   {
    "duration": 5,
    "start_time": "2022-04-18T14:03:22.334Z"
   },
   {
    "duration": 4,
    "start_time": "2022-04-18T14:03:27.026Z"
   },
   {
    "duration": 6,
    "start_time": "2022-04-18T14:03:30.684Z"
   },
   {
    "duration": 9,
    "start_time": "2022-04-18T14:04:27.717Z"
   },
   {
    "duration": 8,
    "start_time": "2022-04-18T14:04:30.885Z"
   },
   {
    "duration": 4,
    "start_time": "2022-04-18T14:04:35.033Z"
   },
   {
    "duration": 4,
    "start_time": "2022-04-18T14:04:39.351Z"
   },
   {
    "duration": 4,
    "start_time": "2022-04-18T14:04:46.678Z"
   },
   {
    "duration": 6,
    "start_time": "2022-04-18T14:04:53.614Z"
   },
   {
    "duration": 2287,
    "start_time": "2022-04-18T14:04:55.291Z"
   },
   {
    "duration": 17,
    "start_time": "2022-04-18T14:05:53.778Z"
   },
   {
    "duration": 5,
    "start_time": "2022-04-18T14:06:11.516Z"
   },
   {
    "duration": 5188,
    "start_time": "2022-04-18T14:06:12.335Z"
   },
   {
    "duration": 643,
    "start_time": "2022-04-18T14:10:47.480Z"
   },
   {
    "duration": 85,
    "start_time": "2022-04-18T14:10:48.125Z"
   },
   {
    "duration": 34,
    "start_time": "2022-04-18T14:10:48.215Z"
   },
   {
    "duration": 16,
    "start_time": "2022-04-18T14:10:48.250Z"
   },
   {
    "duration": 5,
    "start_time": "2022-04-18T14:10:48.268Z"
   },
   {
    "duration": 428,
    "start_time": "2022-04-18T14:10:48.275Z"
   },
   {
    "duration": 280,
    "start_time": "2022-04-18T14:10:48.707Z"
   },
   {
    "duration": 28,
    "start_time": "2022-04-18T14:10:48.989Z"
   },
   {
    "duration": 10,
    "start_time": "2022-04-18T14:10:49.022Z"
   },
   {
    "duration": 4,
    "start_time": "2022-04-18T14:10:49.034Z"
   },
   {
    "duration": 7,
    "start_time": "2022-04-18T14:10:49.039Z"
   },
   {
    "duration": 100,
    "start_time": "2022-04-18T14:10:49.047Z"
   },
   {
    "duration": 0,
    "start_time": "2022-04-18T14:10:49.149Z"
   },
   {
    "duration": 0,
    "start_time": "2022-04-18T14:10:49.150Z"
   },
   {
    "duration": 0,
    "start_time": "2022-04-18T14:10:49.151Z"
   },
   {
    "duration": 0,
    "start_time": "2022-04-18T14:10:49.153Z"
   },
   {
    "duration": 0,
    "start_time": "2022-04-18T14:10:49.154Z"
   },
   {
    "duration": 0,
    "start_time": "2022-04-18T14:10:49.155Z"
   },
   {
    "duration": 0,
    "start_time": "2022-04-18T14:10:49.156Z"
   },
   {
    "duration": 20,
    "start_time": "2022-04-18T14:11:02.744Z"
   },
   {
    "duration": 3,
    "start_time": "2022-04-18T14:11:26.775Z"
   },
   {
    "duration": 4855,
    "start_time": "2022-04-18T14:11:27.994Z"
   },
   {
    "duration": 30,
    "start_time": "2022-04-18T14:11:35.339Z"
   },
   {
    "duration": 11,
    "start_time": "2022-04-18T14:12:42.975Z"
   },
   {
    "duration": 12,
    "start_time": "2022-04-18T14:12:49.230Z"
   },
   {
    "duration": 610,
    "start_time": "2022-04-18T14:12:55.279Z"
   },
   {
    "duration": 83,
    "start_time": "2022-04-18T14:12:55.891Z"
   },
   {
    "duration": 26,
    "start_time": "2022-04-18T14:12:55.975Z"
   },
   {
    "duration": 19,
    "start_time": "2022-04-18T14:12:56.011Z"
   },
   {
    "duration": 5,
    "start_time": "2022-04-18T14:12:56.032Z"
   },
   {
    "duration": 414,
    "start_time": "2022-04-18T14:12:56.038Z"
   },
   {
    "duration": 285,
    "start_time": "2022-04-18T14:12:56.454Z"
   },
   {
    "duration": 10,
    "start_time": "2022-04-18T14:12:56.741Z"
   },
   {
    "duration": 8,
    "start_time": "2022-04-18T14:12:56.753Z"
   },
   {
    "duration": 5,
    "start_time": "2022-04-18T14:12:56.763Z"
   },
   {
    "duration": 11,
    "start_time": "2022-04-18T14:12:56.769Z"
   },
   {
    "duration": 109,
    "start_time": "2022-04-18T14:12:56.782Z"
   },
   {
    "duration": 1,
    "start_time": "2022-04-18T14:12:56.893Z"
   },
   {
    "duration": 0,
    "start_time": "2022-04-18T14:12:56.895Z"
   },
   {
    "duration": 0,
    "start_time": "2022-04-18T14:12:56.897Z"
   },
   {
    "duration": 0,
    "start_time": "2022-04-18T14:12:56.898Z"
   },
   {
    "duration": 0,
    "start_time": "2022-04-18T14:12:56.908Z"
   },
   {
    "duration": 0,
    "start_time": "2022-04-18T14:12:56.909Z"
   },
   {
    "duration": 0,
    "start_time": "2022-04-18T14:12:56.909Z"
   },
   {
    "duration": 17,
    "start_time": "2022-04-18T14:13:11.395Z"
   },
   {
    "duration": 4,
    "start_time": "2022-04-18T14:14:15.878Z"
   },
   {
    "duration": 5416,
    "start_time": "2022-04-18T14:14:16.595Z"
   },
   {
    "duration": 38,
    "start_time": "2022-04-18T14:14:22.899Z"
   },
   {
    "duration": 750,
    "start_time": "2022-04-18T14:14:43.316Z"
   },
   {
    "duration": 97,
    "start_time": "2022-04-18T14:14:44.069Z"
   },
   {
    "duration": 57,
    "start_time": "2022-04-18T14:14:44.168Z"
   },
   {
    "duration": 18,
    "start_time": "2022-04-18T14:14:44.228Z"
   },
   {
    "duration": 8,
    "start_time": "2022-04-18T14:14:44.247Z"
   },
   {
    "duration": 507,
    "start_time": "2022-04-18T14:14:44.257Z"
   },
   {
    "duration": 308,
    "start_time": "2022-04-18T14:14:44.767Z"
   },
   {
    "duration": 12,
    "start_time": "2022-04-18T14:14:45.077Z"
   },
   {
    "duration": 33,
    "start_time": "2022-04-18T14:14:45.091Z"
   },
   {
    "duration": 7,
    "start_time": "2022-04-18T14:14:45.128Z"
   },
   {
    "duration": 9,
    "start_time": "2022-04-18T14:14:45.137Z"
   },
   {
    "duration": 121,
    "start_time": "2022-04-18T14:14:45.149Z"
   },
   {
    "duration": 0,
    "start_time": "2022-04-18T14:14:45.272Z"
   },
   {
    "duration": 0,
    "start_time": "2022-04-18T14:14:45.274Z"
   },
   {
    "duration": 0,
    "start_time": "2022-04-18T14:14:45.276Z"
   },
   {
    "duration": 1,
    "start_time": "2022-04-18T14:14:45.277Z"
   },
   {
    "duration": 0,
    "start_time": "2022-04-18T14:14:45.279Z"
   },
   {
    "duration": 0,
    "start_time": "2022-04-18T14:14:45.281Z"
   },
   {
    "duration": 0,
    "start_time": "2022-04-18T14:14:45.283Z"
   },
   {
    "duration": 24,
    "start_time": "2022-04-18T14:14:49.343Z"
   },
   {
    "duration": 5,
    "start_time": "2022-04-18T14:14:50.978Z"
   },
   {
    "duration": 4650,
    "start_time": "2022-04-18T14:14:52.546Z"
   },
   {
    "duration": 43,
    "start_time": "2022-04-18T14:14:58.626Z"
   },
   {
    "duration": 5,
    "start_time": "2022-04-18T14:15:45.446Z"
   },
   {
    "duration": 38,
    "start_time": "2022-04-18T14:16:31.530Z"
   },
   {
    "duration": 31,
    "start_time": "2022-04-18T14:17:56.029Z"
   },
   {
    "duration": 11,
    "start_time": "2022-04-18T14:18:11.723Z"
   },
   {
    "duration": 9,
    "start_time": "2022-04-18T14:18:22.878Z"
   },
   {
    "duration": 22,
    "start_time": "2022-04-18T14:19:22.527Z"
   },
   {
    "duration": 37,
    "start_time": "2022-04-18T14:19:37.066Z"
   },
   {
    "duration": 10,
    "start_time": "2022-04-18T14:21:53.220Z"
   },
   {
    "duration": 79,
    "start_time": "2022-04-18T14:22:02.510Z"
   },
   {
    "duration": 6,
    "start_time": "2022-04-18T14:22:06.712Z"
   },
   {
    "duration": 4,
    "start_time": "2022-04-18T14:22:13.380Z"
   },
   {
    "duration": 173,
    "start_time": "2022-04-18T14:22:17.763Z"
   },
   {
    "duration": 315,
    "start_time": "2022-04-18T14:22:23.873Z"
   },
   {
    "duration": 10,
    "start_time": "2022-04-18T14:22:55.125Z"
   },
   {
    "duration": 79,
    "start_time": "2022-04-18T14:27:48.958Z"
   },
   {
    "duration": 14,
    "start_time": "2022-04-18T14:27:55.826Z"
   },
   {
    "duration": 11,
    "start_time": "2022-04-18T14:27:57.237Z"
   },
   {
    "duration": 278,
    "start_time": "2022-04-18T14:27:59.460Z"
   },
   {
    "duration": 192,
    "start_time": "2022-04-18T14:28:06.971Z"
   },
   {
    "duration": 348,
    "start_time": "2022-04-18T14:31:29.488Z"
   },
   {
    "duration": 340,
    "start_time": "2022-04-18T14:31:32.194Z"
   },
   {
    "duration": 641,
    "start_time": "2022-04-18T14:34:03.041Z"
   },
   {
    "duration": 86,
    "start_time": "2022-04-18T14:34:03.684Z"
   },
   {
    "duration": 45,
    "start_time": "2022-04-18T14:34:03.772Z"
   },
   {
    "duration": 20,
    "start_time": "2022-04-18T14:34:03.819Z"
   },
   {
    "duration": 6,
    "start_time": "2022-04-18T14:34:03.842Z"
   },
   {
    "duration": 442,
    "start_time": "2022-04-18T14:34:03.850Z"
   },
   {
    "duration": 281,
    "start_time": "2022-04-18T14:34:04.294Z"
   },
   {
    "duration": 11,
    "start_time": "2022-04-18T14:34:04.577Z"
   },
   {
    "duration": 31,
    "start_time": "2022-04-18T14:34:04.590Z"
   },
   {
    "duration": 7,
    "start_time": "2022-04-18T14:34:04.623Z"
   },
   {
    "duration": 7,
    "start_time": "2022-04-18T14:34:04.631Z"
   },
   {
    "duration": 17,
    "start_time": "2022-04-18T14:34:04.639Z"
   },
   {
    "duration": 4,
    "start_time": "2022-04-18T14:34:04.657Z"
   },
   {
    "duration": 4773,
    "start_time": "2022-04-18T14:34:04.665Z"
   },
   {
    "duration": 4,
    "start_time": "2022-04-18T14:34:09.440Z"
   },
   {
    "duration": 7,
    "start_time": "2022-04-18T14:34:09.446Z"
   },
   {
    "duration": 13,
    "start_time": "2022-04-18T14:34:09.455Z"
   },
   {
    "duration": 7,
    "start_time": "2022-04-18T14:34:09.470Z"
   },
   {
    "duration": 14,
    "start_time": "2022-04-18T14:34:09.478Z"
   },
   {
    "duration": 333,
    "start_time": "2022-04-18T14:34:09.508Z"
   },
   {
    "duration": 5,
    "start_time": "2022-04-18T14:39:15.396Z"
   },
   {
    "duration": 76,
    "start_time": "2022-04-18T14:39:49.976Z"
   },
   {
    "duration": 12,
    "start_time": "2022-04-18T14:39:55.615Z"
   },
   {
    "duration": 8,
    "start_time": "2022-04-18T14:40:00.920Z"
   },
   {
    "duration": 5,
    "start_time": "2022-04-18T14:40:07.435Z"
   },
   {
    "duration": 43,
    "start_time": "2022-04-18T14:40:50.799Z"
   },
   {
    "duration": 10,
    "start_time": "2022-04-18T14:41:38.835Z"
   },
   {
    "duration": 6,
    "start_time": "2022-04-18T14:41:44.629Z"
   },
   {
    "duration": 38,
    "start_time": "2022-04-18T14:44:06.507Z"
   },
   {
    "duration": 12,
    "start_time": "2022-04-18T15:00:36.515Z"
   },
   {
    "duration": 9,
    "start_time": "2022-04-18T15:00:45.436Z"
   },
   {
    "duration": 7,
    "start_time": "2022-04-18T15:00:56.223Z"
   },
   {
    "duration": 6,
    "start_time": "2022-04-18T15:01:06.952Z"
   },
   {
    "duration": 5,
    "start_time": "2022-04-18T15:01:14.549Z"
   },
   {
    "duration": 11,
    "start_time": "2022-04-18T15:01:26.120Z"
   },
   {
    "duration": 9,
    "start_time": "2022-04-18T15:01:31.688Z"
   },
   {
    "duration": 9,
    "start_time": "2022-04-18T15:01:36.904Z"
   },
   {
    "duration": 4,
    "start_time": "2022-04-18T15:01:45.345Z"
   },
   {
    "duration": 9,
    "start_time": "2022-04-18T15:01:51.733Z"
   },
   {
    "duration": 101,
    "start_time": "2022-04-18T15:04:12.171Z"
   },
   {
    "duration": 10,
    "start_time": "2022-04-18T15:04:16.164Z"
   },
   {
    "duration": 15,
    "start_time": "2022-04-18T15:04:29.079Z"
   },
   {
    "duration": 12,
    "start_time": "2022-04-18T15:04:41.655Z"
   },
   {
    "duration": 68,
    "start_time": "2022-04-18T15:04:50.469Z"
   },
   {
    "duration": 6,
    "start_time": "2022-04-18T15:04:53.663Z"
   },
   {
    "duration": 7,
    "start_time": "2022-04-18T15:05:09.631Z"
   },
   {
    "duration": 4,
    "start_time": "2022-04-18T15:05:25.966Z"
   },
   {
    "duration": 5,
    "start_time": "2022-04-18T15:05:36.432Z"
   },
   {
    "duration": 8,
    "start_time": "2022-04-18T15:05:41.707Z"
   },
   {
    "duration": 9,
    "start_time": "2022-04-18T15:05:54.583Z"
   },
   {
    "duration": 81,
    "start_time": "2022-04-18T15:20:19.426Z"
   },
   {
    "duration": 4,
    "start_time": "2022-04-18T15:20:23.536Z"
   },
   {
    "duration": 11,
    "start_time": "2022-04-18T15:20:29.704Z"
   },
   {
    "duration": 29,
    "start_time": "2022-04-18T15:20:46.957Z"
   },
   {
    "duration": 9,
    "start_time": "2022-04-18T15:20:50.375Z"
   },
   {
    "duration": 36,
    "start_time": "2022-04-18T15:21:03.269Z"
   },
   {
    "duration": 10,
    "start_time": "2022-04-18T15:21:05.226Z"
   },
   {
    "duration": 8,
    "start_time": "2022-04-18T15:22:38.074Z"
   },
   {
    "duration": 6,
    "start_time": "2022-04-18T15:22:46.051Z"
   },
   {
    "duration": 8,
    "start_time": "2022-04-18T15:22:50.567Z"
   },
   {
    "duration": 8,
    "start_time": "2022-04-18T15:23:02.689Z"
   },
   {
    "duration": 7,
    "start_time": "2022-04-18T15:23:10.334Z"
   },
   {
    "duration": 641,
    "start_time": "2022-04-18T15:23:18.233Z"
   },
   {
    "duration": 82,
    "start_time": "2022-04-18T15:23:18.876Z"
   },
   {
    "duration": 30,
    "start_time": "2022-04-18T15:23:18.960Z"
   },
   {
    "duration": 28,
    "start_time": "2022-04-18T15:23:18.992Z"
   },
   {
    "duration": 92,
    "start_time": "2022-04-18T15:23:19.022Z"
   },
   {
    "duration": 0,
    "start_time": "2022-04-18T15:23:19.116Z"
   },
   {
    "duration": 0,
    "start_time": "2022-04-18T15:23:19.117Z"
   },
   {
    "duration": 0,
    "start_time": "2022-04-18T15:23:19.118Z"
   },
   {
    "duration": 0,
    "start_time": "2022-04-18T15:23:19.119Z"
   },
   {
    "duration": 0,
    "start_time": "2022-04-18T15:23:19.120Z"
   },
   {
    "duration": 0,
    "start_time": "2022-04-18T15:23:19.122Z"
   },
   {
    "duration": 0,
    "start_time": "2022-04-18T15:23:19.123Z"
   },
   {
    "duration": 0,
    "start_time": "2022-04-18T15:23:19.123Z"
   },
   {
    "duration": 0,
    "start_time": "2022-04-18T15:23:19.125Z"
   },
   {
    "duration": 0,
    "start_time": "2022-04-18T15:23:19.126Z"
   },
   {
    "duration": 0,
    "start_time": "2022-04-18T15:23:19.127Z"
   },
   {
    "duration": 0,
    "start_time": "2022-04-18T15:23:19.128Z"
   },
   {
    "duration": 0,
    "start_time": "2022-04-18T15:23:19.129Z"
   },
   {
    "duration": 0,
    "start_time": "2022-04-18T15:23:19.130Z"
   },
   {
    "duration": 0,
    "start_time": "2022-04-18T15:23:19.131Z"
   },
   {
    "duration": 0,
    "start_time": "2022-04-18T15:23:19.132Z"
   },
   {
    "duration": 0,
    "start_time": "2022-04-18T15:23:19.133Z"
   },
   {
    "duration": 0,
    "start_time": "2022-04-18T15:23:19.134Z"
   },
   {
    "duration": 0,
    "start_time": "2022-04-18T15:23:19.135Z"
   },
   {
    "duration": 0,
    "start_time": "2022-04-18T15:23:19.136Z"
   },
   {
    "duration": 0,
    "start_time": "2022-04-18T15:23:19.136Z"
   },
   {
    "duration": 0,
    "start_time": "2022-04-18T15:23:19.137Z"
   },
   {
    "duration": 12,
    "start_time": "2022-04-18T15:23:40.938Z"
   },
   {
    "duration": 8,
    "start_time": "2022-04-18T15:23:46.928Z"
   },
   {
    "duration": 10,
    "start_time": "2022-04-18T15:23:53.389Z"
   },
   {
    "duration": 106,
    "start_time": "2022-04-18T15:24:09.193Z"
   },
   {
    "duration": 9,
    "start_time": "2022-04-18T15:24:15.508Z"
   },
   {
    "duration": 4,
    "start_time": "2022-04-18T15:24:24.393Z"
   },
   {
    "duration": 9,
    "start_time": "2022-04-18T15:24:30.792Z"
   },
   {
    "duration": 8,
    "start_time": "2022-04-18T15:24:34.968Z"
   },
   {
    "duration": 9,
    "start_time": "2022-04-18T15:24:48.008Z"
   },
   {
    "duration": 5,
    "start_time": "2022-04-18T15:24:54.263Z"
   },
   {
    "duration": 8,
    "start_time": "2022-04-18T15:24:57.253Z"
   },
   {
    "duration": 7,
    "start_time": "2022-04-18T15:25:01.412Z"
   },
   {
    "duration": 28,
    "start_time": "2022-04-18T15:25:03.280Z"
   },
   {
    "duration": 11,
    "start_time": "2022-04-18T15:25:05.190Z"
   },
   {
    "duration": 8,
    "start_time": "2022-04-18T15:25:12.077Z"
   },
   {
    "duration": 663,
    "start_time": "2022-04-18T15:25:24.322Z"
   },
   {
    "duration": 82,
    "start_time": "2022-04-18T15:25:24.987Z"
   },
   {
    "duration": 31,
    "start_time": "2022-04-18T15:25:25.071Z"
   },
   {
    "duration": 15,
    "start_time": "2022-04-18T15:25:25.108Z"
   },
   {
    "duration": 9,
    "start_time": "2022-04-18T15:25:25.126Z"
   },
   {
    "duration": 8,
    "start_time": "2022-04-18T15:25:25.136Z"
   },
   {
    "duration": 97,
    "start_time": "2022-04-18T15:25:25.146Z"
   },
   {
    "duration": 0,
    "start_time": "2022-04-18T15:25:25.245Z"
   },
   {
    "duration": 0,
    "start_time": "2022-04-18T15:25:25.246Z"
   },
   {
    "duration": 0,
    "start_time": "2022-04-18T15:25:25.247Z"
   },
   {
    "duration": 0,
    "start_time": "2022-04-18T15:25:25.249Z"
   },
   {
    "duration": 0,
    "start_time": "2022-04-18T15:25:25.250Z"
   },
   {
    "duration": 0,
    "start_time": "2022-04-18T15:25:25.251Z"
   },
   {
    "duration": 0,
    "start_time": "2022-04-18T15:25:25.252Z"
   },
   {
    "duration": 0,
    "start_time": "2022-04-18T15:25:25.254Z"
   },
   {
    "duration": 0,
    "start_time": "2022-04-18T15:25:25.255Z"
   },
   {
    "duration": 0,
    "start_time": "2022-04-18T15:25:25.256Z"
   },
   {
    "duration": 0,
    "start_time": "2022-04-18T15:25:25.257Z"
   },
   {
    "duration": 0,
    "start_time": "2022-04-18T15:25:25.258Z"
   },
   {
    "duration": 0,
    "start_time": "2022-04-18T15:25:25.259Z"
   },
   {
    "duration": 0,
    "start_time": "2022-04-18T15:25:25.260Z"
   },
   {
    "duration": 0,
    "start_time": "2022-04-18T15:25:25.261Z"
   },
   {
    "duration": 0,
    "start_time": "2022-04-18T15:25:25.262Z"
   },
   {
    "duration": 0,
    "start_time": "2022-04-18T15:25:25.264Z"
   },
   {
    "duration": 0,
    "start_time": "2022-04-18T15:25:25.265Z"
   },
   {
    "duration": 0,
    "start_time": "2022-04-18T15:25:25.266Z"
   },
   {
    "duration": 0,
    "start_time": "2022-04-18T15:25:25.267Z"
   },
   {
    "duration": 5,
    "start_time": "2022-04-18T15:25:34.664Z"
   },
   {
    "duration": 6,
    "start_time": "2022-04-18T15:25:35.804Z"
   },
   {
    "duration": 5,
    "start_time": "2022-04-18T15:25:53.833Z"
   },
   {
    "duration": 22,
    "start_time": "2022-04-18T15:26:05.804Z"
   },
   {
    "duration": 5,
    "start_time": "2022-04-18T15:26:06.418Z"
   },
   {
    "duration": 652,
    "start_time": "2022-04-18T15:26:12.130Z"
   },
   {
    "duration": 87,
    "start_time": "2022-04-18T15:26:12.784Z"
   },
   {
    "duration": 36,
    "start_time": "2022-04-18T15:26:12.872Z"
   },
   {
    "duration": 16,
    "start_time": "2022-04-18T15:26:12.910Z"
   },
   {
    "duration": 9,
    "start_time": "2022-04-18T15:26:12.928Z"
   },
   {
    "duration": 14,
    "start_time": "2022-04-18T15:26:12.939Z"
   },
   {
    "duration": 33,
    "start_time": "2022-04-18T15:26:12.955Z"
   },
   {
    "duration": 21,
    "start_time": "2022-04-18T15:26:12.989Z"
   },
   {
    "duration": 85,
    "start_time": "2022-04-18T15:26:13.012Z"
   },
   {
    "duration": 0,
    "start_time": "2022-04-18T15:26:13.100Z"
   },
   {
    "duration": 0,
    "start_time": "2022-04-18T15:26:13.101Z"
   },
   {
    "duration": 0,
    "start_time": "2022-04-18T15:26:13.107Z"
   },
   {
    "duration": 0,
    "start_time": "2022-04-18T15:26:13.109Z"
   },
   {
    "duration": 0,
    "start_time": "2022-04-18T15:26:13.110Z"
   },
   {
    "duration": 0,
    "start_time": "2022-04-18T15:26:13.111Z"
   },
   {
    "duration": 0,
    "start_time": "2022-04-18T15:26:13.112Z"
   },
   {
    "duration": 0,
    "start_time": "2022-04-18T15:26:13.112Z"
   },
   {
    "duration": 0,
    "start_time": "2022-04-18T15:26:13.114Z"
   },
   {
    "duration": 0,
    "start_time": "2022-04-18T15:26:13.115Z"
   },
   {
    "duration": 0,
    "start_time": "2022-04-18T15:26:13.116Z"
   },
   {
    "duration": 0,
    "start_time": "2022-04-18T15:26:13.117Z"
   },
   {
    "duration": 0,
    "start_time": "2022-04-18T15:26:13.118Z"
   },
   {
    "duration": 0,
    "start_time": "2022-04-18T15:26:13.119Z"
   },
   {
    "duration": 0,
    "start_time": "2022-04-18T15:26:13.120Z"
   },
   {
    "duration": 0,
    "start_time": "2022-04-18T15:26:13.121Z"
   },
   {
    "duration": 0,
    "start_time": "2022-04-18T15:26:13.122Z"
   },
   {
    "duration": 0,
    "start_time": "2022-04-18T15:26:13.123Z"
   },
   {
    "duration": 6,
    "start_time": "2022-04-18T15:26:39.664Z"
   },
   {
    "duration": 9,
    "start_time": "2022-04-18T15:27:01.233Z"
   },
   {
    "duration": 9,
    "start_time": "2022-04-18T15:27:09.662Z"
   },
   {
    "duration": 9,
    "start_time": "2022-04-18T15:27:16.216Z"
   },
   {
    "duration": 6,
    "start_time": "2022-04-18T15:27:26.543Z"
   },
   {
    "duration": 9,
    "start_time": "2022-04-18T15:27:31.297Z"
   },
   {
    "duration": 9,
    "start_time": "2022-04-18T15:27:44.144Z"
   },
   {
    "duration": 4,
    "start_time": "2022-04-18T15:27:47.548Z"
   },
   {
    "duration": 10,
    "start_time": "2022-04-18T15:27:51.528Z"
   },
   {
    "duration": 4,
    "start_time": "2022-04-18T15:28:02.455Z"
   },
   {
    "duration": 8,
    "start_time": "2022-04-18T15:28:06.233Z"
   },
   {
    "duration": 8,
    "start_time": "2022-04-18T15:28:15.556Z"
   },
   {
    "duration": 6,
    "start_time": "2022-04-18T15:28:30.376Z"
   },
   {
    "duration": 8,
    "start_time": "2022-04-18T15:28:39.993Z"
   },
   {
    "duration": 10,
    "start_time": "2022-04-18T15:28:48.167Z"
   },
   {
    "duration": 10,
    "start_time": "2022-04-18T15:29:01.619Z"
   },
   {
    "duration": 14,
    "start_time": "2022-04-18T15:29:08.784Z"
   },
   {
    "duration": 11,
    "start_time": "2022-04-18T15:29:19.880Z"
   },
   {
    "duration": 9,
    "start_time": "2022-04-18T15:29:29.336Z"
   },
   {
    "duration": 12,
    "start_time": "2022-04-18T15:29:35.317Z"
   },
   {
    "duration": 617,
    "start_time": "2022-04-18T15:29:50.449Z"
   },
   {
    "duration": 81,
    "start_time": "2022-04-18T15:29:51.068Z"
   },
   {
    "duration": 31,
    "start_time": "2022-04-18T15:29:51.150Z"
   },
   {
    "duration": 29,
    "start_time": "2022-04-18T15:29:51.183Z"
   },
   {
    "duration": 11,
    "start_time": "2022-04-18T15:29:51.215Z"
   },
   {
    "duration": 15,
    "start_time": "2022-04-18T15:29:51.228Z"
   },
   {
    "duration": 28,
    "start_time": "2022-04-18T15:29:51.245Z"
   },
   {
    "duration": 33,
    "start_time": "2022-04-18T15:29:51.275Z"
   },
   {
    "duration": 7,
    "start_time": "2022-04-18T15:29:51.311Z"
   },
   {
    "duration": 409,
    "start_time": "2022-04-18T15:29:51.320Z"
   },
   {
    "duration": 278,
    "start_time": "2022-04-18T15:29:51.731Z"
   },
   {
    "duration": 11,
    "start_time": "2022-04-18T15:29:52.011Z"
   },
   {
    "duration": 11,
    "start_time": "2022-04-18T15:29:52.023Z"
   },
   {
    "duration": 5,
    "start_time": "2022-04-18T15:29:52.037Z"
   },
   {
    "duration": 6,
    "start_time": "2022-04-18T15:29:52.044Z"
   },
   {
    "duration": 24,
    "start_time": "2022-04-18T15:29:52.051Z"
   },
   {
    "duration": 33,
    "start_time": "2022-04-18T15:29:52.077Z"
   },
   {
    "duration": 4471,
    "start_time": "2022-04-18T15:29:52.112Z"
   },
   {
    "duration": 4,
    "start_time": "2022-04-18T15:29:56.585Z"
   },
   {
    "duration": 30,
    "start_time": "2022-04-18T15:29:56.590Z"
   },
   {
    "duration": 31,
    "start_time": "2022-04-18T15:29:56.621Z"
   },
   {
    "duration": 22,
    "start_time": "2022-04-18T15:29:56.654Z"
   },
   {
    "duration": 9,
    "start_time": "2022-04-18T15:29:56.678Z"
   },
   {
    "duration": 308,
    "start_time": "2022-04-18T15:29:56.688Z"
   },
   {
    "duration": 11,
    "start_time": "2022-04-18T15:29:56.998Z"
   },
   {
    "duration": 51,
    "start_time": "2022-04-18T15:29:57.011Z"
   },
   {
    "duration": 7,
    "start_time": "2022-04-18T15:30:49.349Z"
   },
   {
    "duration": 4,
    "start_time": "2022-04-18T15:31:02.609Z"
   },
   {
    "duration": 73,
    "start_time": "2022-04-18T15:31:14.260Z"
   },
   {
    "duration": 9,
    "start_time": "2022-04-18T15:31:47.149Z"
   },
   {
    "duration": 4,
    "start_time": "2022-04-18T15:31:53.005Z"
   },
   {
    "duration": 8,
    "start_time": "2022-04-18T15:31:58.218Z"
   },
   {
    "duration": 7,
    "start_time": "2022-04-18T15:32:06.425Z"
   },
   {
    "duration": 9,
    "start_time": "2022-04-18T15:32:48.655Z"
   },
   {
    "duration": 14,
    "start_time": "2022-04-18T15:33:03.049Z"
   },
   {
    "duration": 4,
    "start_time": "2022-04-18T15:33:11.900Z"
   },
   {
    "duration": 10,
    "start_time": "2022-04-18T15:33:16.315Z"
   },
   {
    "duration": 1545,
    "start_time": "2022-04-18T15:33:31.086Z"
   },
   {
    "duration": 85,
    "start_time": "2022-04-18T15:33:32.633Z"
   },
   {
    "duration": 32,
    "start_time": "2022-04-18T15:33:32.719Z"
   },
   {
    "duration": 17,
    "start_time": "2022-04-18T15:33:32.753Z"
   },
   {
    "duration": 96,
    "start_time": "2022-04-18T15:33:32.773Z"
   },
   {
    "duration": 0,
    "start_time": "2022-04-18T15:33:32.871Z"
   },
   {
    "duration": 0,
    "start_time": "2022-04-18T15:33:32.872Z"
   },
   {
    "duration": 1,
    "start_time": "2022-04-18T15:33:32.873Z"
   },
   {
    "duration": 0,
    "start_time": "2022-04-18T15:33:32.875Z"
   },
   {
    "duration": 0,
    "start_time": "2022-04-18T15:33:32.876Z"
   },
   {
    "duration": 0,
    "start_time": "2022-04-18T15:33:32.877Z"
   },
   {
    "duration": 0,
    "start_time": "2022-04-18T15:33:32.878Z"
   },
   {
    "duration": 0,
    "start_time": "2022-04-18T15:33:32.879Z"
   },
   {
    "duration": 0,
    "start_time": "2022-04-18T15:33:32.880Z"
   },
   {
    "duration": 0,
    "start_time": "2022-04-18T15:33:32.881Z"
   },
   {
    "duration": 0,
    "start_time": "2022-04-18T15:33:32.882Z"
   },
   {
    "duration": 0,
    "start_time": "2022-04-18T15:33:32.883Z"
   },
   {
    "duration": 0,
    "start_time": "2022-04-18T15:33:32.884Z"
   },
   {
    "duration": 0,
    "start_time": "2022-04-18T15:33:32.885Z"
   },
   {
    "duration": 0,
    "start_time": "2022-04-18T15:33:32.908Z"
   },
   {
    "duration": 0,
    "start_time": "2022-04-18T15:33:32.909Z"
   },
   {
    "duration": 0,
    "start_time": "2022-04-18T15:33:32.910Z"
   },
   {
    "duration": 0,
    "start_time": "2022-04-18T15:33:32.911Z"
   },
   {
    "duration": 0,
    "start_time": "2022-04-18T15:33:32.912Z"
   },
   {
    "duration": 0,
    "start_time": "2022-04-18T15:33:32.913Z"
   },
   {
    "duration": 0,
    "start_time": "2022-04-18T15:33:32.914Z"
   },
   {
    "duration": 9,
    "start_time": "2022-04-18T15:34:02.996Z"
   },
   {
    "duration": 9,
    "start_time": "2022-04-18T15:34:12.538Z"
   },
   {
    "duration": 9,
    "start_time": "2022-04-18T15:34:27.083Z"
   },
   {
    "duration": 8,
    "start_time": "2022-04-18T15:34:40.663Z"
   },
   {
    "duration": 9,
    "start_time": "2022-04-18T15:34:48.627Z"
   },
   {
    "duration": 10,
    "start_time": "2022-04-18T15:35:03.487Z"
   },
   {
    "duration": 8,
    "start_time": "2022-04-18T15:35:09.252Z"
   },
   {
    "duration": 7,
    "start_time": "2022-04-18T15:35:26.254Z"
   },
   {
    "duration": 6,
    "start_time": "2022-04-18T15:36:39.814Z"
   },
   {
    "duration": 24,
    "start_time": "2022-04-18T15:36:42.878Z"
   },
   {
    "duration": 8,
    "start_time": "2022-04-18T15:36:44.031Z"
   },
   {
    "duration": 6,
    "start_time": "2022-04-18T15:37:11.931Z"
   },
   {
    "duration": 391,
    "start_time": "2022-04-18T15:37:15.830Z"
   },
   {
    "duration": 264,
    "start_time": "2022-04-18T15:37:19.130Z"
   },
   {
    "duration": 9,
    "start_time": "2022-04-18T15:37:20.759Z"
   },
   {
    "duration": 9,
    "start_time": "2022-04-18T15:37:21.791Z"
   },
   {
    "duration": 4,
    "start_time": "2022-04-18T15:37:25.924Z"
   },
   {
    "duration": 5,
    "start_time": "2022-04-18T15:37:26.915Z"
   },
   {
    "duration": 14,
    "start_time": "2022-04-18T15:37:29.127Z"
   },
   {
    "duration": 2,
    "start_time": "2022-04-18T15:37:33.460Z"
   },
   {
    "duration": 4329,
    "start_time": "2022-04-18T15:37:36.999Z"
   },
   {
    "duration": 4,
    "start_time": "2022-04-18T15:37:41.330Z"
   },
   {
    "duration": 5,
    "start_time": "2022-04-18T15:37:42.758Z"
   },
   {
    "duration": 10,
    "start_time": "2022-04-18T15:37:45.343Z"
   },
   {
    "duration": 6,
    "start_time": "2022-04-18T15:38:49.470Z"
   },
   {
    "duration": 8,
    "start_time": "2022-04-18T15:38:50.282Z"
   },
   {
    "duration": 278,
    "start_time": "2022-04-18T15:38:56.817Z"
   },
   {
    "duration": 770,
    "start_time": "2022-04-19T13:14:01.253Z"
   },
   {
    "duration": 74,
    "start_time": "2022-04-19T13:14:02.026Z"
   },
   {
    "duration": 28,
    "start_time": "2022-04-19T13:14:02.102Z"
   },
   {
    "duration": 21,
    "start_time": "2022-04-19T13:14:02.131Z"
   },
   {
    "duration": 23,
    "start_time": "2022-04-19T13:14:02.155Z"
   },
   {
    "duration": 33,
    "start_time": "2022-04-19T13:14:02.179Z"
   },
   {
    "duration": 31,
    "start_time": "2022-04-19T13:14:02.214Z"
   },
   {
    "duration": 14,
    "start_time": "2022-04-19T13:14:02.247Z"
   },
   {
    "duration": 15,
    "start_time": "2022-04-19T13:14:02.262Z"
   },
   {
    "duration": 318,
    "start_time": "2022-04-19T13:14:02.278Z"
   },
   {
    "duration": 245,
    "start_time": "2022-04-19T13:14:02.598Z"
   },
   {
    "duration": 9,
    "start_time": "2022-04-19T13:14:02.844Z"
   },
   {
    "duration": 8,
    "start_time": "2022-04-19T13:14:02.855Z"
   },
   {
    "duration": 3,
    "start_time": "2022-04-19T13:14:02.866Z"
   },
   {
    "duration": 8,
    "start_time": "2022-04-19T13:14:02.870Z"
   },
   {
    "duration": 17,
    "start_time": "2022-04-19T13:14:02.879Z"
   },
   {
    "duration": 3,
    "start_time": "2022-04-19T13:14:02.924Z"
   },
   {
    "duration": 3790,
    "start_time": "2022-04-19T13:14:02.929Z"
   },
   {
    "duration": 4,
    "start_time": "2022-04-19T13:14:06.723Z"
   },
   {
    "duration": 9,
    "start_time": "2022-04-19T13:14:06.728Z"
   },
   {
    "duration": 9,
    "start_time": "2022-04-19T13:14:06.738Z"
   },
   {
    "duration": 5,
    "start_time": "2022-04-19T13:14:06.749Z"
   },
   {
    "duration": 7,
    "start_time": "2022-04-19T13:14:06.756Z"
   },
   {
    "duration": 278,
    "start_time": "2022-04-19T13:14:06.764Z"
   },
   {
    "duration": 7,
    "start_time": "2022-04-19T13:14:07.044Z"
   },
   {
    "duration": 32,
    "start_time": "2022-04-19T13:14:07.053Z"
   },
   {
    "duration": 8,
    "start_time": "2022-04-19T13:16:03.108Z"
   },
   {
    "duration": 8,
    "start_time": "2022-04-19T13:16:31.085Z"
   },
   {
    "duration": 8,
    "start_time": "2022-04-19T13:17:03.681Z"
   },
   {
    "duration": 9,
    "start_time": "2022-04-19T13:18:07.926Z"
   },
   {
    "duration": 5,
    "start_time": "2022-04-19T13:55:57.252Z"
   },
   {
    "duration": 7,
    "start_time": "2022-04-19T13:56:11.871Z"
   },
   {
    "duration": 5,
    "start_time": "2022-04-19T13:56:51.832Z"
   },
   {
    "duration": 5,
    "start_time": "2022-04-19T13:57:20.308Z"
   },
   {
    "duration": 5,
    "start_time": "2022-04-19T13:58:01.772Z"
   },
   {
    "duration": 5,
    "start_time": "2022-04-19T13:58:08.816Z"
   },
   {
    "duration": 5,
    "start_time": "2022-04-19T14:00:04.273Z"
   },
   {
    "duration": 5,
    "start_time": "2022-04-19T14:00:24.708Z"
   },
   {
    "duration": 656,
    "start_time": "2022-04-19T14:00:48.392Z"
   },
   {
    "duration": 72,
    "start_time": "2022-04-19T14:00:49.049Z"
   },
   {
    "duration": 28,
    "start_time": "2022-04-19T14:00:49.123Z"
   },
   {
    "duration": 14,
    "start_time": "2022-04-19T14:00:49.152Z"
   },
   {
    "duration": 8,
    "start_time": "2022-04-19T14:00:49.168Z"
   },
   {
    "duration": 22,
    "start_time": "2022-04-19T14:00:49.177Z"
   },
   {
    "duration": 40,
    "start_time": "2022-04-19T14:00:49.200Z"
   },
   {
    "duration": 6,
    "start_time": "2022-04-19T14:00:49.242Z"
   },
   {
    "duration": 13,
    "start_time": "2022-04-19T14:00:49.249Z"
   },
   {
    "duration": 349,
    "start_time": "2022-04-19T14:00:49.264Z"
   },
   {
    "duration": 237,
    "start_time": "2022-04-19T14:00:49.615Z"
   },
   {
    "duration": 8,
    "start_time": "2022-04-19T14:00:49.853Z"
   },
   {
    "duration": 10,
    "start_time": "2022-04-19T14:00:49.863Z"
   },
   {
    "duration": 4,
    "start_time": "2022-04-19T14:00:49.876Z"
   },
   {
    "duration": 10,
    "start_time": "2022-04-19T14:00:49.882Z"
   },
   {
    "duration": 37,
    "start_time": "2022-04-19T14:00:49.893Z"
   },
   {
    "duration": 3,
    "start_time": "2022-04-19T14:00:49.932Z"
   },
   {
    "duration": 4036,
    "start_time": "2022-04-19T14:00:49.936Z"
   },
   {
    "duration": 4,
    "start_time": "2022-04-19T14:00:53.974Z"
   },
   {
    "duration": 8,
    "start_time": "2022-04-19T14:00:53.979Z"
   },
   {
    "duration": 9,
    "start_time": "2022-04-19T14:00:53.989Z"
   },
   {
    "duration": 24,
    "start_time": "2022-04-19T14:00:53.999Z"
   },
   {
    "duration": 8,
    "start_time": "2022-04-19T14:00:54.025Z"
   },
   {
    "duration": 274,
    "start_time": "2022-04-19T14:00:54.035Z"
   },
   {
    "duration": 17,
    "start_time": "2022-04-19T14:00:54.311Z"
   },
   {
    "duration": 6,
    "start_time": "2022-04-19T14:00:54.330Z"
   },
   {
    "duration": 11,
    "start_time": "2022-04-19T14:00:54.338Z"
   },
   {
    "duration": 10,
    "start_time": "2022-04-19T14:00:54.351Z"
   },
   {
    "duration": 6,
    "start_time": "2022-04-19T14:01:49.215Z"
   },
   {
    "duration": 4,
    "start_time": "2022-04-19T14:02:32.905Z"
   },
   {
    "duration": 5,
    "start_time": "2022-04-19T14:02:48.969Z"
   },
   {
    "duration": 5,
    "start_time": "2022-04-19T14:07:33.310Z"
   },
   {
    "duration": 12,
    "start_time": "2022-04-19T14:13:35.180Z"
   },
   {
    "duration": 6,
    "start_time": "2022-04-19T14:46:08.682Z"
   },
   {
    "duration": 103,
    "start_time": "2022-04-19T14:49:02.335Z"
   },
   {
    "duration": 11,
    "start_time": "2022-04-19T14:49:14.011Z"
   },
   {
    "duration": 7,
    "start_time": "2022-04-19T14:49:52.758Z"
   },
   {
    "duration": 13,
    "start_time": "2022-04-19T14:50:06.443Z"
   },
   {
    "duration": 8,
    "start_time": "2022-04-19T14:50:20.246Z"
   },
   {
    "duration": 13,
    "start_time": "2022-04-19T14:50:27.039Z"
   },
   {
    "duration": 10,
    "start_time": "2022-04-19T14:55:41.107Z"
   },
   {
    "duration": 10,
    "start_time": "2022-04-19T14:55:56.259Z"
   },
   {
    "duration": 810,
    "start_time": "2022-04-19T16:25:18.417Z"
   },
   {
    "duration": 90,
    "start_time": "2022-04-19T16:25:19.229Z"
   },
   {
    "duration": 25,
    "start_time": "2022-04-19T16:25:19.321Z"
   },
   {
    "duration": 13,
    "start_time": "2022-04-19T16:25:19.348Z"
   },
   {
    "duration": 10,
    "start_time": "2022-04-19T16:25:19.363Z"
   },
   {
    "duration": 27,
    "start_time": "2022-04-19T16:25:19.375Z"
   },
   {
    "duration": 24,
    "start_time": "2022-04-19T16:25:19.404Z"
   },
   {
    "duration": 6,
    "start_time": "2022-04-19T16:25:19.430Z"
   },
   {
    "duration": 9,
    "start_time": "2022-04-19T16:25:19.438Z"
   },
   {
    "duration": 347,
    "start_time": "2022-04-19T16:25:19.449Z"
   },
   {
    "duration": 235,
    "start_time": "2022-04-19T16:25:19.800Z"
   },
   {
    "duration": 9,
    "start_time": "2022-04-19T16:25:20.036Z"
   },
   {
    "duration": 9,
    "start_time": "2022-04-19T16:25:20.046Z"
   },
   {
    "duration": 5,
    "start_time": "2022-04-19T16:25:20.056Z"
   },
   {
    "duration": 7,
    "start_time": "2022-04-19T16:25:20.062Z"
   },
   {
    "duration": 39,
    "start_time": "2022-04-19T16:25:20.070Z"
   },
   {
    "duration": 3,
    "start_time": "2022-04-19T16:25:20.111Z"
   },
   {
    "duration": 3774,
    "start_time": "2022-04-19T16:25:20.116Z"
   },
   {
    "duration": 4,
    "start_time": "2022-04-19T16:25:23.891Z"
   },
   {
    "duration": 10,
    "start_time": "2022-04-19T16:25:23.900Z"
   },
   {
    "duration": 23,
    "start_time": "2022-04-19T16:25:23.911Z"
   },
   {
    "duration": 13,
    "start_time": "2022-04-19T16:25:23.935Z"
   },
   {
    "duration": 13,
    "start_time": "2022-04-19T16:25:23.950Z"
   },
   {
    "duration": 265,
    "start_time": "2022-04-19T16:25:23.965Z"
   },
   {
    "duration": 10,
    "start_time": "2022-04-19T16:25:24.232Z"
   },
   {
    "duration": 5,
    "start_time": "2022-04-19T16:25:24.244Z"
   },
   {
    "duration": 23,
    "start_time": "2022-04-19T16:25:24.250Z"
   },
   {
    "duration": 16,
    "start_time": "2022-04-19T16:25:24.277Z"
   },
   {
    "duration": 65,
    "start_time": "2022-04-19T16:25:24.300Z"
   },
   {
    "duration": 0,
    "start_time": "2022-04-19T16:25:24.367Z"
   },
   {
    "duration": 0,
    "start_time": "2022-04-19T16:25:24.368Z"
   },
   {
    "duration": 0,
    "start_time": "2022-04-19T16:25:24.369Z"
   },
   {
    "duration": 5,
    "start_time": "2022-04-19T16:25:30.863Z"
   },
   {
    "duration": 8,
    "start_time": "2022-04-19T16:25:52.559Z"
   },
   {
    "duration": 12,
    "start_time": "2022-04-19T16:25:54.226Z"
   },
   {
    "duration": 5,
    "start_time": "2022-04-19T16:42:43.625Z"
   },
   {
    "duration": 13,
    "start_time": "2022-04-19T16:42:49.521Z"
   },
   {
    "duration": 21,
    "start_time": "2022-04-19T17:17:33.608Z"
   },
   {
    "duration": 8,
    "start_time": "2022-04-19T17:21:14.420Z"
   },
   {
    "duration": 1665,
    "start_time": "2022-04-19T17:21:21.151Z"
   },
   {
    "duration": 1492,
    "start_time": "2022-04-19T17:21:40.885Z"
   },
   {
    "duration": 7,
    "start_time": "2022-04-19T17:22:07.176Z"
   },
   {
    "duration": 23,
    "start_time": "2022-04-19T17:22:11.425Z"
   },
   {
    "duration": 4,
    "start_time": "2022-04-19T17:24:22.919Z"
   },
   {
    "duration": 13,
    "start_time": "2022-04-19T17:24:32.004Z"
   },
   {
    "duration": 5,
    "start_time": "2022-04-19T17:24:37.392Z"
   },
   {
    "duration": 3253,
    "start_time": "2022-04-19T17:29:33.503Z"
   },
   {
    "duration": 12,
    "start_time": "2022-04-19T17:30:15.360Z"
   },
   {
    "duration": 11,
    "start_time": "2022-04-19T17:31:30.011Z"
   },
   {
    "duration": 3,
    "start_time": "2022-04-19T17:37:35.746Z"
   },
   {
    "duration": 21,
    "start_time": "2022-04-19T17:37:40.115Z"
   },
   {
    "duration": 3,
    "start_time": "2022-04-19T17:39:47.480Z"
   },
   {
    "duration": 269,
    "start_time": "2022-04-19T17:40:16.779Z"
   },
   {
    "duration": 21,
    "start_time": "2022-04-19T17:40:29.834Z"
   },
   {
    "duration": 37,
    "start_time": "2022-04-19T17:41:52.928Z"
   },
   {
    "duration": 9,
    "start_time": "2022-04-19T17:47:56.743Z"
   },
   {
    "duration": 7,
    "start_time": "2022-04-19T17:51:17.148Z"
   },
   {
    "duration": 23,
    "start_time": "2022-04-19T17:51:30.166Z"
   },
   {
    "duration": 14,
    "start_time": "2022-04-19T17:52:21.675Z"
   },
   {
    "duration": 687,
    "start_time": "2022-04-19T18:00:48.564Z"
   },
   {
    "duration": 77,
    "start_time": "2022-04-19T18:00:49.253Z"
   },
   {
    "duration": 26,
    "start_time": "2022-04-19T18:00:49.332Z"
   },
   {
    "duration": 15,
    "start_time": "2022-04-19T18:00:49.359Z"
   },
   {
    "duration": 25,
    "start_time": "2022-04-19T18:00:49.376Z"
   },
   {
    "duration": 9,
    "start_time": "2022-04-19T18:00:49.402Z"
   },
   {
    "duration": 9,
    "start_time": "2022-04-19T18:00:49.412Z"
   },
   {
    "duration": 27,
    "start_time": "2022-04-19T18:00:49.422Z"
   },
   {
    "duration": 7,
    "start_time": "2022-04-19T18:00:49.450Z"
   },
   {
    "duration": 6,
    "start_time": "2022-04-19T18:00:49.459Z"
   },
   {
    "duration": 371,
    "start_time": "2022-04-19T18:00:49.467Z"
   },
   {
    "duration": 233,
    "start_time": "2022-04-19T18:00:49.840Z"
   },
   {
    "duration": 9,
    "start_time": "2022-04-19T18:00:50.075Z"
   },
   {
    "duration": 10,
    "start_time": "2022-04-19T18:00:50.102Z"
   },
   {
    "duration": 13,
    "start_time": "2022-04-19T18:00:50.113Z"
   },
   {
    "duration": 27,
    "start_time": "2022-04-19T18:00:50.127Z"
   },
   {
    "duration": 21,
    "start_time": "2022-04-19T18:00:50.156Z"
   },
   {
    "duration": 4,
    "start_time": "2022-04-19T18:00:50.178Z"
   },
   {
    "duration": 3811,
    "start_time": "2022-04-19T18:00:50.183Z"
   },
   {
    "duration": 6,
    "start_time": "2022-04-19T18:00:53.995Z"
   },
   {
    "duration": 5,
    "start_time": "2022-04-19T18:00:54.002Z"
   },
   {
    "duration": 14,
    "start_time": "2022-04-19T18:00:54.009Z"
   },
   {
    "duration": 5,
    "start_time": "2022-04-19T18:00:54.024Z"
   },
   {
    "duration": 6,
    "start_time": "2022-04-19T18:00:54.030Z"
   },
   {
    "duration": 268,
    "start_time": "2022-04-19T18:00:54.038Z"
   },
   {
    "duration": 8,
    "start_time": "2022-04-19T18:00:54.307Z"
   },
   {
    "duration": 7,
    "start_time": "2022-04-19T18:00:54.317Z"
   },
   {
    "duration": 9,
    "start_time": "2022-04-19T18:00:54.325Z"
   },
   {
    "duration": 6,
    "start_time": "2022-04-19T18:00:54.335Z"
   },
   {
    "duration": 5,
    "start_time": "2022-04-19T18:00:54.343Z"
   },
   {
    "duration": 9,
    "start_time": "2022-04-19T18:00:54.349Z"
   },
   {
    "duration": 50,
    "start_time": "2022-04-19T18:00:54.360Z"
   },
   {
    "duration": 8,
    "start_time": "2022-04-19T18:00:54.412Z"
   },
   {
    "duration": 13,
    "start_time": "2022-04-19T18:00:54.421Z"
   },
   {
    "duration": 3,
    "start_time": "2022-04-19T18:00:54.436Z"
   },
   {
    "duration": 284,
    "start_time": "2022-04-19T18:00:54.440Z"
   },
   {
    "duration": 5,
    "start_time": "2022-04-19T18:00:54.726Z"
   },
   {
    "duration": 28,
    "start_time": "2022-04-19T18:00:54.732Z"
   },
   {
    "duration": 15,
    "start_time": "2022-04-19T18:00:54.762Z"
   },
   {
    "duration": 134,
    "start_time": "2022-04-19T18:00:54.779Z"
   },
   {
    "duration": 680,
    "start_time": "2022-04-19T18:04:08.350Z"
   },
   {
    "duration": 616,
    "start_time": "2022-04-19T18:04:27.301Z"
   },
   {
    "duration": 746,
    "start_time": "2022-04-19T18:04:35.177Z"
   },
   {
    "duration": 1361,
    "start_time": "2022-04-19T18:04:44.957Z"
   },
   {
    "duration": 1092,
    "start_time": "2022-04-19T18:04:53.112Z"
   },
   {
    "duration": 681,
    "start_time": "2022-04-19T18:05:16.857Z"
   },
   {
    "duration": 66,
    "start_time": "2022-04-19T18:05:57.551Z"
   },
   {
    "duration": 730,
    "start_time": "2022-04-19T18:06:24.186Z"
   },
   {
    "duration": 669,
    "start_time": "2022-04-19T18:06:30.517Z"
   },
   {
    "duration": 9,
    "start_time": "2022-04-19T18:06:56.313Z"
   },
   {
    "duration": 206,
    "start_time": "2022-04-19T18:07:05.109Z"
   },
   {
    "duration": 646,
    "start_time": "2022-04-19T18:07:11.464Z"
   },
   {
    "duration": 691,
    "start_time": "2022-04-19T18:07:25.594Z"
   },
   {
    "duration": 664,
    "start_time": "2022-04-19T18:07:37.094Z"
   },
   {
    "duration": 1136,
    "start_time": "2022-04-19T18:07:41.267Z"
   },
   {
    "duration": 1012,
    "start_time": "2022-04-19T18:07:49.130Z"
   },
   {
    "duration": 903,
    "start_time": "2022-04-19T18:07:53.925Z"
   },
   {
    "duration": 683,
    "start_time": "2022-04-19T18:08:11.865Z"
   },
   {
    "duration": 729,
    "start_time": "2022-04-19T18:09:29.246Z"
   },
   {
    "duration": 11,
    "start_time": "2022-04-19T18:11:27.292Z"
   },
   {
    "duration": 239,
    "start_time": "2022-04-19T18:11:31.606Z"
   },
   {
    "duration": 8,
    "start_time": "2022-04-19T18:11:35.968Z"
   },
   {
    "duration": 8,
    "start_time": "2022-04-19T18:11:45.779Z"
   },
   {
    "duration": 8,
    "start_time": "2022-04-19T18:11:50.997Z"
   },
   {
    "duration": 688,
    "start_time": "2022-04-19T18:12:05.250Z"
   },
   {
    "duration": 3319,
    "start_time": "2022-04-19T18:12:14.504Z"
   },
   {
    "duration": 745,
    "start_time": "2022-04-19T18:12:19.713Z"
   },
   {
    "duration": 675,
    "start_time": "2022-04-19T18:12:45.541Z"
   },
   {
    "duration": 687,
    "start_time": "2022-04-19T18:13:14.649Z"
   },
   {
    "duration": 825,
    "start_time": "2022-04-19T18:13:21.923Z"
   },
   {
    "duration": 737,
    "start_time": "2022-04-19T18:13:58.897Z"
   },
   {
    "duration": 622,
    "start_time": "2022-04-19T18:14:42.227Z"
   },
   {
    "duration": 685,
    "start_time": "2022-04-19T18:14:58.618Z"
   },
   {
    "duration": 638,
    "start_time": "2022-04-19T18:15:04.281Z"
   },
   {
    "duration": 217,
    "start_time": "2022-04-19T18:16:21.846Z"
   },
   {
    "duration": 193,
    "start_time": "2022-04-19T18:16:32.032Z"
   },
   {
    "duration": 235,
    "start_time": "2022-04-19T18:16:36.433Z"
   },
   {
    "duration": 339,
    "start_time": "2022-04-19T18:16:48.869Z"
   },
   {
    "duration": 250,
    "start_time": "2022-04-19T18:16:53.086Z"
   },
   {
    "duration": 259,
    "start_time": "2022-04-19T18:16:59.793Z"
   },
   {
    "duration": 9,
    "start_time": "2022-04-19T18:18:39.415Z"
   },
   {
    "duration": 3131,
    "start_time": "2022-04-19T18:18:49.343Z"
   },
   {
    "duration": 560,
    "start_time": "2022-04-19T18:19:06.812Z"
   },
   {
    "duration": 684,
    "start_time": "2022-04-19T18:19:23.901Z"
   },
   {
    "duration": 629,
    "start_time": "2022-04-19T18:19:30.297Z"
   },
   {
    "duration": 670,
    "start_time": "2022-04-19T18:19:35.400Z"
   },
   {
    "duration": 560,
    "start_time": "2022-04-19T18:19:39.112Z"
   },
   {
    "duration": 511,
    "start_time": "2022-04-19T18:19:48.528Z"
   },
   {
    "duration": 659,
    "start_time": "2022-04-19T18:19:54.166Z"
   },
   {
    "duration": 3426,
    "start_time": "2022-04-19T18:22:12.862Z"
   },
   {
    "duration": 736,
    "start_time": "2022-04-19T18:22:23.166Z"
   },
   {
    "duration": 544,
    "start_time": "2022-04-19T18:22:55.313Z"
   },
   {
    "duration": 228,
    "start_time": "2022-04-19T18:23:44.740Z"
   },
   {
    "duration": 169,
    "start_time": "2022-04-19T18:23:53.430Z"
   },
   {
    "duration": 8,
    "start_time": "2022-04-19T18:24:21.700Z"
   },
   {
    "duration": 104,
    "start_time": "2022-04-19T18:24:38.536Z"
   },
   {
    "duration": 8,
    "start_time": "2022-04-19T18:25:25.711Z"
   },
   {
    "duration": 192,
    "start_time": "2022-04-19T18:26:49.779Z"
   },
   {
    "duration": 197,
    "start_time": "2022-04-19T18:26:56.853Z"
   },
   {
    "duration": 189,
    "start_time": "2022-04-19T18:27:40.736Z"
   },
   {
    "duration": 2579,
    "start_time": "2022-04-19T18:28:21.632Z"
   },
   {
    "duration": 148,
    "start_time": "2022-04-19T18:28:41.772Z"
   },
   {
    "duration": 147,
    "start_time": "2022-04-19T18:28:48.982Z"
   },
   {
    "duration": 167,
    "start_time": "2022-04-19T18:29:03.395Z"
   },
   {
    "duration": 163,
    "start_time": "2022-04-19T18:29:14.110Z"
   },
   {
    "duration": 252,
    "start_time": "2022-04-19T18:29:24.203Z"
   },
   {
    "duration": 199,
    "start_time": "2022-04-19T18:29:28.594Z"
   },
   {
    "duration": 186,
    "start_time": "2022-04-19T18:29:47.312Z"
   },
   {
    "duration": 334,
    "start_time": "2022-04-19T18:30:47.742Z"
   },
   {
    "duration": 204,
    "start_time": "2022-04-19T18:31:19.994Z"
   },
   {
    "duration": 13,
    "start_time": "2022-04-19T18:35:05.281Z"
   },
   {
    "duration": 207,
    "start_time": "2022-04-19T18:37:38.766Z"
   },
   {
    "duration": 3060,
    "start_time": "2022-04-19T18:38:30.503Z"
   },
   {
    "duration": 3193,
    "start_time": "2022-04-19T18:38:51.309Z"
   },
   {
    "duration": 3009,
    "start_time": "2022-04-19T18:39:15.458Z"
   },
   {
    "duration": 2,
    "start_time": "2022-04-19T18:39:38.533Z"
   },
   {
    "duration": 6,
    "start_time": "2022-04-19T18:39:49.836Z"
   },
   {
    "duration": 3972,
    "start_time": "2022-04-19T18:40:02.317Z"
   },
   {
    "duration": 15,
    "start_time": "2022-04-19T18:40:14.346Z"
   },
   {
    "duration": 12,
    "start_time": "2022-04-19T18:40:27.379Z"
   },
   {
    "duration": 15,
    "start_time": "2022-04-19T18:40:47.178Z"
   },
   {
    "duration": 2877,
    "start_time": "2022-04-19T18:41:43.550Z"
   },
   {
    "duration": 14,
    "start_time": "2022-04-19T18:42:16.812Z"
   },
   {
    "duration": 2860,
    "start_time": "2022-04-19T18:42:24.667Z"
   },
   {
    "duration": 9,
    "start_time": "2022-04-19T18:43:20.333Z"
   },
   {
    "duration": 10,
    "start_time": "2022-04-19T18:43:59.134Z"
   },
   {
    "duration": 11,
    "start_time": "2022-04-19T18:44:37.890Z"
   },
   {
    "duration": 656,
    "start_time": "2022-04-19T18:44:46.517Z"
   },
   {
    "duration": 10,
    "start_time": "2022-04-19T18:44:52.950Z"
   },
   {
    "duration": 682,
    "start_time": "2022-04-19T18:44:57.617Z"
   },
   {
    "duration": 10,
    "start_time": "2022-04-19T18:45:34.832Z"
   },
   {
    "duration": 645,
    "start_time": "2022-04-19T18:45:36.362Z"
   },
   {
    "duration": 9,
    "start_time": "2022-04-19T18:46:40.362Z"
   },
   {
    "duration": 14,
    "start_time": "2022-04-19T18:47:13.865Z"
   },
   {
    "duration": 139,
    "start_time": "2022-04-19T18:47:37.804Z"
   },
   {
    "duration": 133,
    "start_time": "2022-04-19T18:47:53.782Z"
   },
   {
    "duration": 137,
    "start_time": "2022-04-19T18:48:36.936Z"
   },
   {
    "duration": 699,
    "start_time": "2022-04-19T18:49:56.453Z"
   },
   {
    "duration": 77,
    "start_time": "2022-04-19T18:49:57.154Z"
   },
   {
    "duration": 24,
    "start_time": "2022-04-19T18:49:57.233Z"
   },
   {
    "duration": 17,
    "start_time": "2022-04-19T18:49:57.258Z"
   },
   {
    "duration": 4,
    "start_time": "2022-04-19T18:49:57.278Z"
   },
   {
    "duration": 24,
    "start_time": "2022-04-19T18:49:57.283Z"
   },
   {
    "duration": 10,
    "start_time": "2022-04-19T18:49:57.308Z"
   },
   {
    "duration": 22,
    "start_time": "2022-04-19T18:49:57.320Z"
   },
   {
    "duration": 5,
    "start_time": "2022-04-19T18:49:57.344Z"
   },
   {
    "duration": 7,
    "start_time": "2022-04-19T18:49:57.351Z"
   },
   {
    "duration": 351,
    "start_time": "2022-04-19T18:49:57.359Z"
   },
   {
    "duration": 228,
    "start_time": "2022-04-19T18:49:57.712Z"
   },
   {
    "duration": 9,
    "start_time": "2022-04-19T18:49:57.942Z"
   },
   {
    "duration": 9,
    "start_time": "2022-04-19T18:49:57.955Z"
   },
   {
    "duration": 5,
    "start_time": "2022-04-19T18:49:57.965Z"
   },
   {
    "duration": 33,
    "start_time": "2022-04-19T18:49:57.972Z"
   },
   {
    "duration": 21,
    "start_time": "2022-04-19T18:49:58.006Z"
   },
   {
    "duration": 3,
    "start_time": "2022-04-19T18:49:58.029Z"
   },
   {
    "duration": 3821,
    "start_time": "2022-04-19T18:49:58.033Z"
   },
   {
    "duration": 4,
    "start_time": "2022-04-19T18:50:01.856Z"
   },
   {
    "duration": 7,
    "start_time": "2022-04-19T18:50:01.861Z"
   },
   {
    "duration": 15,
    "start_time": "2022-04-19T18:50:01.869Z"
   },
   {
    "duration": 20,
    "start_time": "2022-04-19T18:50:01.886Z"
   },
   {
    "duration": 14,
    "start_time": "2022-04-19T18:50:01.908Z"
   },
   {
    "duration": 266,
    "start_time": "2022-04-19T18:50:01.924Z"
   },
   {
    "duration": 10,
    "start_time": "2022-04-19T18:50:02.201Z"
   },
   {
    "duration": 42,
    "start_time": "2022-04-19T18:50:02.212Z"
   },
   {
    "duration": 28,
    "start_time": "2022-04-19T18:50:02.255Z"
   },
   {
    "duration": 11,
    "start_time": "2022-04-19T18:50:02.284Z"
   },
   {
    "duration": 16,
    "start_time": "2022-04-19T18:50:02.297Z"
   },
   {
    "duration": 17,
    "start_time": "2022-04-19T18:50:02.314Z"
   },
   {
    "duration": 14,
    "start_time": "2022-04-19T18:50:02.332Z"
   },
   {
    "duration": 14,
    "start_time": "2022-04-19T18:50:02.348Z"
   },
   {
    "duration": 15,
    "start_time": "2022-04-19T18:50:02.363Z"
   },
   {
    "duration": 3,
    "start_time": "2022-04-19T18:50:02.380Z"
   },
   {
    "duration": 259,
    "start_time": "2022-04-19T18:50:02.384Z"
   },
   {
    "duration": 5,
    "start_time": "2022-04-19T18:50:02.645Z"
   },
   {
    "duration": 27,
    "start_time": "2022-04-19T18:50:02.651Z"
   },
   {
    "duration": 26,
    "start_time": "2022-04-19T18:50:02.680Z"
   },
   {
    "duration": 6,
    "start_time": "2022-04-19T18:50:02.707Z"
   },
   {
    "duration": 700,
    "start_time": "2022-04-19T18:50:02.716Z"
   },
   {
    "duration": 312,
    "start_time": "2022-04-19T18:50:03.417Z"
   },
   {
    "duration": 211,
    "start_time": "2022-04-19T18:50:03.731Z"
   },
   {
    "duration": 8,
    "start_time": "2022-04-19T18:50:03.943Z"
   },
   {
    "duration": 228,
    "start_time": "2022-04-19T18:50:03.953Z"
   },
   {
    "duration": 18,
    "start_time": "2022-04-19T18:50:04.183Z"
   },
   {
    "duration": 10,
    "start_time": "2022-04-19T18:50:04.202Z"
   },
   {
    "duration": 665,
    "start_time": "2022-04-19T18:50:04.213Z"
   },
   {
    "duration": 11,
    "start_time": "2022-04-19T18:50:04.879Z"
   },
   {
    "duration": 1302,
    "start_time": "2022-04-19T18:50:04.900Z"
   },
   {
    "duration": 139,
    "start_time": "2022-04-19T18:50:06.204Z"
   },
   {
    "duration": 140,
    "start_time": "2022-04-19T18:50:35.730Z"
   },
   {
    "duration": 141,
    "start_time": "2022-04-19T18:50:44.437Z"
   },
   {
    "duration": 115,
    "start_time": "2022-04-19T18:50:55.949Z"
   },
   {
    "duration": 141,
    "start_time": "2022-04-19T18:51:01.423Z"
   },
   {
    "duration": 144,
    "start_time": "2022-04-19T18:51:05.742Z"
   },
   {
    "duration": 1381,
    "start_time": "2022-04-19T18:51:49.893Z"
   },
   {
    "duration": 643,
    "start_time": "2022-04-19T18:53:29.110Z"
   },
   {
    "duration": 80,
    "start_time": "2022-04-19T18:53:29.754Z"
   },
   {
    "duration": 25,
    "start_time": "2022-04-19T18:53:29.836Z"
   },
   {
    "duration": 12,
    "start_time": "2022-04-19T18:53:29.863Z"
   },
   {
    "duration": 7,
    "start_time": "2022-04-19T18:53:29.877Z"
   },
   {
    "duration": 17,
    "start_time": "2022-04-19T18:53:29.885Z"
   },
   {
    "duration": 7,
    "start_time": "2022-04-19T18:53:29.903Z"
   },
   {
    "duration": 24,
    "start_time": "2022-04-19T18:53:29.912Z"
   },
   {
    "duration": 6,
    "start_time": "2022-04-19T18:53:29.937Z"
   },
   {
    "duration": 6,
    "start_time": "2022-04-19T18:53:29.945Z"
   },
   {
    "duration": 339,
    "start_time": "2022-04-19T18:53:29.952Z"
   },
   {
    "duration": 241,
    "start_time": "2022-04-19T18:53:30.293Z"
   },
   {
    "duration": 9,
    "start_time": "2022-04-19T18:53:30.535Z"
   },
   {
    "duration": 15,
    "start_time": "2022-04-19T18:53:30.545Z"
   },
   {
    "duration": 9,
    "start_time": "2022-04-19T18:53:30.561Z"
   },
   {
    "duration": 16,
    "start_time": "2022-04-19T18:53:30.571Z"
   },
   {
    "duration": 26,
    "start_time": "2022-04-19T18:53:30.588Z"
   },
   {
    "duration": 4,
    "start_time": "2022-04-19T18:53:30.616Z"
   },
   {
    "duration": 4179,
    "start_time": "2022-04-19T18:53:30.621Z"
   },
   {
    "duration": 4,
    "start_time": "2022-04-19T18:53:34.801Z"
   },
   {
    "duration": 6,
    "start_time": "2022-04-19T18:53:34.806Z"
   },
   {
    "duration": 7,
    "start_time": "2022-04-19T18:53:34.813Z"
   },
   {
    "duration": 5,
    "start_time": "2022-04-19T18:53:34.822Z"
   },
   {
    "duration": 7,
    "start_time": "2022-04-19T18:53:34.828Z"
   },
   {
    "duration": 272,
    "start_time": "2022-04-19T18:53:34.836Z"
   },
   {
    "duration": 7,
    "start_time": "2022-04-19T18:53:35.110Z"
   },
   {
    "duration": 6,
    "start_time": "2022-04-19T18:53:35.119Z"
   },
   {
    "duration": 7,
    "start_time": "2022-04-19T18:53:35.128Z"
   },
   {
    "duration": 4,
    "start_time": "2022-04-19T18:53:35.136Z"
   },
   {
    "duration": 3,
    "start_time": "2022-04-19T18:53:35.142Z"
   },
   {
    "duration": 8,
    "start_time": "2022-04-19T18:53:35.146Z"
   },
   {
    "duration": 10,
    "start_time": "2022-04-19T18:53:35.155Z"
   },
   {
    "duration": 7,
    "start_time": "2022-04-19T18:53:35.201Z"
   },
   {
    "duration": 19,
    "start_time": "2022-04-19T18:53:35.209Z"
   },
   {
    "duration": 2,
    "start_time": "2022-04-19T18:53:35.230Z"
   },
   {
    "duration": 264,
    "start_time": "2022-04-19T18:53:35.234Z"
   },
   {
    "duration": 4,
    "start_time": "2022-04-19T18:53:35.500Z"
   },
   {
    "duration": 23,
    "start_time": "2022-04-19T18:53:35.506Z"
   },
   {
    "duration": 20,
    "start_time": "2022-04-19T18:53:35.530Z"
   },
   {
    "duration": 6,
    "start_time": "2022-04-19T18:53:35.551Z"
   },
   {
    "duration": 710,
    "start_time": "2022-04-19T18:53:35.558Z"
   },
   {
    "duration": 192,
    "start_time": "2022-04-19T18:53:36.270Z"
   },
   {
    "duration": 201,
    "start_time": "2022-04-19T18:53:36.464Z"
   },
   {
    "duration": 8,
    "start_time": "2022-04-19T18:53:36.666Z"
   },
   {
    "duration": 227,
    "start_time": "2022-04-19T18:53:36.675Z"
   },
   {
    "duration": 14,
    "start_time": "2022-04-19T18:53:36.904Z"
   },
   {
    "duration": 10,
    "start_time": "2022-04-19T18:53:36.920Z"
   },
   {
    "duration": 711,
    "start_time": "2022-04-19T18:53:36.932Z"
   },
   {
    "duration": 9,
    "start_time": "2022-04-19T18:53:37.645Z"
   },
   {
    "duration": 1437,
    "start_time": "2022-04-19T18:53:37.656Z"
   },
   {
    "duration": 151,
    "start_time": "2022-04-19T18:53:39.095Z"
   },
   {
    "duration": 135,
    "start_time": "2022-04-19T18:54:32.550Z"
   },
   {
    "duration": 818,
    "start_time": "2022-04-19T18:56:39.231Z"
   },
   {
    "duration": 69,
    "start_time": "2022-04-19T18:58:22.747Z"
   },
   {
    "duration": 11,
    "start_time": "2022-04-19T18:58:27.491Z"
   },
   {
    "duration": 1457,
    "start_time": "2022-04-19T18:58:28.516Z"
   },
   {
    "duration": 10,
    "start_time": "2022-04-19T18:59:07.721Z"
   },
   {
    "duration": 767,
    "start_time": "2022-04-19T18:59:08.266Z"
   },
   {
    "duration": 16,
    "start_time": "2022-04-19T19:01:27.717Z"
   },
   {
    "duration": 22,
    "start_time": "2022-04-19T19:01:55.004Z"
   },
   {
    "duration": 30,
    "start_time": "2022-04-19T19:02:57.845Z"
   },
   {
    "duration": 16,
    "start_time": "2022-04-19T19:08:37.786Z"
   },
   {
    "duration": 23,
    "start_time": "2022-04-19T19:09:10.859Z"
   },
   {
    "duration": 24,
    "start_time": "2022-04-19T19:11:16.193Z"
   },
   {
    "duration": 22,
    "start_time": "2022-04-19T19:11:25.969Z"
   },
   {
    "duration": 23,
    "start_time": "2022-04-19T19:11:44.261Z"
   },
   {
    "duration": 6,
    "start_time": "2022-04-19T19:14:34.488Z"
   },
   {
    "duration": 8,
    "start_time": "2022-04-19T19:14:40.230Z"
   },
   {
    "duration": 13,
    "start_time": "2022-04-19T19:14:50.719Z"
   },
   {
    "duration": 7,
    "start_time": "2022-04-19T19:14:56.909Z"
   },
   {
    "duration": 4,
    "start_time": "2022-04-19T19:15:00.265Z"
   },
   {
    "duration": 5,
    "start_time": "2022-04-19T19:15:07.134Z"
   },
   {
    "duration": 5,
    "start_time": "2022-04-19T19:15:12.766Z"
   },
   {
    "duration": 12,
    "start_time": "2022-04-19T19:15:36.166Z"
   },
   {
    "duration": 3071,
    "start_time": "2022-04-19T19:15:53.080Z"
   },
   {
    "duration": 8,
    "start_time": "2022-04-19T19:16:05.832Z"
   },
   {
    "duration": 9,
    "start_time": "2022-04-19T19:16:12.076Z"
   },
   {
    "duration": 6,
    "start_time": "2022-04-19T19:16:15.217Z"
   },
   {
    "duration": 3210,
    "start_time": "2022-04-19T19:16:26.008Z"
   },
   {
    "duration": 5,
    "start_time": "2022-04-19T19:16:36.939Z"
   },
   {
    "duration": 753,
    "start_time": "2022-04-19T19:17:08.775Z"
   },
   {
    "duration": 22,
    "start_time": "2022-04-19T19:17:26.618Z"
   },
   {
    "duration": 3030,
    "start_time": "2022-04-19T19:17:43.411Z"
   },
   {
    "duration": 5,
    "start_time": "2022-04-19T19:17:52.335Z"
   },
   {
    "duration": 6,
    "start_time": "2022-04-19T19:18:05.439Z"
   },
   {
    "duration": 21,
    "start_time": "2022-04-19T19:19:02.888Z"
   },
   {
    "duration": 6,
    "start_time": "2022-04-19T19:19:15.877Z"
   },
   {
    "duration": 6,
    "start_time": "2022-04-19T19:19:35.357Z"
   },
   {
    "duration": 11,
    "start_time": "2022-04-19T19:19:42.772Z"
   },
   {
    "duration": 238,
    "start_time": "2022-04-19T19:19:49.998Z"
   },
   {
    "duration": 6,
    "start_time": "2022-04-19T19:19:54.690Z"
   },
   {
    "duration": 10,
    "start_time": "2022-04-19T19:20:00.695Z"
   },
   {
    "duration": 6,
    "start_time": "2022-04-19T19:20:07.266Z"
   },
   {
    "duration": 5,
    "start_time": "2022-04-19T19:20:11.579Z"
   },
   {
    "duration": 7,
    "start_time": "2022-04-19T19:20:18.219Z"
   },
   {
    "duration": 4,
    "start_time": "2022-04-19T19:20:24.184Z"
   },
   {
    "duration": 5,
    "start_time": "2022-04-19T19:20:30.952Z"
   },
   {
    "duration": 6,
    "start_time": "2022-04-19T19:20:47.308Z"
   },
   {
    "duration": 7,
    "start_time": "2022-04-19T19:21:03.911Z"
   },
   {
    "duration": 6,
    "start_time": "2022-04-19T19:21:11.641Z"
   },
   {
    "duration": 9,
    "start_time": "2022-04-19T19:21:26.006Z"
   },
   {
    "duration": 9,
    "start_time": "2022-04-19T19:21:29.392Z"
   },
   {
    "duration": 6,
    "start_time": "2022-04-19T19:21:34.699Z"
   },
   {
    "duration": 22,
    "start_time": "2022-04-19T19:21:54.922Z"
   },
   {
    "duration": 9,
    "start_time": "2022-04-19T19:23:52.942Z"
   },
   {
    "duration": 12,
    "start_time": "2022-04-19T19:24:03.354Z"
   },
   {
    "duration": 29,
    "start_time": "2022-04-19T19:25:16.118Z"
   },
   {
    "duration": 7,
    "start_time": "2022-04-19T19:25:23.622Z"
   },
   {
    "duration": 37,
    "start_time": "2022-04-19T19:25:27.617Z"
   },
   {
    "duration": 14,
    "start_time": "2022-04-19T19:26:03.978Z"
   },
   {
    "duration": 202,
    "start_time": "2022-04-19T19:26:19.844Z"
   },
   {
    "duration": 18,
    "start_time": "2022-04-19T19:26:26.257Z"
   },
   {
    "duration": 10,
    "start_time": "2022-04-19T19:26:35.655Z"
   },
   {
    "duration": 8,
    "start_time": "2022-04-19T19:26:44.838Z"
   },
   {
    "duration": 1513,
    "start_time": "2022-04-19T19:27:07.390Z"
   },
   {
    "duration": 10,
    "start_time": "2022-04-19T19:27:46.803Z"
   },
   {
    "duration": 12,
    "start_time": "2022-04-19T19:27:51.490Z"
   },
   {
    "duration": 13,
    "start_time": "2022-04-19T19:27:55.604Z"
   },
   {
    "duration": 10,
    "start_time": "2022-04-19T19:27:59.094Z"
   },
   {
    "duration": 10,
    "start_time": "2022-04-19T19:28:03.378Z"
   },
   {
    "duration": 15,
    "start_time": "2022-04-19T19:28:27.708Z"
   },
   {
    "duration": 14,
    "start_time": "2022-04-19T19:29:25.920Z"
   },
   {
    "duration": 13,
    "start_time": "2022-04-19T19:29:40.443Z"
   },
   {
    "duration": 39,
    "start_time": "2022-04-19T19:29:54.893Z"
   },
   {
    "duration": 13,
    "start_time": "2022-04-19T19:30:16.991Z"
   },
   {
    "duration": 12,
    "start_time": "2022-04-19T19:30:26.306Z"
   },
   {
    "duration": 12,
    "start_time": "2022-04-19T19:30:50.584Z"
   },
   {
    "duration": 15,
    "start_time": "2022-04-19T19:30:55.619Z"
   },
   {
    "duration": 45,
    "start_time": "2022-04-19T19:31:56.502Z"
   },
   {
    "duration": 14,
    "start_time": "2022-04-19T19:32:47.461Z"
   },
   {
    "duration": 16,
    "start_time": "2022-04-19T19:32:52.767Z"
   },
   {
    "duration": 127,
    "start_time": "2022-04-19T19:33:22.199Z"
   },
   {
    "duration": 199,
    "start_time": "2022-04-19T19:33:31.554Z"
   },
   {
    "duration": 117,
    "start_time": "2022-04-19T19:34:55.017Z"
   },
   {
    "duration": 35,
    "start_time": "2022-04-19T19:36:02.267Z"
   },
   {
    "duration": 38,
    "start_time": "2022-04-19T19:36:24.437Z"
   },
   {
    "duration": 6,
    "start_time": "2022-04-19T19:41:53.849Z"
   },
   {
    "duration": 38,
    "start_time": "2022-04-19T19:44:05.851Z"
   },
   {
    "duration": 62,
    "start_time": "2022-04-19T19:44:15.367Z"
   },
   {
    "duration": 15,
    "start_time": "2022-04-19T19:44:31.890Z"
   },
   {
    "duration": 7,
    "start_time": "2022-04-19T19:45:08.023Z"
   },
   {
    "duration": 8767,
    "start_time": "2022-04-19T19:46:25.644Z"
   },
   {
    "duration": 138,
    "start_time": "2022-04-19T19:46:42.274Z"
   },
   {
    "duration": 548,
    "start_time": "2022-04-19T19:46:53.054Z"
   },
   {
    "duration": 191,
    "start_time": "2022-04-19T19:47:25.472Z"
   },
   {
    "duration": 1068,
    "start_time": "2022-04-19T19:47:30.842Z"
   },
   {
    "duration": 742,
    "start_time": "2022-04-19T19:48:59.006Z"
   },
   {
    "duration": 1105,
    "start_time": "2022-04-19T19:49:11.006Z"
   },
   {
    "duration": 1094,
    "start_time": "2022-04-19T19:49:51.268Z"
   },
   {
    "duration": 1190,
    "start_time": "2022-04-19T19:52:01.070Z"
   },
   {
    "duration": 1313,
    "start_time": "2022-04-19T19:52:55.050Z"
   },
   {
    "duration": 10,
    "start_time": "2022-04-19T19:56:17.941Z"
   },
   {
    "duration": 9,
    "start_time": "2022-04-19T19:58:25.025Z"
   },
   {
    "duration": 199,
    "start_time": "2022-04-19T19:59:03.370Z"
   },
   {
    "duration": 106,
    "start_time": "2022-04-19T19:59:15.521Z"
   },
   {
    "duration": 121,
    "start_time": "2022-04-19T19:59:19.441Z"
   },
   {
    "duration": 147,
    "start_time": "2022-04-19T19:59:47.273Z"
   },
   {
    "duration": 478,
    "start_time": "2022-04-19T20:00:01.771Z"
   },
   {
    "duration": 400,
    "start_time": "2022-04-19T20:00:48.710Z"
   },
   {
    "duration": 35,
    "start_time": "2022-04-19T20:01:52.832Z"
   },
   {
    "duration": 1321,
    "start_time": "2022-04-19T20:02:46.567Z"
   },
   {
    "duration": 11,
    "start_time": "2022-04-19T20:03:54.905Z"
   },
   {
    "duration": 127,
    "start_time": "2022-04-19T20:04:57.909Z"
   },
   {
    "duration": 128,
    "start_time": "2022-04-19T20:05:27.847Z"
   },
   {
    "duration": 220,
    "start_time": "2022-04-19T20:06:02.142Z"
   },
   {
    "duration": 229,
    "start_time": "2022-04-19T20:07:31.890Z"
   },
   {
    "duration": 51,
    "start_time": "2022-04-20T11:21:51.134Z"
   },
   {
    "duration": 883,
    "start_time": "2022-04-20T11:21:58.077Z"
   },
   {
    "duration": 84,
    "start_time": "2022-04-20T11:21:58.963Z"
   },
   {
    "duration": 38,
    "start_time": "2022-04-20T11:21:59.049Z"
   },
   {
    "duration": 17,
    "start_time": "2022-04-20T11:21:59.089Z"
   },
   {
    "duration": 5,
    "start_time": "2022-04-20T11:21:59.108Z"
   },
   {
    "duration": 10,
    "start_time": "2022-04-20T11:21:59.115Z"
   },
   {
    "duration": 18,
    "start_time": "2022-04-20T11:21:59.127Z"
   },
   {
    "duration": 51,
    "start_time": "2022-04-20T11:21:59.146Z"
   },
   {
    "duration": 7,
    "start_time": "2022-04-20T11:21:59.199Z"
   },
   {
    "duration": 8,
    "start_time": "2022-04-20T11:21:59.208Z"
   },
   {
    "duration": 406,
    "start_time": "2022-04-20T11:21:59.218Z"
   },
   {
    "duration": 277,
    "start_time": "2022-04-20T11:21:59.625Z"
   },
   {
    "duration": 10,
    "start_time": "2022-04-20T11:21:59.904Z"
   },
   {
    "duration": 9,
    "start_time": "2022-04-20T11:21:59.918Z"
   },
   {
    "duration": 5,
    "start_time": "2022-04-20T11:21:59.928Z"
   },
   {
    "duration": 13,
    "start_time": "2022-04-20T11:21:59.934Z"
   },
   {
    "duration": 38,
    "start_time": "2022-04-20T11:21:59.948Z"
   },
   {
    "duration": 4,
    "start_time": "2022-04-20T11:21:59.988Z"
   },
   {
    "duration": 4435,
    "start_time": "2022-04-20T11:21:59.993Z"
   },
   {
    "duration": 5,
    "start_time": "2022-04-20T11:22:04.430Z"
   },
   {
    "duration": 12,
    "start_time": "2022-04-20T11:22:04.437Z"
   },
   {
    "duration": 23,
    "start_time": "2022-04-20T11:22:04.451Z"
   },
   {
    "duration": 7,
    "start_time": "2022-04-20T11:22:04.476Z"
   },
   {
    "duration": 10,
    "start_time": "2022-04-20T11:22:04.485Z"
   },
   {
    "duration": 317,
    "start_time": "2022-04-20T11:22:04.497Z"
   },
   {
    "duration": 10,
    "start_time": "2022-04-20T11:22:04.816Z"
   },
   {
    "duration": 20,
    "start_time": "2022-04-20T11:22:04.828Z"
   },
   {
    "duration": 12,
    "start_time": "2022-04-20T11:22:04.849Z"
   },
   {
    "duration": 7,
    "start_time": "2022-04-20T11:22:04.873Z"
   },
   {
    "duration": 8,
    "start_time": "2022-04-20T11:22:04.882Z"
   },
   {
    "duration": 14,
    "start_time": "2022-04-20T11:22:04.891Z"
   },
   {
    "duration": 15,
    "start_time": "2022-04-20T11:22:04.906Z"
   },
   {
    "duration": 8,
    "start_time": "2022-04-20T11:22:04.923Z"
   },
   {
    "duration": 48,
    "start_time": "2022-04-20T11:22:04.932Z"
   },
   {
    "duration": 3,
    "start_time": "2022-04-20T11:22:04.982Z"
   },
   {
    "duration": 286,
    "start_time": "2022-04-20T11:22:04.987Z"
   },
   {
    "duration": 6,
    "start_time": "2022-04-20T11:22:05.275Z"
   },
   {
    "duration": 52,
    "start_time": "2022-04-20T11:22:05.282Z"
   },
   {
    "duration": 955,
    "start_time": "2022-04-20T11:22:05.336Z"
   },
   {
    "duration": 255,
    "start_time": "2022-04-20T11:22:06.293Z"
   },
   {
    "duration": 258,
    "start_time": "2022-04-20T11:22:06.552Z"
   },
   {
    "duration": 9,
    "start_time": "2022-04-20T11:22:06.812Z"
   },
   {
    "duration": 270,
    "start_time": "2022-04-20T11:22:06.823Z"
   },
   {
    "duration": 16,
    "start_time": "2022-04-20T11:22:07.095Z"
   },
   {
    "duration": 11,
    "start_time": "2022-04-20T11:22:07.113Z"
   },
   {
    "duration": 933,
    "start_time": "2022-04-20T11:22:07.125Z"
   },
   {
    "duration": 14,
    "start_time": "2022-04-20T11:22:08.060Z"
   },
   {
    "duration": 1647,
    "start_time": "2022-04-20T11:22:08.075Z"
   },
   {
    "duration": 172,
    "start_time": "2022-04-20T11:22:09.723Z"
   },
   {
    "duration": 27,
    "start_time": "2022-04-20T11:22:09.896Z"
   },
   {
    "duration": 14,
    "start_time": "2022-04-20T11:22:09.925Z"
   },
   {
    "duration": 307,
    "start_time": "2022-04-20T11:22:09.941Z"
   },
   {
    "duration": 7,
    "start_time": "2022-04-20T11:22:10.250Z"
   },
   {
    "duration": 1660,
    "start_time": "2022-04-20T11:22:10.272Z"
   },
   {
    "duration": 12,
    "start_time": "2022-04-20T11:22:11.934Z"
   },
   {
    "duration": 162,
    "start_time": "2022-04-20T11:22:11.947Z"
   },
   {
    "duration": 43,
    "start_time": "2022-04-20T11:22:12.111Z"
   },
   {
    "duration": 28,
    "start_time": "2022-04-20T11:22:12.156Z"
   },
   {
    "duration": 907,
    "start_time": "2022-04-20T11:40:54.258Z"
   },
   {
    "duration": 299,
    "start_time": "2022-04-20T11:42:16.276Z"
   },
   {
    "duration": 1664,
    "start_time": "2022-04-20T11:42:25.153Z"
   },
   {
    "duration": 1608,
    "start_time": "2022-04-20T11:46:32.305Z"
   },
   {
    "duration": 10,
    "start_time": "2022-04-20T11:54:02.801Z"
   },
   {
    "duration": 7,
    "start_time": "2022-04-20T11:54:12.820Z"
   },
   {
    "duration": 31,
    "start_time": "2022-04-20T13:05:46.850Z"
   },
   {
    "duration": 31,
    "start_time": "2022-04-20T13:09:11.967Z"
   },
   {
    "duration": 28,
    "start_time": "2022-04-20T13:09:28.661Z"
   },
   {
    "duration": 42,
    "start_time": "2022-04-20T13:12:03.938Z"
   },
   {
    "duration": 42,
    "start_time": "2022-04-20T13:12:38.787Z"
   },
   {
    "duration": 11,
    "start_time": "2022-04-20T13:27:02.923Z"
   },
   {
    "duration": 40,
    "start_time": "2022-04-20T13:27:09.302Z"
   },
   {
    "duration": 47,
    "start_time": "2022-04-20T13:27:31.006Z"
   },
   {
    "duration": 117,
    "start_time": "2022-04-20T13:27:45.703Z"
   },
   {
    "duration": 33,
    "start_time": "2022-04-20T13:27:57.552Z"
   },
   {
    "duration": 37,
    "start_time": "2022-04-20T13:28:10.297Z"
   },
   {
    "duration": 41,
    "start_time": "2022-04-20T13:28:24.537Z"
   },
   {
    "duration": 28,
    "start_time": "2022-04-20T13:29:28.926Z"
   },
   {
    "duration": 28,
    "start_time": "2022-04-20T13:33:51.881Z"
   },
   {
    "duration": 298,
    "start_time": "2022-04-20T13:37:55.888Z"
   },
   {
    "duration": 290,
    "start_time": "2022-04-20T13:40:04.551Z"
   },
   {
    "duration": 561,
    "start_time": "2022-04-20T13:40:11.511Z"
   },
   {
    "duration": 321,
    "start_time": "2022-04-20T13:40:19.595Z"
   },
   {
    "duration": 798,
    "start_time": "2022-04-20T15:43:52.234Z"
   },
   {
    "duration": 77,
    "start_time": "2022-04-20T15:43:53.035Z"
   },
   {
    "duration": 36,
    "start_time": "2022-04-20T15:43:53.113Z"
   },
   {
    "duration": 14,
    "start_time": "2022-04-20T15:43:53.151Z"
   },
   {
    "duration": 4,
    "start_time": "2022-04-20T15:43:53.167Z"
   },
   {
    "duration": 11,
    "start_time": "2022-04-20T15:43:53.173Z"
   },
   {
    "duration": 11,
    "start_time": "2022-04-20T15:43:53.186Z"
   },
   {
    "duration": 43,
    "start_time": "2022-04-20T15:43:53.199Z"
   },
   {
    "duration": 7,
    "start_time": "2022-04-20T15:43:53.243Z"
   },
   {
    "duration": 8,
    "start_time": "2022-04-20T15:43:53.251Z"
   },
   {
    "duration": 349,
    "start_time": "2022-04-20T15:43:53.260Z"
   },
   {
    "duration": 246,
    "start_time": "2022-04-20T15:43:53.610Z"
   },
   {
    "duration": 8,
    "start_time": "2022-04-20T15:43:53.857Z"
   },
   {
    "duration": 27,
    "start_time": "2022-04-20T15:43:53.868Z"
   },
   {
    "duration": 21,
    "start_time": "2022-04-20T15:43:53.897Z"
   },
   {
    "duration": 40,
    "start_time": "2022-04-20T15:43:53.919Z"
   },
   {
    "duration": 39,
    "start_time": "2022-04-20T15:43:53.961Z"
   },
   {
    "duration": 31,
    "start_time": "2022-04-20T15:43:54.001Z"
   },
   {
    "duration": 3921,
    "start_time": "2022-04-20T15:43:54.034Z"
   },
   {
    "duration": 4,
    "start_time": "2022-04-20T15:43:57.956Z"
   },
   {
    "duration": 5,
    "start_time": "2022-04-20T15:43:57.962Z"
   },
   {
    "duration": 7,
    "start_time": "2022-04-20T15:43:57.969Z"
   },
   {
    "duration": 5,
    "start_time": "2022-04-20T15:43:57.977Z"
   },
   {
    "duration": 7,
    "start_time": "2022-04-20T15:43:57.984Z"
   },
   {
    "duration": 313,
    "start_time": "2022-04-20T15:43:57.992Z"
   },
   {
    "duration": 26,
    "start_time": "2022-04-20T15:43:58.306Z"
   },
   {
    "duration": 11,
    "start_time": "2022-04-20T15:43:58.333Z"
   },
   {
    "duration": 9,
    "start_time": "2022-04-20T15:43:58.345Z"
   },
   {
    "duration": 5,
    "start_time": "2022-04-20T15:43:58.356Z"
   },
   {
    "duration": 4,
    "start_time": "2022-04-20T15:43:58.363Z"
   },
   {
    "duration": 8,
    "start_time": "2022-04-20T15:43:58.368Z"
   },
   {
    "duration": 10,
    "start_time": "2022-04-20T15:43:58.378Z"
   },
   {
    "duration": 6,
    "start_time": "2022-04-20T15:43:58.390Z"
   },
   {
    "duration": 16,
    "start_time": "2022-04-20T15:43:58.432Z"
   },
   {
    "duration": 3,
    "start_time": "2022-04-20T15:43:58.450Z"
   },
   {
    "duration": 284,
    "start_time": "2022-04-20T15:43:58.455Z"
   },
   {
    "duration": 5,
    "start_time": "2022-04-20T15:43:58.741Z"
   },
   {
    "duration": 24,
    "start_time": "2022-04-20T15:43:58.748Z"
   },
   {
    "duration": 1454,
    "start_time": "2022-04-20T15:43:58.773Z"
   },
   {
    "duration": 321,
    "start_time": "2022-04-20T15:44:00.229Z"
   },
   {
    "duration": 230,
    "start_time": "2022-04-20T15:44:00.555Z"
   },
   {
    "duration": 9,
    "start_time": "2022-04-20T15:44:00.787Z"
   },
   {
    "duration": 313,
    "start_time": "2022-04-20T15:44:00.798Z"
   },
   {
    "duration": 27,
    "start_time": "2022-04-20T15:44:01.113Z"
   },
   {
    "duration": 24,
    "start_time": "2022-04-20T15:44:01.142Z"
   },
   {
    "duration": 904,
    "start_time": "2022-04-20T15:44:01.168Z"
   },
   {
    "duration": 12,
    "start_time": "2022-04-20T15:44:02.074Z"
   },
   {
    "duration": 1476,
    "start_time": "2022-04-20T15:44:02.088Z"
   },
   {
    "duration": 236,
    "start_time": "2022-04-20T15:44:03.566Z"
   },
   {
    "duration": 34,
    "start_time": "2022-04-20T15:44:03.804Z"
   },
   {
    "duration": 13,
    "start_time": "2022-04-20T15:44:03.840Z"
   },
   {
    "duration": 308,
    "start_time": "2022-04-20T15:44:03.854Z"
   },
   {
    "duration": 26,
    "start_time": "2022-04-20T15:44:04.163Z"
   },
   {
    "duration": 6,
    "start_time": "2022-04-20T15:44:04.191Z"
   },
   {
    "duration": 1474,
    "start_time": "2022-04-20T15:44:04.199Z"
   },
   {
    "duration": 9,
    "start_time": "2022-04-20T15:44:05.675Z"
   },
   {
    "duration": 123,
    "start_time": "2022-04-20T15:44:05.686Z"
   },
   {
    "duration": 49,
    "start_time": "2022-04-20T15:44:05.810Z"
   },
   {
    "duration": 10,
    "start_time": "2022-04-20T15:44:05.861Z"
   },
   {
    "duration": 363,
    "start_time": "2022-04-20T15:44:36.737Z"
   },
   {
    "duration": 299,
    "start_time": "2022-04-20T15:45:20.336Z"
   },
   {
    "duration": 32,
    "start_time": "2022-04-20T15:48:00.118Z"
   },
   {
    "duration": 9,
    "start_time": "2022-04-20T17:21:44.266Z"
   },
   {
    "duration": 1399,
    "start_time": "2022-04-20T17:22:19.145Z"
   },
   {
    "duration": 15,
    "start_time": "2022-04-20T17:22:49.702Z"
   },
   {
    "duration": 71,
    "start_time": "2022-04-21T09:23:46.687Z"
   },
   {
    "duration": 1126,
    "start_time": "2022-04-21T09:24:25.982Z"
   },
   {
    "duration": 110,
    "start_time": "2022-04-21T09:24:27.112Z"
   },
   {
    "duration": 43,
    "start_time": "2022-04-21T09:24:27.224Z"
   },
   {
    "duration": 34,
    "start_time": "2022-04-21T09:24:27.269Z"
   },
   {
    "duration": 6,
    "start_time": "2022-04-21T09:24:27.306Z"
   },
   {
    "duration": 16,
    "start_time": "2022-04-21T09:24:27.314Z"
   },
   {
    "duration": 50,
    "start_time": "2022-04-21T09:24:27.333Z"
   },
   {
    "duration": 46,
    "start_time": "2022-04-21T09:24:27.386Z"
   },
   {
    "duration": 13,
    "start_time": "2022-04-21T09:24:27.434Z"
   },
   {
    "duration": 34,
    "start_time": "2022-04-21T09:24:27.450Z"
   },
   {
    "duration": 634,
    "start_time": "2022-04-21T09:24:27.487Z"
   },
   {
    "duration": 494,
    "start_time": "2022-04-21T09:24:28.123Z"
   },
   {
    "duration": 13,
    "start_time": "2022-04-21T09:24:28.619Z"
   },
   {
    "duration": 20,
    "start_time": "2022-04-21T09:24:28.636Z"
   },
   {
    "duration": 27,
    "start_time": "2022-04-21T09:24:28.658Z"
   },
   {
    "duration": 8,
    "start_time": "2022-04-21T09:24:28.687Z"
   },
   {
    "duration": 22,
    "start_time": "2022-04-21T09:24:28.697Z"
   },
   {
    "duration": 5,
    "start_time": "2022-04-21T09:24:28.721Z"
   },
   {
    "duration": 7144,
    "start_time": "2022-04-21T09:24:28.728Z"
   },
   {
    "duration": 8,
    "start_time": "2022-04-21T09:24:35.875Z"
   },
   {
    "duration": 9,
    "start_time": "2022-04-21T09:24:35.885Z"
   },
   {
    "duration": 11,
    "start_time": "2022-04-21T09:24:35.896Z"
   },
   {
    "duration": 7,
    "start_time": "2022-04-21T09:24:35.909Z"
   },
   {
    "duration": 24,
    "start_time": "2022-04-21T09:24:35.918Z"
   },
   {
    "duration": 500,
    "start_time": "2022-04-21T09:24:35.945Z"
   },
   {
    "duration": 13,
    "start_time": "2022-04-21T09:24:36.447Z"
   },
   {
    "duration": 21,
    "start_time": "2022-04-21T09:24:36.462Z"
   },
   {
    "duration": 19,
    "start_time": "2022-04-21T09:24:36.485Z"
   },
   {
    "duration": 10,
    "start_time": "2022-04-21T09:24:36.506Z"
   },
   {
    "duration": 14,
    "start_time": "2022-04-21T09:24:36.518Z"
   },
   {
    "duration": 14,
    "start_time": "2022-04-21T09:24:36.535Z"
   },
   {
    "duration": 45,
    "start_time": "2022-04-21T09:24:36.551Z"
   },
   {
    "duration": 10,
    "start_time": "2022-04-21T09:24:36.599Z"
   },
   {
    "duration": 30,
    "start_time": "2022-04-21T09:24:36.611Z"
   },
   {
    "duration": 4,
    "start_time": "2022-04-21T09:24:36.644Z"
   },
   {
    "duration": 515,
    "start_time": "2022-04-21T09:24:36.650Z"
   },
   {
    "duration": 15,
    "start_time": "2022-04-21T09:24:37.167Z"
   },
   {
    "duration": 57,
    "start_time": "2022-04-21T09:24:37.184Z"
   },
   {
    "duration": 2627,
    "start_time": "2022-04-21T09:24:37.243Z"
   },
   {
    "duration": 389,
    "start_time": "2022-04-21T09:24:39.872Z"
   },
   {
    "duration": 385,
    "start_time": "2022-04-21T09:24:40.267Z"
   },
   {
    "duration": 11,
    "start_time": "2022-04-21T09:24:40.654Z"
   },
   {
    "duration": 484,
    "start_time": "2022-04-21T09:24:40.667Z"
   },
   {
    "duration": 14,
    "start_time": "2022-04-21T09:24:41.153Z"
   },
   {
    "duration": 1484,
    "start_time": "2022-04-21T09:24:41.182Z"
   },
   {
    "duration": 16,
    "start_time": "2022-04-21T09:24:42.669Z"
   },
   {
    "duration": 2488,
    "start_time": "2022-04-21T09:24:42.687Z"
   },
   {
    "duration": 363,
    "start_time": "2022-04-21T09:24:45.177Z"
   },
   {
    "duration": 49,
    "start_time": "2022-04-21T09:24:45.542Z"
   },
   {
    "duration": 18,
    "start_time": "2022-04-21T09:24:45.593Z"
   },
   {
    "duration": 531,
    "start_time": "2022-04-21T09:24:45.614Z"
   },
   {
    "duration": 62,
    "start_time": "2022-04-21T09:24:46.147Z"
   },
   {
    "duration": 10,
    "start_time": "2022-04-21T09:24:46.211Z"
   },
   {
    "duration": 2538,
    "start_time": "2022-04-21T09:24:46.223Z"
   },
   {
    "duration": 28,
    "start_time": "2022-04-21T09:24:48.763Z"
   },
   {
    "duration": 221,
    "start_time": "2022-04-21T09:24:48.794Z"
   },
   {
    "duration": 18,
    "start_time": "2022-04-21T09:24:49.018Z"
   },
   {
    "duration": 298,
    "start_time": "2022-04-21T09:25:24.690Z"
   },
   {
    "duration": 368,
    "start_time": "2022-04-21T09:26:51.651Z"
   },
   {
    "duration": 503,
    "start_time": "2022-04-21T09:27:04.306Z"
   },
   {
    "duration": 320,
    "start_time": "2022-04-21T09:27:41.954Z"
   },
   {
    "duration": 717,
    "start_time": "2022-04-21T09:27:52.467Z"
   },
   {
    "duration": 400,
    "start_time": "2022-04-21T09:27:57.451Z"
   },
   {
    "duration": 420,
    "start_time": "2022-04-21T09:28:26.988Z"
   },
   {
    "duration": 334,
    "start_time": "2022-04-21T09:28:32.518Z"
   },
   {
    "duration": 316,
    "start_time": "2022-04-21T09:28:44.002Z"
   },
   {
    "duration": 1471,
    "start_time": "2022-04-21T17:08:14.229Z"
   },
   {
    "duration": 152,
    "start_time": "2022-04-21T17:08:15.704Z"
   },
   {
    "duration": 74,
    "start_time": "2022-04-21T17:08:15.859Z"
   },
   {
    "duration": 53,
    "start_time": "2022-04-21T17:08:15.936Z"
   },
   {
    "duration": 7,
    "start_time": "2022-04-21T17:08:15.994Z"
   },
   {
    "duration": 22,
    "start_time": "2022-04-21T17:08:16.004Z"
   },
   {
    "duration": 19,
    "start_time": "2022-04-21T17:08:16.030Z"
   },
   {
    "duration": 101,
    "start_time": "2022-04-21T17:08:16.052Z"
   },
   {
    "duration": 26,
    "start_time": "2022-04-21T17:08:16.157Z"
   },
   {
    "duration": 8,
    "start_time": "2022-04-21T17:08:16.185Z"
   },
   {
    "duration": 635,
    "start_time": "2022-04-21T17:08:16.195Z"
   },
   {
    "duration": 398,
    "start_time": "2022-04-21T17:08:16.832Z"
   },
   {
    "duration": 14,
    "start_time": "2022-04-21T17:08:17.233Z"
   },
   {
    "duration": 35,
    "start_time": "2022-04-21T17:08:17.253Z"
   },
   {
    "duration": 7,
    "start_time": "2022-04-21T17:08:17.291Z"
   },
   {
    "duration": 7,
    "start_time": "2022-04-21T17:08:17.303Z"
   },
   {
    "duration": 21,
    "start_time": "2022-04-21T17:08:17.312Z"
   },
   {
    "duration": 4,
    "start_time": "2022-04-21T17:08:17.335Z"
   },
   {
    "duration": 7004,
    "start_time": "2022-04-21T17:08:17.382Z"
   },
   {
    "duration": 5,
    "start_time": "2022-04-21T17:08:24.389Z"
   },
   {
    "duration": 9,
    "start_time": "2022-04-21T17:08:24.396Z"
   },
   {
    "duration": 20,
    "start_time": "2022-04-21T17:08:24.408Z"
   },
   {
    "duration": 8,
    "start_time": "2022-04-21T17:08:24.430Z"
   },
   {
    "duration": 49,
    "start_time": "2022-04-21T17:08:24.439Z"
   },
   {
    "duration": 467,
    "start_time": "2022-04-21T17:08:24.490Z"
   },
   {
    "duration": 23,
    "start_time": "2022-04-21T17:08:24.959Z"
   },
   {
    "duration": 7,
    "start_time": "2022-04-21T17:08:24.984Z"
   },
   {
    "duration": 13,
    "start_time": "2022-04-21T17:08:24.994Z"
   },
   {
    "duration": 8,
    "start_time": "2022-04-21T17:08:25.010Z"
   },
   {
    "duration": 9,
    "start_time": "2022-04-21T17:08:25.020Z"
   },
   {
    "duration": 51,
    "start_time": "2022-04-21T17:08:25.031Z"
   },
   {
    "duration": 19,
    "start_time": "2022-04-21T17:08:25.084Z"
   },
   {
    "duration": 10,
    "start_time": "2022-04-21T17:08:25.106Z"
   },
   {
    "duration": 22,
    "start_time": "2022-04-21T17:08:25.118Z"
   },
   {
    "duration": 4,
    "start_time": "2022-04-21T17:08:25.142Z"
   },
   {
    "duration": 512,
    "start_time": "2022-04-21T17:08:25.149Z"
   },
   {
    "duration": 7,
    "start_time": "2022-04-21T17:08:25.664Z"
   },
   {
    "duration": 40,
    "start_time": "2022-04-21T17:08:25.681Z"
   },
   {
    "duration": 2539,
    "start_time": "2022-04-21T17:08:25.723Z"
   },
   {
    "duration": 671,
    "start_time": "2022-04-21T17:08:28.264Z"
   },
   {
    "duration": 409,
    "start_time": "2022-04-21T17:08:28.941Z"
   },
   {
    "duration": 14,
    "start_time": "2022-04-21T17:08:29.352Z"
   },
   {
    "duration": 339,
    "start_time": "2022-04-21T17:08:29.382Z"
   },
   {
    "duration": 20,
    "start_time": "2022-04-21T17:08:29.723Z"
   },
   {
    "duration": 4093,
    "start_time": "2022-04-21T17:08:29.745Z"
   },
   {
    "duration": 15,
    "start_time": "2022-04-21T17:08:33.841Z"
   },
   {
    "duration": 2547,
    "start_time": "2022-04-21T17:08:33.858Z"
   },
   {
    "duration": 274,
    "start_time": "2022-04-21T17:08:36.407Z"
   },
   {
    "duration": 36,
    "start_time": "2022-04-21T17:08:36.683Z"
   },
   {
    "duration": 21,
    "start_time": "2022-04-21T17:08:36.721Z"
   },
   {
    "duration": 574,
    "start_time": "2022-04-21T17:08:36.744Z"
   },
   {
    "duration": 61,
    "start_time": "2022-04-21T17:08:37.321Z"
   },
   {
    "duration": 10,
    "start_time": "2022-04-21T17:08:37.384Z"
   },
   {
    "duration": 2819,
    "start_time": "2022-04-21T17:08:37.396Z"
   },
   {
    "duration": 15,
    "start_time": "2022-04-21T17:08:40.217Z"
   },
   {
    "duration": 260,
    "start_time": "2022-04-21T17:08:40.283Z"
   },
   {
    "duration": 15,
    "start_time": "2022-04-21T17:08:40.545Z"
   },
   {
    "duration": 18,
    "start_time": "2022-04-21T17:15:36.740Z"
   },
   {
    "duration": 3771,
    "start_time": "2022-04-21T17:25:27.680Z"
   },
   {
    "duration": 16,
    "start_time": "2022-04-21T17:41:50.273Z"
   },
   {
    "duration": 17,
    "start_time": "2022-04-21T17:42:34.922Z"
   },
   {
    "duration": 888,
    "start_time": "2022-04-21T18:11:59.363Z"
   },
   {
    "duration": 106,
    "start_time": "2022-04-21T18:12:00.254Z"
   },
   {
    "duration": 48,
    "start_time": "2022-04-21T18:12:00.362Z"
   },
   {
    "duration": 22,
    "start_time": "2022-04-21T18:12:00.413Z"
   },
   {
    "duration": 8,
    "start_time": "2022-04-21T18:12:00.438Z"
   },
   {
    "duration": 42,
    "start_time": "2022-04-21T18:12:00.448Z"
   },
   {
    "duration": 15,
    "start_time": "2022-04-21T18:12:00.493Z"
   },
   {
    "duration": 50,
    "start_time": "2022-04-21T18:12:00.510Z"
   },
   {
    "duration": 27,
    "start_time": "2022-04-21T18:12:00.563Z"
   },
   {
    "duration": 10,
    "start_time": "2022-04-21T18:12:00.596Z"
   },
   {
    "duration": 650,
    "start_time": "2022-04-21T18:12:00.609Z"
   },
   {
    "duration": 411,
    "start_time": "2022-04-21T18:12:01.261Z"
   },
   {
    "duration": 18,
    "start_time": "2022-04-21T18:12:01.674Z"
   },
   {
    "duration": 23,
    "start_time": "2022-04-21T18:12:01.695Z"
   },
   {
    "duration": 13,
    "start_time": "2022-04-21T18:12:01.721Z"
   },
   {
    "duration": 27,
    "start_time": "2022-04-21T18:12:01.737Z"
   },
   {
    "duration": 28,
    "start_time": "2022-04-21T18:12:01.766Z"
   },
   {
    "duration": 10,
    "start_time": "2022-04-21T18:12:01.797Z"
   },
   {
    "duration": 7895,
    "start_time": "2022-04-21T18:12:01.810Z"
   },
   {
    "duration": 6,
    "start_time": "2022-04-21T18:12:09.708Z"
   },
   {
    "duration": 14,
    "start_time": "2022-04-21T18:12:09.716Z"
   },
   {
    "duration": 12,
    "start_time": "2022-04-21T18:12:09.731Z"
   },
   {
    "duration": 37,
    "start_time": "2022-04-21T18:12:09.746Z"
   },
   {
    "duration": 11,
    "start_time": "2022-04-21T18:12:09.785Z"
   },
   {
    "duration": 500,
    "start_time": "2022-04-21T18:12:09.798Z"
   },
   {
    "duration": 14,
    "start_time": "2022-04-21T18:12:10.300Z"
   },
   {
    "duration": 10,
    "start_time": "2022-04-21T18:12:10.316Z"
   },
   {
    "duration": 11,
    "start_time": "2022-04-21T18:12:10.333Z"
   },
   {
    "duration": 41,
    "start_time": "2022-04-21T18:12:10.346Z"
   },
   {
    "duration": 5,
    "start_time": "2022-04-21T18:12:10.389Z"
   },
   {
    "duration": 12,
    "start_time": "2022-04-21T18:12:10.396Z"
   },
   {
    "duration": 18,
    "start_time": "2022-04-21T18:12:10.411Z"
   },
   {
    "duration": 10,
    "start_time": "2022-04-21T18:12:10.432Z"
   },
   {
    "duration": 18,
    "start_time": "2022-04-21T18:12:10.482Z"
   },
   {
    "duration": 4,
    "start_time": "2022-04-21T18:12:10.503Z"
   },
   {
    "duration": 499,
    "start_time": "2022-04-21T18:12:10.509Z"
   },
   {
    "duration": 8,
    "start_time": "2022-04-21T18:12:11.010Z"
   },
   {
    "duration": 72,
    "start_time": "2022-04-21T18:12:11.020Z"
   },
   {
    "duration": 2576,
    "start_time": "2022-04-21T18:12:11.095Z"
   },
   {
    "duration": 640,
    "start_time": "2022-04-21T18:12:13.673Z"
   },
   {
    "duration": 412,
    "start_time": "2022-04-21T18:12:14.316Z"
   },
   {
    "duration": 12,
    "start_time": "2022-04-21T18:12:14.731Z"
   },
   {
    "duration": 362,
    "start_time": "2022-04-21T18:12:14.745Z"
   },
   {
    "duration": 19,
    "start_time": "2022-04-21T18:12:15.109Z"
   },
   {
    "duration": 3700,
    "start_time": "2022-04-21T18:12:15.130Z"
   },
   {
    "duration": 17,
    "start_time": "2022-04-21T18:12:18.833Z"
   },
   {
    "duration": 3816,
    "start_time": "2022-04-21T18:12:18.852Z"
   },
   {
    "duration": 261,
    "start_time": "2022-04-21T18:12:22.681Z"
   },
   {
    "duration": 48,
    "start_time": "2022-04-21T18:12:22.944Z"
   },
   {
    "duration": 20,
    "start_time": "2022-04-21T18:12:22.994Z"
   },
   {
    "duration": 538,
    "start_time": "2022-04-21T18:12:23.016Z"
   },
   {
    "duration": 57,
    "start_time": "2022-04-21T18:12:23.556Z"
   },
   {
    "duration": 9,
    "start_time": "2022-04-21T18:12:23.615Z"
   },
   {
    "duration": 2826,
    "start_time": "2022-04-21T18:12:23.627Z"
   },
   {
    "duration": 29,
    "start_time": "2022-04-21T18:12:26.455Z"
   },
   {
    "duration": 214,
    "start_time": "2022-04-21T18:12:26.486Z"
   },
   {
    "duration": 16,
    "start_time": "2022-04-21T18:12:26.703Z"
   },
   {
    "duration": 65,
    "start_time": "2022-04-24T13:28:41.151Z"
   },
   {
    "duration": 782,
    "start_time": "2022-04-24T13:29:02.739Z"
   },
   {
    "duration": 77,
    "start_time": "2022-04-24T13:29:03.523Z"
   },
   {
    "duration": 30,
    "start_time": "2022-04-24T13:29:03.601Z"
   },
   {
    "duration": 16,
    "start_time": "2022-04-24T13:29:03.633Z"
   },
   {
    "duration": 4,
    "start_time": "2022-04-24T13:29:03.651Z"
   },
   {
    "duration": 9,
    "start_time": "2022-04-24T13:29:03.656Z"
   },
   {
    "duration": 7,
    "start_time": "2022-04-24T13:29:03.667Z"
   },
   {
    "duration": 28,
    "start_time": "2022-04-24T13:29:03.708Z"
   },
   {
    "duration": 6,
    "start_time": "2022-04-24T13:29:03.738Z"
   },
   {
    "duration": 6,
    "start_time": "2022-04-24T13:29:03.747Z"
   },
   {
    "duration": 415,
    "start_time": "2022-04-24T13:29:03.755Z"
   },
   {
    "duration": 255,
    "start_time": "2022-04-24T13:29:04.172Z"
   },
   {
    "duration": 9,
    "start_time": "2022-04-24T13:29:04.429Z"
   },
   {
    "duration": 9,
    "start_time": "2022-04-24T13:29:04.439Z"
   },
   {
    "duration": 4,
    "start_time": "2022-04-24T13:29:04.449Z"
   },
   {
    "duration": 7,
    "start_time": "2022-04-24T13:29:04.455Z"
   },
   {
    "duration": 16,
    "start_time": "2022-04-24T13:29:04.463Z"
   },
   {
    "duration": 28,
    "start_time": "2022-04-24T13:29:04.480Z"
   },
   {
    "duration": 4379,
    "start_time": "2022-04-24T13:29:04.509Z"
   },
   {
    "duration": 3,
    "start_time": "2022-04-24T13:29:08.890Z"
   },
   {
    "duration": 12,
    "start_time": "2022-04-24T13:29:08.895Z"
   },
   {
    "duration": 8,
    "start_time": "2022-04-24T13:29:08.909Z"
   },
   {
    "duration": 5,
    "start_time": "2022-04-24T13:29:08.919Z"
   },
   {
    "duration": 9,
    "start_time": "2022-04-24T13:29:08.925Z"
   },
   {
    "duration": 322,
    "start_time": "2022-04-24T13:29:08.935Z"
   },
   {
    "duration": 9,
    "start_time": "2022-04-24T13:29:09.259Z"
   },
   {
    "duration": 8,
    "start_time": "2022-04-24T13:29:09.270Z"
   },
   {
    "duration": 26,
    "start_time": "2022-04-24T13:29:09.282Z"
   },
   {
    "duration": 6,
    "start_time": "2022-04-24T13:29:09.310Z"
   },
   {
    "duration": 17,
    "start_time": "2022-04-24T13:29:09.317Z"
   },
   {
    "duration": 12,
    "start_time": "2022-04-24T13:29:09.336Z"
   },
   {
    "duration": 28,
    "start_time": "2022-04-24T13:29:09.350Z"
   },
   {
    "duration": 8,
    "start_time": "2022-04-24T13:29:09.380Z"
   },
   {
    "duration": 18,
    "start_time": "2022-04-24T13:29:09.390Z"
   },
   {
    "duration": 3,
    "start_time": "2022-04-24T13:29:09.409Z"
   },
   {
    "duration": 290,
    "start_time": "2022-04-24T13:29:09.414Z"
   },
   {
    "duration": 6,
    "start_time": "2022-04-24T13:29:09.706Z"
   },
   {
    "duration": 27,
    "start_time": "2022-04-24T13:29:09.714Z"
   },
   {
    "duration": 1703,
    "start_time": "2022-04-24T13:29:09.743Z"
   },
   {
    "duration": 248,
    "start_time": "2022-04-24T13:29:11.448Z"
   },
   {
    "duration": 249,
    "start_time": "2022-04-24T13:29:11.698Z"
   },
   {
    "duration": 9,
    "start_time": "2022-04-24T13:29:11.949Z"
   },
   {
    "duration": 232,
    "start_time": "2022-04-24T13:29:11.960Z"
   },
   {
    "duration": 20,
    "start_time": "2022-04-24T13:29:12.193Z"
   },
   {
    "duration": 2402,
    "start_time": "2022-04-24T13:29:12.214Z"
   },
   {
    "duration": 13,
    "start_time": "2022-04-24T13:29:14.618Z"
   },
   {
    "duration": 2571,
    "start_time": "2022-04-24T13:29:14.633Z"
   },
   {
    "duration": 180,
    "start_time": "2022-04-24T13:29:17.205Z"
   },
   {
    "duration": 45,
    "start_time": "2022-04-24T13:29:17.387Z"
   },
   {
    "duration": 16,
    "start_time": "2022-04-24T13:29:17.434Z"
   },
   {
    "duration": 359,
    "start_time": "2022-04-24T13:29:17.452Z"
   },
   {
    "duration": 29,
    "start_time": "2022-04-24T13:29:17.812Z"
   },
   {
    "duration": 8,
    "start_time": "2022-04-24T13:29:17.843Z"
   },
   {
    "duration": 1718,
    "start_time": "2022-04-24T13:29:17.853Z"
   },
   {
    "duration": 12,
    "start_time": "2022-04-24T13:29:19.573Z"
   },
   {
    "duration": 145,
    "start_time": "2022-04-24T13:29:19.587Z"
   },
   {
    "duration": 10,
    "start_time": "2022-04-24T13:29:19.734Z"
   }
  ],
  "kernelspec": {
   "display_name": "Python 3 (ipykernel)",
   "language": "python",
   "name": "python3"
  },
  "language_info": {
   "codemirror_mode": {
    "name": "ipython",
    "version": 3
   },
   "file_extension": ".py",
   "mimetype": "text/x-python",
   "name": "python",
   "nbconvert_exporter": "python",
   "pygments_lexer": "ipython3",
   "version": "3.9.7"
  },
  "toc": {
   "base_numbering": 1,
   "nav_menu": {},
   "number_sections": true,
   "sideBar": true,
   "skip_h1_title": true,
   "title_cell": "Содержание",
   "title_sidebar": "Contents",
   "toc_cell": true,
   "toc_position": {
    "height": "calc(100% - 180px)",
    "left": "10px",
    "top": "150px",
    "width": "165px"
   },
   "toc_section_display": true,
   "toc_window_display": true
  }
 },
 "nbformat": 4,
 "nbformat_minor": 4
}
